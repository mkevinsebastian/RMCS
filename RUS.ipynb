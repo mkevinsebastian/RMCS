{
  "cells": [
    {
      "cell_type": "markdown",
      "metadata": {
        "id": "OMa6Lyj68w0e"
      },
      "source": [
        "# **Starting Set-up**"
      ]
    },
    {
      "cell_type": "code",
      "execution_count": null,
      "metadata": {
        "id": "u4PWDhnbg1Pf",
        "colab": {
          "base_uri": "https://localhost:8080/"
        },
        "outputId": "f46bfa82-6815-4795-e3a4-2d632e91831b"
      },
      "outputs": [
        {
          "output_type": "stream",
          "name": "stdout",
          "text": [
            "Looking in indexes: https://pypi.org/simple, https://us-python.pkg.dev/colab-wheels/public/simple/\n",
            "Collecting transformers\n",
            "  Downloading transformers-4.29.2-py3-none-any.whl (7.1 MB)\n",
            "\u001b[2K     \u001b[90m━━━━━━━━━━━━━━━━━━━━━━━━━━━━━━━━━━━━━━━━\u001b[0m \u001b[32m7.1/7.1 MB\u001b[0m \u001b[31m51.2 MB/s\u001b[0m eta \u001b[36m0:00:00\u001b[0m\n",
            "\u001b[?25hRequirement already satisfied: filelock in /usr/local/lib/python3.10/dist-packages (from transformers) (3.12.0)\n",
            "Collecting huggingface-hub<1.0,>=0.14.1 (from transformers)\n",
            "  Downloading huggingface_hub-0.14.1-py3-none-any.whl (224 kB)\n",
            "\u001b[2K     \u001b[90m━━━━━━━━━━━━━━━━━━━━━━━━━━━━━━━━━━━━━━\u001b[0m \u001b[32m224.5/224.5 kB\u001b[0m \u001b[31m19.8 MB/s\u001b[0m eta \u001b[36m0:00:00\u001b[0m\n",
            "\u001b[?25hRequirement already satisfied: numpy>=1.17 in /usr/local/lib/python3.10/dist-packages (from transformers) (1.22.4)\n",
            "Requirement already satisfied: packaging>=20.0 in /usr/local/lib/python3.10/dist-packages (from transformers) (23.1)\n",
            "Requirement already satisfied: pyyaml>=5.1 in /usr/local/lib/python3.10/dist-packages (from transformers) (6.0)\n",
            "Requirement already satisfied: regex!=2019.12.17 in /usr/local/lib/python3.10/dist-packages (from transformers) (2022.10.31)\n",
            "Requirement already satisfied: requests in /usr/local/lib/python3.10/dist-packages (from transformers) (2.27.1)\n",
            "Collecting tokenizers!=0.11.3,<0.14,>=0.11.1 (from transformers)\n",
            "  Downloading tokenizers-0.13.3-cp310-cp310-manylinux_2_17_x86_64.manylinux2014_x86_64.whl (7.8 MB)\n",
            "\u001b[2K     \u001b[90m━━━━━━━━━━━━━━━━━━━━━━━━━━━━━━━━━━━━━━━━\u001b[0m \u001b[32m7.8/7.8 MB\u001b[0m \u001b[31m62.9 MB/s\u001b[0m eta \u001b[36m0:00:00\u001b[0m\n",
            "\u001b[?25hRequirement already satisfied: tqdm>=4.27 in /usr/local/lib/python3.10/dist-packages (from transformers) (4.65.0)\n",
            "Requirement already satisfied: fsspec in /usr/local/lib/python3.10/dist-packages (from huggingface-hub<1.0,>=0.14.1->transformers) (2023.4.0)\n",
            "Requirement already satisfied: typing-extensions>=3.7.4.3 in /usr/local/lib/python3.10/dist-packages (from huggingface-hub<1.0,>=0.14.1->transformers) (4.5.0)\n",
            "Requirement already satisfied: urllib3<1.27,>=1.21.1 in /usr/local/lib/python3.10/dist-packages (from requests->transformers) (1.26.15)\n",
            "Requirement already satisfied: certifi>=2017.4.17 in /usr/local/lib/python3.10/dist-packages (from requests->transformers) (2022.12.7)\n",
            "Requirement already satisfied: charset-normalizer~=2.0.0 in /usr/local/lib/python3.10/dist-packages (from requests->transformers) (2.0.12)\n",
            "Requirement already satisfied: idna<4,>=2.5 in /usr/local/lib/python3.10/dist-packages (from requests->transformers) (3.4)\n",
            "Installing collected packages: tokenizers, huggingface-hub, transformers\n",
            "Successfully installed huggingface-hub-0.14.1 tokenizers-0.13.3 transformers-4.29.2\n",
            "Looking in indexes: https://pypi.org/simple, https://us-python.pkg.dev/colab-wheels/public/simple/\n",
            "Requirement already satisfied: PyDrive in /usr/local/lib/python3.10/dist-packages (1.3.1)\n",
            "Requirement already satisfied: google-api-python-client>=1.2 in /usr/local/lib/python3.10/dist-packages (from PyDrive) (2.84.0)\n",
            "Requirement already satisfied: oauth2client>=4.0.0 in /usr/local/lib/python3.10/dist-packages (from PyDrive) (4.1.3)\n",
            "Requirement already satisfied: PyYAML>=3.0 in /usr/local/lib/python3.10/dist-packages (from PyDrive) (6.0)\n",
            "Requirement already satisfied: httplib2<1dev,>=0.15.0 in /usr/local/lib/python3.10/dist-packages (from google-api-python-client>=1.2->PyDrive) (0.21.0)\n",
            "Requirement already satisfied: google-auth<3.0.0dev,>=1.19.0 in /usr/local/lib/python3.10/dist-packages (from google-api-python-client>=1.2->PyDrive) (2.17.3)\n",
            "Requirement already satisfied: google-auth-httplib2>=0.1.0 in /usr/local/lib/python3.10/dist-packages (from google-api-python-client>=1.2->PyDrive) (0.1.0)\n",
            "Requirement already satisfied: google-api-core!=2.0.*,!=2.1.*,!=2.2.*,!=2.3.0,<3.0.0dev,>=1.31.5 in /usr/local/lib/python3.10/dist-packages (from google-api-python-client>=1.2->PyDrive) (2.11.0)\n",
            "Requirement already satisfied: uritemplate<5,>=3.0.1 in /usr/local/lib/python3.10/dist-packages (from google-api-python-client>=1.2->PyDrive) (4.1.1)\n",
            "Requirement already satisfied: pyasn1>=0.1.7 in /usr/local/lib/python3.10/dist-packages (from oauth2client>=4.0.0->PyDrive) (0.5.0)\n",
            "Requirement already satisfied: pyasn1-modules>=0.0.5 in /usr/local/lib/python3.10/dist-packages (from oauth2client>=4.0.0->PyDrive) (0.3.0)\n",
            "Requirement already satisfied: rsa>=3.1.4 in /usr/local/lib/python3.10/dist-packages (from oauth2client>=4.0.0->PyDrive) (4.9)\n",
            "Requirement already satisfied: six>=1.6.1 in /usr/local/lib/python3.10/dist-packages (from oauth2client>=4.0.0->PyDrive) (1.16.0)\n",
            "Requirement already satisfied: googleapis-common-protos<2.0dev,>=1.56.2 in /usr/local/lib/python3.10/dist-packages (from google-api-core!=2.0.*,!=2.1.*,!=2.2.*,!=2.3.0,<3.0.0dev,>=1.31.5->google-api-python-client>=1.2->PyDrive) (1.59.0)\n",
            "Requirement already satisfied: protobuf!=3.20.0,!=3.20.1,!=4.21.0,!=4.21.1,!=4.21.2,!=4.21.3,!=4.21.4,!=4.21.5,<5.0.0dev,>=3.19.5 in /usr/local/lib/python3.10/dist-packages (from google-api-core!=2.0.*,!=2.1.*,!=2.2.*,!=2.3.0,<3.0.0dev,>=1.31.5->google-api-python-client>=1.2->PyDrive) (3.20.3)\n",
            "Requirement already satisfied: requests<3.0.0dev,>=2.18.0 in /usr/local/lib/python3.10/dist-packages (from google-api-core!=2.0.*,!=2.1.*,!=2.2.*,!=2.3.0,<3.0.0dev,>=1.31.5->google-api-python-client>=1.2->PyDrive) (2.27.1)\n",
            "Requirement already satisfied: cachetools<6.0,>=2.0.0 in /usr/local/lib/python3.10/dist-packages (from google-auth<3.0.0dev,>=1.19.0->google-api-python-client>=1.2->PyDrive) (5.3.0)\n",
            "Requirement already satisfied: pyparsing!=3.0.0,!=3.0.1,!=3.0.2,!=3.0.3,<4,>=2.4.2 in /usr/local/lib/python3.10/dist-packages (from httplib2<1dev,>=0.15.0->google-api-python-client>=1.2->PyDrive) (3.0.9)\n",
            "Requirement already satisfied: urllib3<1.27,>=1.21.1 in /usr/local/lib/python3.10/dist-packages (from requests<3.0.0dev,>=2.18.0->google-api-core!=2.0.*,!=2.1.*,!=2.2.*,!=2.3.0,<3.0.0dev,>=1.31.5->google-api-python-client>=1.2->PyDrive) (1.26.15)\n",
            "Requirement already satisfied: certifi>=2017.4.17 in /usr/local/lib/python3.10/dist-packages (from requests<3.0.0dev,>=2.18.0->google-api-core!=2.0.*,!=2.1.*,!=2.2.*,!=2.3.0,<3.0.0dev,>=1.31.5->google-api-python-client>=1.2->PyDrive) (2022.12.7)\n",
            "Requirement already satisfied: charset-normalizer~=2.0.0 in /usr/local/lib/python3.10/dist-packages (from requests<3.0.0dev,>=2.18.0->google-api-core!=2.0.*,!=2.1.*,!=2.2.*,!=2.3.0,<3.0.0dev,>=1.31.5->google-api-python-client>=1.2->PyDrive) (2.0.12)\n",
            "Requirement already satisfied: idna<4,>=2.5 in /usr/local/lib/python3.10/dist-packages (from requests<3.0.0dev,>=2.18.0->google-api-core!=2.0.*,!=2.1.*,!=2.2.*,!=2.3.0,<3.0.0dev,>=1.31.5->google-api-python-client>=1.2->PyDrive) (3.4)\n",
            "Looking in indexes: https://pypi.org/simple, https://us-python.pkg.dev/colab-wheels/public/simple/\n",
            "Requirement already satisfied: tensorflow in /usr/local/lib/python3.10/dist-packages (2.12.0)\n",
            "Requirement already satisfied: absl-py>=1.0.0 in /usr/local/lib/python3.10/dist-packages (from tensorflow) (1.4.0)\n",
            "Requirement already satisfied: astunparse>=1.6.0 in /usr/local/lib/python3.10/dist-packages (from tensorflow) (1.6.3)\n",
            "Requirement already satisfied: flatbuffers>=2.0 in /usr/local/lib/python3.10/dist-packages (from tensorflow) (23.3.3)\n",
            "Requirement already satisfied: gast<=0.4.0,>=0.2.1 in /usr/local/lib/python3.10/dist-packages (from tensorflow) (0.4.0)\n",
            "Requirement already satisfied: google-pasta>=0.1.1 in /usr/local/lib/python3.10/dist-packages (from tensorflow) (0.2.0)\n",
            "Requirement already satisfied: grpcio<2.0,>=1.24.3 in /usr/local/lib/python3.10/dist-packages (from tensorflow) (1.54.0)\n",
            "Requirement already satisfied: h5py>=2.9.0 in /usr/local/lib/python3.10/dist-packages (from tensorflow) (3.8.0)\n",
            "Requirement already satisfied: jax>=0.3.15 in /usr/local/lib/python3.10/dist-packages (from tensorflow) (0.4.10)\n",
            "Requirement already satisfied: keras<2.13,>=2.12.0 in /usr/local/lib/python3.10/dist-packages (from tensorflow) (2.12.0)\n",
            "Requirement already satisfied: libclang>=13.0.0 in /usr/local/lib/python3.10/dist-packages (from tensorflow) (16.0.0)\n",
            "Requirement already satisfied: numpy<1.24,>=1.22 in /usr/local/lib/python3.10/dist-packages (from tensorflow) (1.22.4)\n",
            "Requirement already satisfied: opt-einsum>=2.3.2 in /usr/local/lib/python3.10/dist-packages (from tensorflow) (3.3.0)\n",
            "Requirement already satisfied: packaging in /usr/local/lib/python3.10/dist-packages (from tensorflow) (23.1)\n",
            "Requirement already satisfied: protobuf!=4.21.0,!=4.21.1,!=4.21.2,!=4.21.3,!=4.21.4,!=4.21.5,<5.0.0dev,>=3.20.3 in /usr/local/lib/python3.10/dist-packages (from tensorflow) (3.20.3)\n",
            "Requirement already satisfied: setuptools in /usr/local/lib/python3.10/dist-packages (from tensorflow) (67.7.2)\n",
            "Requirement already satisfied: six>=1.12.0 in /usr/local/lib/python3.10/dist-packages (from tensorflow) (1.16.0)\n",
            "Requirement already satisfied: tensorboard<2.13,>=2.12 in /usr/local/lib/python3.10/dist-packages (from tensorflow) (2.12.2)\n",
            "Requirement already satisfied: tensorflow-estimator<2.13,>=2.12.0 in /usr/local/lib/python3.10/dist-packages (from tensorflow) (2.12.0)\n",
            "Requirement already satisfied: termcolor>=1.1.0 in /usr/local/lib/python3.10/dist-packages (from tensorflow) (2.3.0)\n",
            "Requirement already satisfied: typing-extensions>=3.6.6 in /usr/local/lib/python3.10/dist-packages (from tensorflow) (4.5.0)\n",
            "Requirement already satisfied: wrapt<1.15,>=1.11.0 in /usr/local/lib/python3.10/dist-packages (from tensorflow) (1.14.1)\n",
            "Requirement already satisfied: tensorflow-io-gcs-filesystem>=0.23.1 in /usr/local/lib/python3.10/dist-packages (from tensorflow) (0.32.0)\n",
            "Requirement already satisfied: wheel<1.0,>=0.23.0 in /usr/local/lib/python3.10/dist-packages (from astunparse>=1.6.0->tensorflow) (0.40.0)\n",
            "Requirement already satisfied: ml-dtypes>=0.1.0 in /usr/local/lib/python3.10/dist-packages (from jax>=0.3.15->tensorflow) (0.1.0)\n",
            "Requirement already satisfied: scipy>=1.7 in /usr/local/lib/python3.10/dist-packages (from jax>=0.3.15->tensorflow) (1.10.1)\n",
            "Requirement already satisfied: google-auth<3,>=1.6.3 in /usr/local/lib/python3.10/dist-packages (from tensorboard<2.13,>=2.12->tensorflow) (2.17.3)\n",
            "Requirement already satisfied: google-auth-oauthlib<1.1,>=0.5 in /usr/local/lib/python3.10/dist-packages (from tensorboard<2.13,>=2.12->tensorflow) (1.0.0)\n",
            "Requirement already satisfied: markdown>=2.6.8 in /usr/local/lib/python3.10/dist-packages (from tensorboard<2.13,>=2.12->tensorflow) (3.4.3)\n",
            "Requirement already satisfied: requests<3,>=2.21.0 in /usr/local/lib/python3.10/dist-packages (from tensorboard<2.13,>=2.12->tensorflow) (2.27.1)\n",
            "Requirement already satisfied: tensorboard-data-server<0.8.0,>=0.7.0 in /usr/local/lib/python3.10/dist-packages (from tensorboard<2.13,>=2.12->tensorflow) (0.7.0)\n",
            "Requirement already satisfied: tensorboard-plugin-wit>=1.6.0 in /usr/local/lib/python3.10/dist-packages (from tensorboard<2.13,>=2.12->tensorflow) (1.8.1)\n",
            "Requirement already satisfied: werkzeug>=1.0.1 in /usr/local/lib/python3.10/dist-packages (from tensorboard<2.13,>=2.12->tensorflow) (2.3.0)\n",
            "Requirement already satisfied: cachetools<6.0,>=2.0.0 in /usr/local/lib/python3.10/dist-packages (from google-auth<3,>=1.6.3->tensorboard<2.13,>=2.12->tensorflow) (5.3.0)\n",
            "Requirement already satisfied: pyasn1-modules>=0.2.1 in /usr/local/lib/python3.10/dist-packages (from google-auth<3,>=1.6.3->tensorboard<2.13,>=2.12->tensorflow) (0.3.0)\n",
            "Requirement already satisfied: rsa<5,>=3.1.4 in /usr/local/lib/python3.10/dist-packages (from google-auth<3,>=1.6.3->tensorboard<2.13,>=2.12->tensorflow) (4.9)\n",
            "Requirement already satisfied: requests-oauthlib>=0.7.0 in /usr/local/lib/python3.10/dist-packages (from google-auth-oauthlib<1.1,>=0.5->tensorboard<2.13,>=2.12->tensorflow) (1.3.1)\n",
            "Requirement already satisfied: urllib3<1.27,>=1.21.1 in /usr/local/lib/python3.10/dist-packages (from requests<3,>=2.21.0->tensorboard<2.13,>=2.12->tensorflow) (1.26.15)\n",
            "Requirement already satisfied: certifi>=2017.4.17 in /usr/local/lib/python3.10/dist-packages (from requests<3,>=2.21.0->tensorboard<2.13,>=2.12->tensorflow) (2022.12.7)\n",
            "Requirement already satisfied: charset-normalizer~=2.0.0 in /usr/local/lib/python3.10/dist-packages (from requests<3,>=2.21.0->tensorboard<2.13,>=2.12->tensorflow) (2.0.12)\n",
            "Requirement already satisfied: idna<4,>=2.5 in /usr/local/lib/python3.10/dist-packages (from requests<3,>=2.21.0->tensorboard<2.13,>=2.12->tensorflow) (3.4)\n",
            "Requirement already satisfied: MarkupSafe>=2.1.1 in /usr/local/lib/python3.10/dist-packages (from werkzeug>=1.0.1->tensorboard<2.13,>=2.12->tensorflow) (2.1.2)\n",
            "Requirement already satisfied: pyasn1<0.6.0,>=0.4.6 in /usr/local/lib/python3.10/dist-packages (from pyasn1-modules>=0.2.1->google-auth<3,>=1.6.3->tensorboard<2.13,>=2.12->tensorflow) (0.5.0)\n",
            "Requirement already satisfied: oauthlib>=3.0.0 in /usr/local/lib/python3.10/dist-packages (from requests-oauthlib>=0.7.0->google-auth-oauthlib<1.1,>=0.5->tensorboard<2.13,>=2.12->tensorflow) (3.2.2)\n"
          ]
        }
      ],
      "source": [
        "# Install Required Libs\n",
        "#======================\n",
        "!pip install transformers\n",
        "!pip install PyDrive\n",
        "!pip install tensorflow"
      ]
    },
    {
      "cell_type": "code",
      "execution_count": null,
      "metadata": {
        "id": "m_NPCOxBhQJV"
      },
      "outputs": [],
      "source": [
        "# Import Required Packages\n",
        "#=========================\n",
        "\n",
        "# General Purpose Packages\n",
        "import numpy as np\n",
        "import pandas as pd\n",
        "import tensorflow as tf\n",
        "import matplotlib.pyplot as plt\n",
        "import seaborn as sns\n",
        "from sklearn import preprocessing\n",
        "# from imblearn.over_sampling import RandomOverSampler\n",
        "# from sklearn.model_selection import train_test_split\n",
        "\n",
        "# # Naive Bayes\n",
        "# from sklearn.feature_extraction.text import CountVectorizer\n",
        "# from sklearn.feature_extraction.text import TfidfTransformer\n",
        "# from sklearn.naive_bayes import MultinomialNB\n",
        "\n",
        "# Transformers Model & Tokenizer\n",
        "from transformers import BertTokenizer, TFBertForSequenceClassification\n",
        "\n",
        "# Transformers Function for Create Input Example & Input Feature\n",
        "from transformers import InputExample, InputFeatures\n",
        "\n",
        "# Keras\n",
        "import tensorflow as tf\n",
        "from tensorflow import keras\n",
        "\n",
        "# Model Evaluation Metrics\n",
        "from sklearn.metrics import classification_report, confusion_matrix, accuracy_score, f1_score\n",
        "import itertools"
      ]
    },
    {
      "cell_type": "markdown",
      "source": [
        "## Connect to G-Drive"
      ],
      "metadata": {
        "id": "4y2tNDKYCULj"
      }
    },
    {
      "cell_type": "code",
      "source": [
        "from google.colab import drive\n",
        "drive.mount('/content/gdrive')"
      ],
      "metadata": {
        "colab": {
          "base_uri": "https://localhost:8080/"
        },
        "id": "KtvHEtuNLfBO",
        "outputId": "8cdeb583-bd19-4a81-ac31-44216683b320"
      },
      "execution_count": null,
      "outputs": [
        {
          "output_type": "stream",
          "name": "stdout",
          "text": [
            "Mounted at /content/gdrive\n"
          ]
        }
      ]
    },
    {
      "cell_type": "markdown",
      "source": [
        "# **Define Model & Tokenizer**"
      ],
      "metadata": {
        "id": "AL0fsvCCCLUy"
      }
    },
    {
      "cell_type": "code",
      "execution_count": null,
      "metadata": {
        "id": "E9wIlp9ihVh9",
        "colab": {
          "base_uri": "https://localhost:8080/",
          "referenced_widgets": [
            "74893a371c294de09e77b3293385837f",
            "eb9af0f06a974330a56b4f139466c5db",
            "c3bb58e95c534f0b900a696f282ea791",
            "c2bc44aecce44f7f83c38e3f295874eb",
            "a5e48376056042bfa4336c6c82c156ba",
            "9bf6138005fd4b61b1b060487eb6485b",
            "5b5483738feb41c298ecffde435ba812",
            "2cd38523195c4a2d9679e0a9918b1212",
            "af7c9b29976d4a07bb202757fb0adf60",
            "9d05a6170fc84f029b475375fbbcc6c9",
            "4b892247b18b49b0b4e6ddcdedf02e03",
            "49cfa95679d8452f983f1dcacedf354d",
            "34d0af68189845db9a7b6008ba818c15",
            "f8b6b1975e5441ffac343b9c32a1bdc8",
            "ae6cc22f27d243c08f8882205cc44dda",
            "716f69be6a204adfaf55af74602c43ab",
            "d4990f16298e4743bee6a0b7e4a80886",
            "9c39a302e1aa42bd8414bdd0c4fcbbe4",
            "22770800ccea45d4bf2fb8cb9863c490",
            "aca1728c654a4e8fbaa05e11ce1a2d4e",
            "847b505f4c004d149cb311fb5a28bc3f",
            "c000607cc4bf4319a9f9e86556893a32"
          ]
        },
        "outputId": "fbda5e88-69cb-45c4-e278-d9bb5550c5ff"
      },
      "outputs": [
        {
          "output_type": "display_data",
          "data": {
            "text/plain": [
              "Downloading (…)lve/main/config.json:   0%|          | 0.00/570 [00:00<?, ?B/s]"
            ],
            "application/vnd.jupyter.widget-view+json": {
              "version_major": 2,
              "version_minor": 0,
              "model_id": "74893a371c294de09e77b3293385837f"
            }
          },
          "metadata": {}
        },
        {
          "output_type": "display_data",
          "data": {
            "text/plain": [
              "Downloading pytorch_model.bin:   0%|          | 0.00/440M [00:00<?, ?B/s]"
            ],
            "application/vnd.jupyter.widget-view+json": {
              "version_major": 2,
              "version_minor": 0,
              "model_id": "49cfa95679d8452f983f1dcacedf354d"
            }
          },
          "metadata": {}
        },
        {
          "output_type": "stream",
          "name": "stderr",
          "text": [
            "All PyTorch model weights were used when initializing TFBertForSequenceClassification.\n",
            "\n",
            "Some weights or buffers of the TF 2.0 model TFBertForSequenceClassification were not initialized from the PyTorch model and are newly initialized: ['classifier.weight', 'classifier.bias']\n",
            "You should probably TRAIN this model on a down-stream task to be able to use it for predictions and inference.\n"
          ]
        }
      ],
      "source": [
        "# Define Model\n",
        "#=============\n",
        "model = TFBertForSequenceClassification.from_pretrained(\"bert-base-uncased\",  \n",
        "                                                        from_pt = True,\n",
        "                                                        num_labels = 3)       # Set jumlah kelas / label yang akan diprediksi model"
      ]
    },
    {
      "cell_type": "code",
      "source": [
        "# Define Tokenizer\n",
        "#=================\n",
        "tokenizer = BertTokenizer.from_pretrained(\"bert-base-uncased\")"
      ],
      "metadata": {
        "id": "0ozTCTfcCO15",
        "colab": {
          "base_uri": "https://localhost:8080/",
          "referenced_widgets": [
            "8991633121274b3cba9730e73a22b554",
            "419ff36da1fc4bba94b110501a7f966d",
            "1fab7167a6774f158158c7ec59bec793",
            "a92d08cdc6f04c80b652799a9c766294",
            "d0aaeaf9e9bf44939d83a17bfb0664b1",
            "e18b45a18bf746eeaaa321e5ea0683b1",
            "50786adeebf74da58066965e44b0f478",
            "6c404b7745a94cc184b7fceba219f74e",
            "89ef81fe3de64dce949b2f80e23ca525",
            "fdfe379697c84c028991dddfcf567990",
            "2833dd6a99a440378981cd9df5ad32d8",
            "40dde869192447b4bca5ca6916b1bad0",
            "bc298ed23677496ebf45c955bf0166e2",
            "9b02cbfae87446809384f0b60f178b5c",
            "8c4b5784396149d484c66e0ea7889667",
            "b3cd13ec539044c0bd12c98599d12a3a",
            "38db80bb485b43f1a7eaa78301f54829",
            "1b6068761365403db6ff0bc6304ee454",
            "84a621adf8b14e37b1cb85713df0dfd2",
            "86baca63133e47a38fe3dd962e55524c",
            "21a3ba69d0c94dd8bc4afd364544b95e",
            "176cc23c4b6f430990fcd2f5148e4119"
          ]
        },
        "outputId": "9c886c46-dc4a-493d-b97d-1302309ce581"
      },
      "execution_count": null,
      "outputs": [
        {
          "output_type": "display_data",
          "data": {
            "text/plain": [
              "Downloading (…)solve/main/vocab.txt:   0%|          | 0.00/232k [00:00<?, ?B/s]"
            ],
            "application/vnd.jupyter.widget-view+json": {
              "version_major": 2,
              "version_minor": 0,
              "model_id": "8991633121274b3cba9730e73a22b554"
            }
          },
          "metadata": {}
        },
        {
          "output_type": "display_data",
          "data": {
            "text/plain": [
              "Downloading (…)okenizer_config.json:   0%|          | 0.00/28.0 [00:00<?, ?B/s]"
            ],
            "application/vnd.jupyter.widget-view+json": {
              "version_major": 2,
              "version_minor": 0,
              "model_id": "40dde869192447b4bca5ca6916b1bad0"
            }
          },
          "metadata": {}
        }
      ]
    },
    {
      "cell_type": "code",
      "execution_count": null,
      "metadata": {
        "id": "X5EAgFT2-W9t",
        "colab": {
          "base_uri": "https://localhost:8080/"
        },
        "outputId": "659564b6-81cc-405d-f31c-dbe4b9326f58"
      },
      "outputs": [
        {
          "output_type": "stream",
          "name": "stdout",
          "text": [
            "Model: \"tf_bert_for_sequence_classification\"\n",
            "_________________________________________________________________\n",
            " Layer (type)                Output Shape              Param #   \n",
            "=================================================================\n",
            " bert (TFBertMainLayer)      multiple                  109482240 \n",
            "                                                                 \n",
            " dropout_37 (Dropout)        multiple                  0         \n",
            "                                                                 \n",
            " classifier (Dense)          multiple                  2307      \n",
            "                                                                 \n",
            "=================================================================\n",
            "Total params: 109,484,547\n",
            "Trainable params: 109,484,547\n",
            "Non-trainable params: 0\n",
            "_________________________________________________________________\n"
          ]
        }
      ],
      "source": [
        "# Get Model Information\n",
        "#======================\n",
        "model.summary()"
      ]
    },
    {
      "cell_type": "markdown",
      "metadata": {
        "id": "gFNP17Ju9hz-"
      },
      "source": [
        "# **Data Pre-processing**"
      ]
    },
    {
      "cell_type": "code",
      "source": [
        "# Define URLs for Data from G-Drive\n",
        "#==================================\n",
        "proj_path = '/content/gdrive/MyDrive/data/'"
      ],
      "metadata": {
        "id": "Ort78ZPsNUcl"
      },
      "execution_count": null,
      "outputs": []
    },
    {
      "cell_type": "markdown",
      "metadata": {
        "id": "P_nqR94--_d8"
      },
      "source": [
        "## Train Data"
      ]
    },
    {
      "cell_type": "code",
      "execution_count": null,
      "metadata": {
        "colab": {
          "base_uri": "https://localhost:8080/"
        },
        "id": "4XVM8pwmh5OS",
        "outputId": "1c75a495-1165-41da-97d4-b1be5f4f4f14"
      },
      "outputs": [
        {
          "output_type": "stream",
          "name": "stdout",
          "text": [
            "<class 'pandas.core.frame.DataFrame'>\n",
            "RangeIndex: 6500 entries, 0 to 6499\n",
            "Data columns (total 3 columns):\n",
            " #   Column        Non-Null Count  Dtype \n",
            "---  ------        --------------  ----- \n",
            " 0   Unnamed: 0    6500 non-null   int64 \n",
            " 1   DATA_COLUMN   6500 non-null   object\n",
            " 2   LABEL_COLUMN  6500 non-null   int64 \n",
            "dtypes: int64(2), object(1)\n",
            "memory usage: 152.5+ KB\n"
          ]
        }
      ],
      "source": [
        "# Set Data Into Datafram\n",
        "#=======================\n",
        "df_train = pd.read_csv(proj_path + 'twitter_processed_data_train.csv')\n",
        "df_train = df_train.dropna()\n",
        "\n",
        "# Get Data Info\n",
        "#==============\n",
        "df_train.info()"
      ]
    },
    {
      "cell_type": "code",
      "execution_count": null,
      "metadata": {
        "id": "kTIyjPrgNMl1",
        "colab": {
          "base_uri": "https://localhost:8080/"
        },
        "outputId": "9483274a-2571-41a7-8c43-12323e0ab1ec"
      },
      "outputs": [
        {
          "output_type": "stream",
          "name": "stdout",
          "text": [
            "Data Distribution:\n",
            " 0    2677\n",
            "2    1983\n",
            "1    1840\n",
            "Name: LABEL_COLUMN, dtype: int64\n",
            "\n",
            "\n",
            "df_train shape:  (6500, 3)\n",
            "\n",
            "\n",
            "   Unnamed: 0                                        DATA_COLUMN  LABEL_COLUMN\n",
            "0           0  Right folks, really must go now; have to babys...             0\n",
            "1           1                                    Happy birthday.             2\n",
            "2           2                              your not following us             1\n",
            "3           3                                   cant wait to see             2\n",
            "4           4  Enjoyed see`n everyone last night! even tho it...             0\n"
          ]
        }
      ],
      "source": [
        "# Test Call\n",
        "#==========\n",
        "print(\"Data Distribution:\\n\", df_train['LABEL_COLUMN'].value_counts())\n",
        "print(\"\\n\")\n",
        "print(\"df_train shape: \", df_train.shape)\n",
        "print('\\n')\n",
        "print(df_train.head())"
      ]
    },
    {
      "cell_type": "markdown",
      "source": [
        "### Split Train DF Base On Label"
      ],
      "metadata": {
        "id": "ZQekRFVHDfxS"
      }
    },
    {
      "cell_type": "code",
      "source": [
        "import pandas as pd\n",
        "from sklearn.utils import resample\n",
        "\n",
        "# Step 1: Split data into separate DataFrames based on labels\n",
        "label_data = {}\n",
        "labels = df_train['LABEL_COLUMN'].unique()\n",
        "\n",
        "for label in labels:\n",
        "    label_data[label] = df_train[df_train['LABEL_COLUMN'] == label]"
      ],
      "metadata": {
        "id": "RXBc-hI2DiW6"
      },
      "execution_count": null,
      "outputs": []
    },
    {
      "cell_type": "markdown",
      "source": [
        "### Resampling Process"
      ],
      "metadata": {
        "id": "VVLev8GzDcFc"
      }
    },
    {
      "cell_type": "code",
      "source": [
        "# Step 2: Determine the size of the smallest label group\n",
        "smallest_size = min(len(data) for data in label_data.values())\n",
        "\n",
        "# Step 3: Resample data for labels with more samples\n",
        "resampled_data = []\n",
        "\n",
        "for label, data in label_data.items():\n",
        "    if len(data) > smallest_size:\n",
        "        resampled_data.append(resample(data, replace=False, n_samples=smallest_size, random_state=42))\n",
        "    else:\n",
        "        resampled_data.append(data)  # Add the original data as it is\n"
      ],
      "metadata": {
        "id": "FyluyKSaDeHE"
      },
      "execution_count": null,
      "outputs": []
    },
    {
      "cell_type": "markdown",
      "source": [
        "### Merge Resampled Data Into Train_DF_Resampled"
      ],
      "metadata": {
        "id": "tFBV5XqDDjHL"
      }
    },
    {
      "cell_type": "code",
      "source": [
        "# Step 3: Concatenate the resampled data\n",
        "df_train_resampled = pd.concat(resampled_data)  # Repeat for other labels\n",
        "\n",
        "# Verify the counts of each label in the resampled data\n",
        "print(df_train_resampled['LABEL_COLUMN'].value_counts())"
      ],
      "metadata": {
        "id": "EwRR6A2ODm8B",
        "colab": {
          "base_uri": "https://localhost:8080/"
        },
        "outputId": "8166c378-8f44-4b24-a931-4a42f4ef3427"
      },
      "execution_count": null,
      "outputs": [
        {
          "output_type": "stream",
          "name": "stdout",
          "text": [
            "0    1840\n",
            "2    1840\n",
            "1    1840\n",
            "Name: LABEL_COLUMN, dtype: int64\n"
          ]
        }
      ]
    },
    {
      "cell_type": "markdown",
      "source": [
        "## Valid Data"
      ],
      "metadata": {
        "id": "rPes3jksDJQC"
      }
    },
    {
      "cell_type": "code",
      "source": [
        "# Set Data Into Datafram\n",
        "#=======================\n",
        "df_valid = pd.read_csv(proj_path + 'twitter_processed_data_valid.csv')\n",
        "df_valid = df_valid.dropna()\n",
        "\n",
        "# Get Data Info\n",
        "#==============\n",
        "df_valid.info()"
      ],
      "metadata": {
        "id": "FxZHDMXMPV0G",
        "colab": {
          "base_uri": "https://localhost:8080/"
        },
        "outputId": "74fd8e83-518f-4932-fbc9-d440be7ccd12"
      },
      "execution_count": null,
      "outputs": [
        {
          "output_type": "stream",
          "name": "stdout",
          "text": [
            "<class 'pandas.core.frame.DataFrame'>\n",
            "RangeIndex: 2275 entries, 0 to 2274\n",
            "Data columns (total 3 columns):\n",
            " #   Column        Non-Null Count  Dtype \n",
            "---  ------        --------------  ----- \n",
            " 0   Unnamed: 0    2275 non-null   int64 \n",
            " 1   DATA_COLUMN   2275 non-null   object\n",
            " 2   LABEL_COLUMN  2275 non-null   int64 \n",
            "dtypes: int64(2), object(1)\n",
            "memory usage: 53.4+ KB\n"
          ]
        }
      ]
    },
    {
      "cell_type": "code",
      "source": [
        "# Test Call\n",
        "#==========\n",
        "print(df_valid.shape)\n",
        "print('\\n')\n",
        "print(df_valid.head())"
      ],
      "metadata": {
        "id": "dGt0iO95PdSJ",
        "colab": {
          "base_uri": "https://localhost:8080/"
        },
        "outputId": "11c054c4-2302-4a10-94b0-054da8817513"
      },
      "execution_count": null,
      "outputs": [
        {
          "output_type": "stream",
          "name": "stdout",
          "text": [
            "(2275, 3)\n",
            "\n",
            "\n",
            "   Unnamed: 0                                   DATA_COLUMN  LABEL_COLUMN\n",
            "0           0                                       laughs!             2\n",
            "1           1  I already know what happens on Supernatural.             0\n",
            "2           2                                    recession.             1\n",
            "3           3                                      #yourock             2\n",
            "4           4                                          fave             2\n"
          ]
        }
      ]
    },
    {
      "cell_type": "markdown",
      "source": [
        "## Test Data"
      ],
      "metadata": {
        "id": "K4DFLuEBDS1C"
      }
    },
    {
      "cell_type": "code",
      "execution_count": null,
      "metadata": {
        "id": "fG9Vl8pd1-w0",
        "colab": {
          "base_uri": "https://localhost:8080/"
        },
        "outputId": "ed1776ae-0336-43f1-8318-fd6bd72bfdce"
      },
      "outputs": [
        {
          "output_type": "stream",
          "name": "stdout",
          "text": [
            "<class 'pandas.core.frame.DataFrame'>\n",
            "RangeIndex: 1225 entries, 0 to 1224\n",
            "Data columns (total 3 columns):\n",
            " #   Column        Non-Null Count  Dtype \n",
            "---  ------        --------------  ----- \n",
            " 0   Unnamed: 0    1225 non-null   int64 \n",
            " 1   DATA_COLUMN   1225 non-null   object\n",
            " 2   LABEL_COLUMN  1225 non-null   int64 \n",
            "dtypes: int64(2), object(1)\n",
            "memory usage: 28.8+ KB\n"
          ]
        }
      ],
      "source": [
        "# Set Data Into Datafram\n",
        "#=======================\n",
        "df_test = pd.read_csv(proj_path + 'twitter_processed_data_test.csv')\n",
        "df_test = df_test.dropna()\n",
        "\n",
        "# Get Data Info\n",
        "#==============\n",
        "df_test.info()"
      ]
    },
    {
      "cell_type": "code",
      "source": [
        "# Test Call\n",
        "#==========\n",
        "print(df_test.shape)\n",
        "print('\\n')\n",
        "print(df_test.head())"
      ],
      "metadata": {
        "id": "MHY0ZhSbOJgT",
        "colab": {
          "base_uri": "https://localhost:8080/"
        },
        "outputId": "f8e5b22b-aaa0-4c04-be25-3884e86c9a29"
      },
      "execution_count": null,
      "outputs": [
        {
          "output_type": "stream",
          "name": "stdout",
          "text": [
            "(1225, 3)\n",
            "\n",
            "\n",
            "   Unnamed: 0                                        DATA_COLUMN  LABEL_COLUMN\n",
            "0           0  pretty much ever HP except the one i wanted to...             2\n",
            "1           1                                              broke             1\n",
            "2           2  Did you get your free chocolate?!? I still hav...             0\n",
            "3           3                                      thats funny..             1\n",
            "4           4                                    Dont worry man.             2\n"
          ]
        }
      ]
    },
    {
      "cell_type": "markdown",
      "source": [
        "# **Create Input Example & Features**"
      ],
      "metadata": {
        "id": "8b3CBn-mG2Sh"
      }
    },
    {
      "cell_type": "markdown",
      "metadata": {
        "id": "OGfsDcdrAZKM"
      },
      "source": [
        "## Create Function "
      ]
    },
    {
      "cell_type": "code",
      "execution_count": null,
      "metadata": {
        "id": "GmMxwTgyq3e9"
      },
      "outputs": [],
      "source": [
        "# Function For Convert Data Into Input Example\n",
        "#=============================================\n",
        "def convert_data_to_examples(df_train, df_valid, df_test, DATA_COLUMN, LABEL_COLUMN): \n",
        "  train_InputExamples = df_train.apply(lambda x: InputExample(guid   = None,                       # Globally unique ID for bookkeeping, unused in this case\n",
        "                                                           text_a = x[DATA_COLUMN], \n",
        "                                                           text_b = None,\n",
        "                                                           label  = x[LABEL_COLUMN]),axis = 1)\n",
        "\n",
        "  validation_InputExamples = df_valid.apply(lambda x: InputExample(guid   = None,                  # Globally unique ID for bookkeeping, unused in this case\n",
        "                                                                text_a = x[DATA_COLUMN], \n",
        "                                                                text_b = None,\n",
        "                                                                label  = x[LABEL_COLUMN]), axis = 1)\n",
        "  \n",
        "  test_InputExamples = df_test.apply(lambda x: InputExample(guid   = None,                         # Globally unique ID for bookkeeping, unused in this case\n",
        "                                                         text_a = x[DATA_COLUMN], \n",
        "                                                         text_b = None,\n",
        "                                                         label  = x[LABEL_COLUMN]), axis = 1)\n",
        "  \n",
        "  return train_InputExamples, validation_InputExamples, test_InputExamples\n",
        "\n",
        "\n",
        "# Function For Convert Input Example Into TF Dataset\n",
        "#===================================================\n",
        "def convert_examples_to_tf_dataset(examples, tokenizer, max_length=128):\n",
        "    features = [] # -> will hold InputFeatures to be converted later\n",
        "\n",
        "    for e in examples:\n",
        "        # Documentation is really strong for this method, so please take a look at it\n",
        "        input_dict = tokenizer.encode_plus(\n",
        "            e.text_a,\n",
        "            add_special_tokens=True,\n",
        "            max_length=max_length,\n",
        "            truncation=True,\n",
        "            return_attention_mask=True,\n",
        "            return_token_type_ids=True,\n",
        "            padding='max_length',\n",
        "            verbose=False\n",
        "        )\n",
        "\n",
        "        input_ids, token_type_ids, attention_mask = (input_dict[\"input_ids\"],\n",
        "                                                     input_dict[\"token_type_ids\"],\n",
        "                                                     input_dict[\"attention_mask\"])\n",
        "\n",
        "\n",
        "        features.append(\n",
        "            InputFeatures(\n",
        "                input_ids=input_ids,\n",
        "                attention_mask=attention_mask,\n",
        "                token_type_ids=token_type_ids,\n",
        "                label=e.label\n",
        "            )\n",
        "        )\n",
        "\n",
        "    def gen():\n",
        "        for f in features:\n",
        "            yield (\n",
        "                {\n",
        "                    \"input_ids\": f.input_ids,\n",
        "                    \"attention_mask\": f.attention_mask,\n",
        "                    \"token_type_ids\": f.token_type_ids,\n",
        "                },\n",
        "                f.label,\n",
        "            )\n",
        "\n",
        "    return tf.data.Dataset.from_generator(\n",
        "        gen,\n",
        "        ({\"input_ids\": tf.int32, \"attention_mask\": tf.int32, \"token_type_ids\": tf.int32}, tf.int64),\n",
        "        (\n",
        "            {\n",
        "                \"input_ids\": tf.TensorShape([None]),\n",
        "                \"attention_mask\": tf.TensorShape([None]),\n",
        "                \"token_type_ids\": tf.TensorShape([None]),\n",
        "            },\n",
        "            tf.TensorShape([]),\n",
        "        ),\n",
        "    )\n",
        "\n",
        "\n",
        "DATA_COLUMN = 'DATA_COLUMN'\n",
        "LABEL_COLUMN = 'LABEL_COLUMN'\n"
      ]
    },
    {
      "cell_type": "markdown",
      "metadata": {
        "id": "SanI7BjvA3nj"
      },
      "source": [
        "## Convert Data"
      ]
    },
    {
      "cell_type": "code",
      "execution_count": null,
      "metadata": {
        "id": "PQSOaIvVr0Wk"
      },
      "outputs": [],
      "source": [
        "# Convert Into Input Example\n",
        "#===========================\n",
        "train_InputExamples, validation_InputExamples, test_InputExamples = convert_data_to_examples(df_train, df_valid, df_test, DATA_COLUMN, LABEL_COLUMN)\n",
        "\n",
        "# Convert Into TF Dataset or Features\n",
        "#====================================\n",
        "train_data = convert_examples_to_tf_dataset(list(train_InputExamples), tokenizer)\n",
        "train_data = train_data.shuffle(100).batch(16)\n",
        "\n",
        "validation_data = convert_examples_to_tf_dataset(list(validation_InputExamples), tokenizer)\n",
        "validation_data = validation_data.batch(16)\n",
        "\n",
        "test_data = convert_examples_to_tf_dataset(list(test_InputExamples), tokenizer)\n",
        "test_data = test_data.batch(16)\n"
      ]
    },
    {
      "cell_type": "markdown",
      "metadata": {
        "id": "GYeqTJxTBK8M"
      },
      "source": [
        "# **Main Experiment**"
      ]
    },
    {
      "cell_type": "code",
      "execution_count": null,
      "metadata": {
        "id": "mgrGrcs-stdt"
      },
      "outputs": [],
      "source": [
        "# Compile Model for Training\n",
        "#===========================\n",
        "model.compile(optimizer = tf.keras.optimizers.Adam(learning_rate = 3e-5, epsilon = 1e-08, clipnorm = 1.0), \n",
        "              loss = tf.keras.losses.SparseCategoricalCrossentropy(from_logits = True), \n",
        "              metrics = [tf.keras.metrics.SparseCategoricalAccuracy('accuracy')])"
      ]
    },
    {
      "cell_type": "code",
      "execution_count": null,
      "metadata": {
        "id": "2n_xg87ytG5Q",
        "colab": {
          "base_uri": "https://localhost:8080/"
        },
        "outputId": "93bed09e-6b78-404e-f282-38b50f57bc35"
      },
      "outputs": [
        {
          "output_type": "stream",
          "name": "stdout",
          "text": [
            "Epoch 1/10\n",
            "407/407 [==============================] - 290s 529ms/step - loss: 0.4517 - accuracy: 0.8295 - val_loss: 0.2683 - val_accuracy: 0.9130\n",
            "Epoch 2/10\n",
            "407/407 [==============================] - 196s 481ms/step - loss: 0.2152 - accuracy: 0.9251 - val_loss: 0.2615 - val_accuracy: 0.9248\n",
            "Epoch 3/10\n",
            "407/407 [==============================] - 195s 479ms/step - loss: 0.1109 - accuracy: 0.9665 - val_loss: 0.2074 - val_accuracy: 0.9503\n",
            "Epoch 4/10\n",
            "407/407 [==============================] - 194s 477ms/step - loss: 0.0601 - accuracy: 0.9843 - val_loss: 0.2074 - val_accuracy: 0.9530\n",
            "Epoch 5/10\n",
            "407/407 [==============================] - 194s 476ms/step - loss: 0.0445 - accuracy: 0.9880 - val_loss: 0.2462 - val_accuracy: 0.9468\n",
            "Epoch 6/10\n",
            "407/407 [==============================] - 194s 476ms/step - loss: 0.0334 - accuracy: 0.9908 - val_loss: 0.2705 - val_accuracy: 0.9508\n",
            "Epoch 7/10\n",
            "407/407 [==============================] - 194s 477ms/step - loss: 0.0407 - accuracy: 0.9880 - val_loss: 0.2758 - val_accuracy: 0.9407\n",
            "Epoch 8/10\n",
            "407/407 [==============================] - 193s 475ms/step - loss: 0.0301 - accuracy: 0.9925 - val_loss: 0.2704 - val_accuracy: 0.9516\n",
            "Epoch 9/10\n",
            "407/407 [==============================] - 193s 475ms/step - loss: 0.0259 - accuracy: 0.9931 - val_loss: 0.3184 - val_accuracy: 0.9424\n",
            "Epoch 10/10\n",
            "407/407 [==============================] - 194s 476ms/step - loss: 0.0197 - accuracy: 0.9943 - val_loss: 0.2723 - val_accuracy: 0.9516\n"
          ]
        }
      ],
      "source": [
        "# Model Training\n",
        "#===============\n",
        "training_history = model.fit(train_data,\n",
        "                             epochs = 10,\n",
        "                             validation_data = validation_data)\n"
      ]
    },
    {
      "cell_type": "markdown",
      "source": [
        "# **Test Predict & Test Evaluation**"
      ],
      "metadata": {
        "id": "ebjh4avbD1qx"
      }
    },
    {
      "cell_type": "code",
      "execution_count": null,
      "metadata": {
        "id": "NgFCrKeqX5O0"
      },
      "outputs": [],
      "source": [
        "# Define Test Sentence\n",
        "#=====================\n",
        "pred_sentences = ['I Like you',\n",
        "                  'I don`t like you']"
      ]
    },
    {
      "cell_type": "code",
      "execution_count": null,
      "metadata": {
        "id": "3DJNMvCOYDI9",
        "colab": {
          "base_uri": "https://localhost:8080/"
        },
        "outputId": "129f23b9-70e7-4a77-c31a-b56fc84c56f9"
      },
      "outputs": [
        {
          "output_type": "stream",
          "name": "stdout",
          "text": [
            "I Like you : \n",
            " Neutral\n",
            "I don`t like you : \n",
            " Negative\n"
          ]
        }
      ],
      "source": [
        "# Tokenizer Test Sentence\n",
        "#========================\n",
        "tf_batch = tokenizer(pred_sentences, max_length=128, padding=True, truncation=True, return_tensors='tf')\n",
        "\n",
        "# Predict Label\n",
        "#==============\n",
        "tf_outputs = model(tf_batch)\n",
        "\n",
        "# Softmax Final Score For Label Predict\n",
        "#======================================\n",
        "tf_predictions = tf.nn.softmax(tf_outputs[0], axis=-1)\n",
        "\n",
        "# Argmax The Score To Get Single Label\n",
        "#=====================================\n",
        "label = tf.argmax(tf_predictions, axis=1)\n",
        "\n",
        "# Convert Into Numpy Array\n",
        "#=========================\n",
        "label = label.numpy()\n",
        "\n",
        "# Get Final Label\n",
        "#================\n",
        "labels = ['Positive','Negative','Neutral']\n",
        "for i in range(len(pred_sentences)):\n",
        "  print(pred_sentences[i], \": \\n\", labels[label[i]])"
      ]
    },
    {
      "cell_type": "code",
      "execution_count": null,
      "metadata": {
        "id": "OgzUsF7VSl6U",
        "colab": {
          "base_uri": "https://localhost:8080/"
        },
        "outputId": "34687fbc-d3e2-40bf-8af1-a922437ae79b"
      },
      "outputs": [
        {
          "output_type": "stream",
          "name": "stdout",
          "text": [
            "77/77 [==============================] - 12s 155ms/step - loss: 0.2523 - accuracy: 0.9567\n",
            "Test Loss: 0.2523055076599121\n",
            "Test Accuracy: 0.9567347168922424\n"
          ]
        }
      ],
      "source": [
        "# Simple Model Evaluation Base On Test Sentences\n",
        "#===============================================\n",
        "test_results = model.evaluate(test_data)\n",
        "print('Test Loss:', test_results[0])\n",
        "print('Test Accuracy:', test_results[1])"
      ]
    },
    {
      "cell_type": "markdown",
      "metadata": {
        "id": "j4YXAn2zdaM9"
      },
      "source": [
        "# **Model Evaluation**"
      ]
    },
    {
      "cell_type": "code",
      "source": [
        "# Create & Reshape Y_Test from df_test.LABEL_COLUMN\n",
        "#==================================================\n",
        "y_test = df_test.LABEL_COLUMN.to_numpy()\n",
        "print(y_test)"
      ],
      "metadata": {
        "id": "3GHCuebmTGFd",
        "colab": {
          "base_uri": "https://localhost:8080/"
        },
        "outputId": "248513af-f30a-45f7-b8af-89bcbf2096eb"
      },
      "execution_count": null,
      "outputs": [
        {
          "output_type": "stream",
          "name": "stdout",
          "text": [
            "[2 1 0 ... 2 2 0]\n"
          ]
        }
      ]
    },
    {
      "cell_type": "code",
      "source": [
        "y_test\n"
      ],
      "metadata": {
        "colab": {
          "base_uri": "https://localhost:8080/"
        },
        "id": "2l-Lh36kFJGw",
        "outputId": "4d4c3a80-9fad-456a-d513-339a3966b2f6"
      },
      "execution_count": null,
      "outputs": [
        {
          "output_type": "execute_result",
          "data": {
            "text/plain": [
              "array([2, 1, 0, ..., 2, 2, 0])"
            ]
          },
          "metadata": {},
          "execution_count": 25
        }
      ]
    },
    {
      "cell_type": "code",
      "source": [
        "# Get Y_Preds\n",
        "#============\n",
        "result_bert = model.predict(test_data)"
      ],
      "metadata": {
        "id": "UG8nclbGTCNA",
        "colab": {
          "base_uri": "https://localhost:8080/"
        },
        "outputId": "b816847e-07f3-4263-8ac7-46ad12b25d37"
      },
      "execution_count": null,
      "outputs": [
        {
          "output_type": "stream",
          "name": "stdout",
          "text": [
            "77/77 [==============================] - 15s 154ms/step\n"
          ]
        }
      ]
    },
    {
      "cell_type": "code",
      "source": [
        "result_bert"
      ],
      "metadata": {
        "colab": {
          "base_uri": "https://localhost:8080/"
        },
        "id": "FJlMvlkFFLTC",
        "outputId": "7ad1eb51-857d-43c9-fd99-d9aac2879e65"
      },
      "execution_count": null,
      "outputs": [
        {
          "output_type": "execute_result",
          "data": {
            "text/plain": [
              "TFSequenceClassifierOutput(loss=None, logits=array([[-3.539377 , -2.7713304,  6.4458327],\n",
              "       [-1.78116  ,  5.5049815, -3.501445 ],\n",
              "       [ 5.7789087, -2.7544715, -3.7207277],\n",
              "       ...,\n",
              "       [-3.733105 , -2.5479162,  6.5309563],\n",
              "       [-3.532064 , -2.6596293,  6.44805  ],\n",
              "       [ 4.889522 , -2.85933  , -2.7520812]], dtype=float32), hidden_states=None, attentions=None)"
            ]
          },
          "metadata": {},
          "execution_count": 27
        }
      ]
    },
    {
      "cell_type": "code",
      "source": [
        "# Argmax To Get Single Label\n",
        "#===========================\n",
        "y_pred_bert = np.argmax(result_bert.logits, axis=1)"
      ],
      "metadata": {
        "id": "EH8yMp0jTFAg"
      },
      "execution_count": null,
      "outputs": []
    },
    {
      "cell_type": "code",
      "source": [
        "y_pred_bert\n"
      ],
      "metadata": {
        "colab": {
          "base_uri": "https://localhost:8080/"
        },
        "id": "V9iJbRVuFPFq",
        "outputId": "f5512a0a-490d-40ea-ad83-08fdc1fddb83"
      },
      "execution_count": null,
      "outputs": [
        {
          "output_type": "execute_result",
          "data": {
            "text/plain": [
              "array([2, 1, 0, ..., 2, 2, 0])"
            ]
          },
          "metadata": {},
          "execution_count": 29
        }
      ]
    },
    {
      "cell_type": "code",
      "source": [
        "# Print classification report\n",
        "#============================\n",
        "target_names = ['Negative', 'Neutral', 'Positive']\n",
        "print('Classification Report for BERT:\\n', classification_report(y_test,                           # Real Label from df_test.LABEL_COLUMN\n",
        "                                                                 y_pred_bert,                      # Predicted Label by model using df_test.DATA_COLUMN\n",
        "                                                                 target_names = target_names))     # Convert Numeric Label Into String Label"
      ],
      "metadata": {
        "id": "XCbw0nNuTHPp",
        "colab": {
          "base_uri": "https://localhost:8080/"
        },
        "outputId": "7ea3cffb-15ac-4fa6-9bea-e5684f5e5f9d"
      },
      "execution_count": null,
      "outputs": [
        {
          "output_type": "stream",
          "name": "stdout",
          "text": [
            "Classification Report for BERT:\n",
            "               precision    recall  f1-score   support\n",
            "\n",
            "    Negative       0.95      0.97      0.96       506\n",
            "     Neutral       0.98      0.94      0.96       362\n",
            "    Positive       0.95      0.96      0.95       357\n",
            "\n",
            "    accuracy                           0.96      1225\n",
            "   macro avg       0.96      0.96      0.96      1225\n",
            "weighted avg       0.96      0.96      0.96      1225\n",
            "\n"
          ]
        }
      ]
    },
    {
      "cell_type": "code",
      "source": [
        "# Generate confusion matrix\n",
        "#==========================\n",
        "confusion_mat = confusion_matrix(y_test, y_pred_bert)\n",
        "\n",
        "# Create a DataFrame from the confusion matrix\n",
        "#=============================================\n",
        "confusion_df = pd.DataFrame(confusion_mat, index=target_names, columns=target_names)\n",
        "\n",
        "# Plot the confusion matrix\n",
        "#==========================\n",
        "plt.figure(figsize=(8, 6))\n",
        "sns.heatmap(confusion_df, annot=True, fmt=\"d\", cmap=\"Blues\")\n",
        "plt.title(\"Confusion Matrix Using RandomUnderSampling\")\n",
        "plt.xlabel(\"Predicted Label\")\n",
        "plt.ylabel(\"True Label\")\n",
        "plt.show()"
      ],
      "metadata": {
        "id": "3bUP6DhMTIvF",
        "colab": {
          "base_uri": "https://localhost:8080/",
          "height": 564
        },
        "outputId": "42be4ca7-b45e-4a15-f0be-25ad2c9bd8aa"
      },
      "execution_count": null,
      "outputs": [
        {
          "output_type": "display_data",
          "data": {
            "text/plain": [
              "<Figure size 800x600 with 2 Axes>"
            ],
            "image/png": "[encoded data removed]"
          },
          "metadata": {}
        }
      ]
    },
    {
      "cell_type": "markdown",
      "source": [
        "# ================================"
      ],
      "metadata": {
        "id": "MPF3tsU6Gtci"
      }
    },
    {
      "cell_type": "markdown",
      "source": [
        "# ================================"
      ],
      "metadata": {
        "id": "X__wQyemGu5S"
      }
    },
    {
      "cell_type": "markdown",
      "source": [
        "#RandomOverSampler(ROS) - [UN=USED]"
      ],
      "metadata": {
        "id": "sePhHvgzTK4L"
      }
    },
    {
      "cell_type": "code",
      "execution_count": null,
      "metadata": {
        "id": "RIG3LpCKfduZ"
      },
      "outputs": [],
      "source": [
        "# ros = RandomOverSampler()\n",
        "# train_x, train_y = ros.fit_resample(np.array(df_train['DATA_COLUMN']).reshape(-1, 1), np.array(df_train['LABEL_COLUMN']).reshape(-1, 1))\n",
        "# df_train_os = pd.DataFrame(list(zip([x[0] for x in train_x], train_y)), columns=['DATA_COLUMN', 'LABEL_COLUMN'])"
      ]
    },
    {
      "cell_type": "code",
      "execution_count": null,
      "metadata": {
        "id": "VwyEPc7zVoHp"
      },
      "outputs": [],
      "source": [
        "# df_train_os['LABEL_COLUMN'].value_counts()"
      ]
    },
    {
      "cell_type": "code",
      "execution_count": null,
      "metadata": {
        "id": "mrcqT1DfZWxq"
      },
      "outputs": [],
      "source": [
        "# from sklearn.model_selection import train_test_split\n",
        "# from sklearn.metrics import accuracy_score, precision_score, recall_score, f1_score\n",
        "# from sklearn.linear_model import LogisticRegression\n",
        "# from sklearn.feature_extraction.text import CountVectorizer\n",
        "# from imblearn.over_sampling import RandomOverSampler"
      ]
    },
    {
      "cell_type": "code",
      "execution_count": null,
      "metadata": {
        "id": "zTbOy-vIZjZ9"
      },
      "outputs": [],
      "source": [
        "# # Step 1: Split the dataset\n",
        "# X_train, X_test, y_train, y_test = train_test_split(df_train_os['DATA_COLUMN'], df_train_os['LABEL_COLUMN'], test_size=0.2, random_state=42)"
      ]
    },
    {
      "cell_type": "code",
      "execution_count": null,
      "metadata": {
        "id": "RB0Rs5TKZqMj"
      },
      "outputs": [],
      "source": [
        "# # Step 2: Apply ROS to the training set\n",
        "# ros = RandomOverSampler()\n",
        "# X_train_ros, y_train_ros = ros.fit_resample(X_train.values.reshape(-1, 1), y_train.values)"
      ]
    },
    {
      "cell_type": "code",
      "execution_count": null,
      "metadata": {
        "id": "lz_Gl6KaZwfB"
      },
      "outputs": [],
      "source": [
        "# # Step 3: Preprocess and vectorize the text data\n",
        "# vectorizer = CountVectorizer()\n",
        "# X_train_vec = vectorizer.fit_transform([str(x[0]) for x in X_train_ros])\n",
        "# X_test_vec = vectorizer.transform([str(x) for x in X_test])"
      ]
    },
    {
      "cell_type": "code",
      "execution_count": null,
      "metadata": {
        "id": "xncV4At0Z2UJ"
      },
      "outputs": [],
      "source": [
        "# model = LogisticRegression(max_iter=1000)  # Increase the number of iterations\n",
        "# model.fit(X_train_vec, y_train_ros)\n"
      ]
    },
    {
      "cell_type": "code",
      "execution_count": null,
      "metadata": {
        "id": "bEWG0Y8LZ-O8"
      },
      "outputs": [],
      "source": [
        "# # Step 5: Evaluate the model on the original testing data\n",
        "# y_pred = model.predict(X_test_vec)\n",
        "\n",
        "# accuracy = accuracy_score(y_test, y_pred)\n",
        "# precision = precision_score(y_test, y_pred, average='macro')\n",
        "# recall = recall_score(y_test, y_pred, average='macro')\n",
        "# f1 = f1_score(y_test, y_pred, average='macro')\n",
        "\n",
        "# print(\"Accuracy:\", accuracy)\n",
        "# print(\"Precision:\", precision)\n",
        "# print(\"Recall:\", recall)\n",
        "# print(\"F1-score:\", f1)"
      ]
    },
    {
      "cell_type": "code",
      "execution_count": null,
      "metadata": {
        "id": "HTE6amcKaACV"
      },
      "outputs": [],
      "source": [
        "# # Step 6: Calculate and display the classification report\n",
        "# classification_rep = classification_report(y_test, y_pred)\n",
        "# print(\"Classification Report:\")\n",
        "# print(classification_rep)"
      ]
    },
    {
      "cell_type": "code",
      "execution_count": null,
      "metadata": {
        "id": "3DJvCCXlgVPT"
      },
      "outputs": [],
      "source": [
        "# # Step 7: Generate and display the confusion matrix\n",
        "# confusion_mat = confusion_matrix(y_test, y_pred)\n",
        "# plt.figure(figsize=(8, 6))\n",
        "# sns.heatmap(confusion_mat, annot=True, fmt=\"d\", cmap=\"Blues\", cbar=False)\n",
        "# plt.xlabel(\"Predicted\")\n",
        "# plt.ylabel(\"Actual\")\n",
        "# plt.title(\"Confusion Matrix\")\n",
        "# plt.show()"
      ]
    }
  ],
  "metadata": {
    "accelerator": "GPU",
    "colab": {
      "provenance": [],
      "gpuType": "T4",
      "collapsed_sections": [
        "OMa6Lyj68w0e",
        "4y2tNDKYCULj",
        "AL0fsvCCCLUy",
        "sePhHvgzTK4L"
      ]
    },
    "gpuClass": "standard",
    "kernelspec": {
      "display_name": "Python 3",
      "name": "python3"
    },
    "language_info": {
      "name": "python"
    },
    "widgets": {
      "application/vnd.jupyter.widget-state+json": {
        "74893a371c294de09e77b3293385837f": {
          "model_module": "@jupyter-widgets/controls",
          "model_name": "HBoxModel",
          "model_module_version": "1.5.0",
          "state": {
            "_dom_classes": [],
            "_model_module": "@jupyter-widgets/controls",
            "_model_module_version": "1.5.0",
            "_model_name": "HBoxModel",
            "_view_count": null,
            "_view_module": "@jupyter-widgets/controls",
            "_view_module_version": "1.5.0",
            "_view_name": "HBoxView",
            "box_style": "",
            "children": [
              "IPY_MODEL_eb9af0f06a974330a56b4f139466c5db",
              "IPY_MODEL_c3bb58e95c534f0b900a696f282ea791",
              "IPY_MODEL_c2bc44aecce44f7f83c38e3f295874eb"
            ],
            "layout": "IPY_MODEL_a5e48376056042bfa4336c6c82c156ba"
          }
        },
        "eb9af0f06a974330a56b4f139466c5db": {
          "model_module": "@jupyter-widgets/controls",
          "model_name": "HTMLModel",
          "model_module_version": "1.5.0",
          "state": {
            "_dom_classes": [],
            "_model_module": "@jupyter-widgets/controls",
            "_model_module_version": "1.5.0",
            "_model_name": "HTMLModel",
            "_view_count": null,
            "_view_module": "@jupyter-widgets/controls",
            "_view_module_version": "1.5.0",
            "_view_name": "HTMLView",
            "description": "",
            "description_tooltip": null,
            "layout": "IPY_MODEL_9bf6138005fd4b61b1b060487eb6485b",
            "placeholder": "​",
            "style": "IPY_MODEL_5b5483738feb41c298ecffde435ba812",
            "value": "Downloading (…)lve/main/config.json: 100%"
          }
        },
        "c3bb58e95c534f0b900a696f282ea791": {
          "model_module": "@jupyter-widgets/controls",
          "model_name": "FloatProgressModel",
          "model_module_version": "1.5.0",
          "state": {
            "_dom_classes": [],
            "_model_module": "@jupyter-widgets/controls",
            "_model_module_version": "1.5.0",
            "_model_name": "FloatProgressModel",
            "_view_count": null,
            "_view_module": "@jupyter-widgets/controls",
            "_view_module_version": "1.5.0",
            "_view_name": "ProgressView",
            "bar_style": "success",
            "description": "",
            "description_tooltip": null,
            "layout": "IPY_MODEL_2cd38523195c4a2d9679e0a9918b1212",
            "max": 570,
            "min": 0,
            "orientation": "horizontal",
            "style": "IPY_MODEL_af7c9b29976d4a07bb202757fb0adf60",
            "value": 570
          }
        },
        "c2bc44aecce44f7f83c38e3f295874eb": {
          "model_module": "@jupyter-widgets/controls",
          "model_name": "HTMLModel",
          "model_module_version": "1.5.0",
          "state": {
            "_dom_classes": [],
            "_model_module": "@jupyter-widgets/controls",
            "_model_module_version": "1.5.0",
            "_model_name": "HTMLModel",
            "_view_count": null,
            "_view_module": "@jupyter-widgets/controls",
            "_view_module_version": "1.5.0",
            "_view_name": "HTMLView",
            "description": "",
            "description_tooltip": null,
            "layout": "IPY_MODEL_9d05a6170fc84f029b475375fbbcc6c9",
            "placeholder": "​",
            "style": "IPY_MODEL_4b892247b18b49b0b4e6ddcdedf02e03",
            "value": " 570/570 [00:00&lt;00:00, 23.1kB/s]"
          }
        },
        "a5e48376056042bfa4336c6c82c156ba": {
          "model_module": "@jupyter-widgets/base",
          "model_name": "LayoutModel",
          "model_module_version": "1.2.0",
          "state": {
            "_model_module": "@jupyter-widgets/base",
            "_model_module_version": "1.2.0",
            "_model_name": "LayoutModel",
            "_view_count": null,
            "_view_module": "@jupyter-widgets/base",
            "_view_module_version": "1.2.0",
            "_view_name": "LayoutView",
            "align_content": null,
            "align_items": null,
            "align_self": null,
            "border": null,
            "bottom": null,
            "display": null,
            "flex": null,
            "flex_flow": null,
            "grid_area": null,
            "grid_auto_columns": null,
            "grid_auto_flow": null,
            "grid_auto_rows": null,
            "grid_column": null,
            "grid_gap": null,
            "grid_row": null,
            "grid_template_areas": null,
            "grid_template_columns": null,
            "grid_template_rows": null,
            "height": null,
            "justify_content": null,
            "justify_items": null,
            "left": null,
            "margin": null,
            "max_height": null,
            "max_width": null,
            "min_height": null,
            "min_width": null,
            "object_fit": null,
            "object_position": null,
            "order": null,
            "overflow": null,
            "overflow_x": null,
            "overflow_y": null,
            "padding": null,
            "right": null,
            "top": null,
            "visibility": null,
            "width": null
          }
        },
        "9bf6138005fd4b61b1b060487eb6485b": {
          "model_module": "@jupyter-widgets/base",
          "model_name": "LayoutModel",
          "model_module_version": "1.2.0",
          "state": {
            "_model_module": "@jupyter-widgets/base",
            "_model_module_version": "1.2.0",
            "_model_name": "LayoutModel",
            "_view_count": null,
            "_view_module": "@jupyter-widgets/base",
            "_view_module_version": "1.2.0",
            "_view_name": "LayoutView",
            "align_content": null,
            "align_items": null,
            "align_self": null,
            "border": null,
            "bottom": null,
            "display": null,
            "flex": null,
            "flex_flow": null,
            "grid_area": null,
            "grid_auto_columns": null,
            "grid_auto_flow": null,
            "grid_auto_rows": null,
            "grid_column": null,
            "grid_gap": null,
            "grid_row": null,
            "grid_template_areas": null,
            "grid_template_columns": null,
            "grid_template_rows": null,
            "height": null,
            "justify_content": null,
            "justify_items": null,
            "left": null,
            "margin": null,
            "max_height": null,
            "max_width": null,
            "min_height": null,
            "min_width": null,
            "object_fit": null,
            "object_position": null,
            "order": null,
            "overflow": null,
            "overflow_x": null,
            "overflow_y": null,
            "padding": null,
            "right": null,
            "top": null,
            "visibility": null,
            "width": null
          }
        },
        "5b5483738feb41c298ecffde435ba812": {
          "model_module": "@jupyter-widgets/controls",
          "model_name": "DescriptionStyleModel",
          "model_module_version": "1.5.0",
          "state": {
            "_model_module": "@jupyter-widgets/controls",
            "_model_module_version": "1.5.0",
            "_model_name": "DescriptionStyleModel",
            "_view_count": null,
            "_view_module": "@jupyter-widgets/base",
            "_view_module_version": "1.2.0",
            "_view_name": "StyleView",
            "description_width": ""
          }
        },
        "2cd38523195c4a2d9679e0a9918b1212": {
          "model_module": "@jupyter-widgets/base",
          "model_name": "LayoutModel",
          "model_module_version": "1.2.0",
          "state": {
            "_model_module": "@jupyter-widgets/base",
            "_model_module_version": "1.2.0",
            "_model_name": "LayoutModel",
            "_view_count": null,
            "_view_module": "@jupyter-widgets/base",
            "_view_module_version": "1.2.0",
            "_view_name": "LayoutView",
            "align_content": null,
            "align_items": null,
            "align_self": null,
            "border": null,
            "bottom": null,
            "display": null,
            "flex": null,
            "flex_flow": null,
            "grid_area": null,
            "grid_auto_columns": null,
            "grid_auto_flow": null,
            "grid_auto_rows": null,
            "grid_column": null,
            "grid_gap": null,
            "grid_row": null,
            "grid_template_areas": null,
            "grid_template_columns": null,
            "grid_template_rows": null,
            "height": null,
            "justify_content": null,
            "justify_items": null,
            "left": null,
            "margin": null,
            "max_height": null,
            "max_width": null,
            "min_height": null,
            "min_width": null,
            "object_fit": null,
            "object_position": null,
            "order": null,
            "overflow": null,
            "overflow_x": null,
            "overflow_y": null,
            "padding": null,
            "right": null,
            "top": null,
            "visibility": null,
            "width": null
          }
        },
        "af7c9b29976d4a07bb202757fb0adf60": {
          "model_module": "@jupyter-widgets/controls",
          "model_name": "ProgressStyleModel",
          "model_module_version": "1.5.0",
          "state": {
            "_model_module": "@jupyter-widgets/controls",
            "_model_module_version": "1.5.0",
            "_model_name": "ProgressStyleModel",
            "_view_count": null,
            "_view_module": "@jupyter-widgets/base",
            "_view_module_version": "1.2.0",
            "_view_name": "StyleView",
            "bar_color": null,
            "description_width": ""
          }
        },
        "9d05a6170fc84f029b475375fbbcc6c9": {
          "model_module": "@jupyter-widgets/base",
          "model_name": "LayoutModel",
          "model_module_version": "1.2.0",
          "state": {
            "_model_module": "@jupyter-widgets/base",
            "_model_module_version": "1.2.0",
            "_model_name": "LayoutModel",
            "_view_count": null,
            "_view_module": "@jupyter-widgets/base",
            "_view_module_version": "1.2.0",
            "_view_name": "LayoutView",
            "align_content": null,
            "align_items": null,
            "align_self": null,
            "border": null,
            "bottom": null,
            "display": null,
            "flex": null,
            "flex_flow": null,
            "grid_area": null,
            "grid_auto_columns": null,
            "grid_auto_flow": null,
            "grid_auto_rows": null,
            "grid_column": null,
            "grid_gap": null,
            "grid_row": null,
            "grid_template_areas": null,
            "grid_template_columns": null,
            "grid_template_rows": null,
            "height": null,
            "justify_content": null,
            "justify_items": null,
            "left": null,
            "margin": null,
            "max_height": null,
            "max_width": null,
            "min_height": null,
            "min_width": null,
            "object_fit": null,
            "object_position": null,
            "order": null,
            "overflow": null,
            "overflow_x": null,
            "overflow_y": null,
            "padding": null,
            "right": null,
            "top": null,
            "visibility": null,
            "width": null
          }
        },
        "4b892247b18b49b0b4e6ddcdedf02e03": {
          "model_module": "@jupyter-widgets/controls",
          "model_name": "DescriptionStyleModel",
          "model_module_version": "1.5.0",
          "state": {
            "_model_module": "@jupyter-widgets/controls",
            "_model_module_version": "1.5.0",
            "_model_name": "DescriptionStyleModel",
            "_view_count": null,
            "_view_module": "@jupyter-widgets/base",
            "_view_module_version": "1.2.0",
            "_view_name": "StyleView",
            "description_width": ""
          }
        },
        "49cfa95679d8452f983f1dcacedf354d": {
          "model_module": "@jupyter-widgets/controls",
          "model_name": "HBoxModel",
          "model_module_version": "1.5.0",
          "state": {
            "_dom_classes": [],
            "_model_module": "@jupyter-widgets/controls",
            "_model_module_version": "1.5.0",
            "_model_name": "HBoxModel",
            "_view_count": null,
            "_view_module": "@jupyter-widgets/controls",
            "_view_module_version": "1.5.0",
            "_view_name": "HBoxView",
            "box_style": "",
            "children": [
              "IPY_MODEL_34d0af68189845db9a7b6008ba818c15",
              "IPY_MODEL_f8b6b1975e5441ffac343b9c32a1bdc8",
              "IPY_MODEL_ae6cc22f27d243c08f8882205cc44dda"
            ],
            "layout": "IPY_MODEL_716f69be6a204adfaf55af74602c43ab"
          }
        },
        "34d0af68189845db9a7b6008ba818c15": {
          "model_module": "@jupyter-widgets/controls",
          "model_name": "HTMLModel",
          "model_module_version": "1.5.0",
          "state": {
            "_dom_classes": [],
            "_model_module": "@jupyter-widgets/controls",
            "_model_module_version": "1.5.0",
            "_model_name": "HTMLModel",
            "_view_count": null,
            "_view_module": "@jupyter-widgets/controls",
            "_view_module_version": "1.5.0",
            "_view_name": "HTMLView",
            "description": "",
            "description_tooltip": null,
            "layout": "IPY_MODEL_d4990f16298e4743bee6a0b7e4a80886",
            "placeholder": "​",
            "style": "IPY_MODEL_9c39a302e1aa42bd8414bdd0c4fcbbe4",
            "value": "Downloading pytorch_model.bin: 100%"
          }
        },
        "f8b6b1975e5441ffac343b9c32a1bdc8": {
          "model_module": "@jupyter-widgets/controls",
          "model_name": "FloatProgressModel",
          "model_module_version": "1.5.0",
          "state": {
            "_dom_classes": [],
            "_model_module": "@jupyter-widgets/controls",
            "_model_module_version": "1.5.0",
            "_model_name": "FloatProgressModel",
            "_view_count": null,
            "_view_module": "@jupyter-widgets/controls",
            "_view_module_version": "1.5.0",
            "_view_name": "ProgressView",
            "bar_style": "success",
            "description": "",
            "description_tooltip": null,
            "layout": "IPY_MODEL_22770800ccea45d4bf2fb8cb9863c490",
            "max": 440473133,
            "min": 0,
            "orientation": "horizontal",
            "style": "IPY_MODEL_aca1728c654a4e8fbaa05e11ce1a2d4e",
            "value": 440473133
          }
        },
        "ae6cc22f27d243c08f8882205cc44dda": {
          "model_module": "@jupyter-widgets/controls",
          "model_name": "HTMLModel",
          "model_module_version": "1.5.0",
          "state": {
            "_dom_classes": [],
            "_model_module": "@jupyter-widgets/controls",
            "_model_module_version": "1.5.0",
            "_model_name": "HTMLModel",
            "_view_count": null,
            "_view_module": "@jupyter-widgets/controls",
            "_view_module_version": "1.5.0",
            "_view_name": "HTMLView",
            "description": "",
            "description_tooltip": null,
            "layout": "IPY_MODEL_847b505f4c004d149cb311fb5a28bc3f",
            "placeholder": "​",
            "style": "IPY_MODEL_c000607cc4bf4319a9f9e86556893a32",
            "value": " 440M/440M [00:03&lt;00:00, 130MB/s]"
          }
        },
        "716f69be6a204adfaf55af74602c43ab": {
          "model_module": "@jupyter-widgets/base",
          "model_name": "LayoutModel",
          "model_module_version": "1.2.0",
          "state": {
            "_model_module": "@jupyter-widgets/base",
            "_model_module_version": "1.2.0",
            "_model_name": "LayoutModel",
            "_view_count": null,
            "_view_module": "@jupyter-widgets/base",
            "_view_module_version": "1.2.0",
            "_view_name": "LayoutView",
            "align_content": null,
            "align_items": null,
            "align_self": null,
            "border": null,
            "bottom": null,
            "display": null,
            "flex": null,
            "flex_flow": null,
            "grid_area": null,
            "grid_auto_columns": null,
            "grid_auto_flow": null,
            "grid_auto_rows": null,
            "grid_column": null,
            "grid_gap": null,
            "grid_row": null,
            "grid_template_areas": null,
            "grid_template_columns": null,
            "grid_template_rows": null,
            "height": null,
            "justify_content": null,
            "justify_items": null,
            "left": null,
            "margin": null,
            "max_height": null,
            "max_width": null,
            "min_height": null,
            "min_width": null,
            "object_fit": null,
            "object_position": null,
            "order": null,
            "overflow": null,
            "overflow_x": null,
            "overflow_y": null,
            "padding": null,
            "right": null,
            "top": null,
            "visibility": null,
            "width": null
          }
        },
        "d4990f16298e4743bee6a0b7e4a80886": {
          "model_module": "@jupyter-widgets/base",
          "model_name": "LayoutModel",
          "model_module_version": "1.2.0",
          "state": {
            "_model_module": "@jupyter-widgets/base",
            "_model_module_version": "1.2.0",
            "_model_name": "LayoutModel",
            "_view_count": null,
            "_view_module": "@jupyter-widgets/base",
            "_view_module_version": "1.2.0",
            "_view_name": "LayoutView",
            "align_content": null,
            "align_items": null,
            "align_self": null,
            "border": null,
            "bottom": null,
            "display": null,
            "flex": null,
            "flex_flow": null,
            "grid_area": null,
            "grid_auto_columns": null,
            "grid_auto_flow": null,
            "grid_auto_rows": null,
            "grid_column": null,
            "grid_gap": null,
            "grid_row": null,
            "grid_template_areas": null,
            "grid_template_columns": null,
            "grid_template_rows": null,
            "height": null,
            "justify_content": null,
            "justify_items": null,
            "left": null,
            "margin": null,
            "max_height": null,
            "max_width": null,
            "min_height": null,
            "min_width": null,
            "object_fit": null,
            "object_position": null,
            "order": null,
            "overflow": null,
            "overflow_x": null,
            "overflow_y": null,
            "padding": null,
            "right": null,
            "top": null,
            "visibility": null,
            "width": null
          }
        },
        "9c39a302e1aa42bd8414bdd0c4fcbbe4": {
          "model_module": "@jupyter-widgets/controls",
          "model_name": "DescriptionStyleModel",
          "model_module_version": "1.5.0",
          "state": {
            "_model_module": "@jupyter-widgets/controls",
            "_model_module_version": "1.5.0",
            "_model_name": "DescriptionStyleModel",
            "_view_count": null,
            "_view_module": "@jupyter-widgets/base",
            "_view_module_version": "1.2.0",
            "_view_name": "StyleView",
            "description_width": ""
          }
        },
        "22770800ccea45d4bf2fb8cb9863c490": {
          "model_module": "@jupyter-widgets/base",
          "model_name": "LayoutModel",
          "model_module_version": "1.2.0",
          "state": {
            "_model_module": "@jupyter-widgets/base",
            "_model_module_version": "1.2.0",
            "_model_name": "LayoutModel",
            "_view_count": null,
            "_view_module": "@jupyter-widgets/base",
            "_view_module_version": "1.2.0",
            "_view_name": "LayoutView",
            "align_content": null,
            "align_items": null,
            "align_self": null,
            "border": null,
            "bottom": null,
            "display": null,
            "flex": null,
            "flex_flow": null,
            "grid_area": null,
            "grid_auto_columns": null,
            "grid_auto_flow": null,
            "grid_auto_rows": null,
            "grid_column": null,
            "grid_gap": null,
            "grid_row": null,
            "grid_template_areas": null,
            "grid_template_columns": null,
            "grid_template_rows": null,
            "height": null,
            "justify_content": null,
            "justify_items": null,
            "left": null,
            "margin": null,
            "max_height": null,
            "max_width": null,
            "min_height": null,
            "min_width": null,
            "object_fit": null,
            "object_position": null,
            "order": null,
            "overflow": null,
            "overflow_x": null,
            "overflow_y": null,
            "padding": null,
            "right": null,
            "top": null,
            "visibility": null,
            "width": null
          }
        },
        "aca1728c654a4e8fbaa05e11ce1a2d4e": {
          "model_module": "@jupyter-widgets/controls",
          "model_name": "ProgressStyleModel",
          "model_module_version": "1.5.0",
          "state": {
            "_model_module": "@jupyter-widgets/controls",
            "_model_module_version": "1.5.0",
            "_model_name": "ProgressStyleModel",
            "_view_count": null,
            "_view_module": "@jupyter-widgets/base",
            "_view_module_version": "1.2.0",
            "_view_name": "StyleView",
            "bar_color": null,
            "description_width": ""
          }
        },
        "847b505f4c004d149cb311fb5a28bc3f": {
          "model_module": "@jupyter-widgets/base",
          "model_name": "LayoutModel",
          "model_module_version": "1.2.0",
          "state": {
            "_model_module": "@jupyter-widgets/base",
            "_model_module_version": "1.2.0",
            "_model_name": "LayoutModel",
            "_view_count": null,
            "_view_module": "@jupyter-widgets/base",
            "_view_module_version": "1.2.0",
            "_view_name": "LayoutView",
            "align_content": null,
            "align_items": null,
            "align_self": null,
            "border": null,
            "bottom": null,
            "display": null,
            "flex": null,
            "flex_flow": null,
            "grid_area": null,
            "grid_auto_columns": null,
            "grid_auto_flow": null,
            "grid_auto_rows": null,
            "grid_column": null,
            "grid_gap": null,
            "grid_row": null,
            "grid_template_areas": null,
            "grid_template_columns": null,
            "grid_template_rows": null,
            "height": null,
            "justify_content": null,
            "justify_items": null,
            "left": null,
            "margin": null,
            "max_height": null,
            "max_width": null,
            "min_height": null,
            "min_width": null,
            "object_fit": null,
            "object_position": null,
            "order": null,
            "overflow": null,
            "overflow_x": null,
            "overflow_y": null,
            "padding": null,
            "right": null,
            "top": null,
            "visibility": null,
            "width": null
          }
        },
        "c000607cc4bf4319a9f9e86556893a32": {
          "model_module": "@jupyter-widgets/controls",
          "model_name": "DescriptionStyleModel",
          "model_module_version": "1.5.0",
          "state": {
            "_model_module": "@jupyter-widgets/controls",
            "_model_module_version": "1.5.0",
            "_model_name": "DescriptionStyleModel",
            "_view_count": null,
            "_view_module": "@jupyter-widgets/base",
            "_view_module_version": "1.2.0",
            "_view_name": "StyleView",
            "description_width": ""
          }
        },
        "8991633121274b3cba9730e73a22b554": {
          "model_module": "@jupyter-widgets/controls",
          "model_name": "HBoxModel",
          "model_module_version": "1.5.0",
          "state": {
            "_dom_classes": [],
            "_model_module": "@jupyter-widgets/controls",
            "_model_module_version": "1.5.0",
            "_model_name": "HBoxModel",
            "_view_count": null,
            "_view_module": "@jupyter-widgets/controls",
            "_view_module_version": "1.5.0",
            "_view_name": "HBoxView",
            "box_style": "",
            "children": [
              "IPY_MODEL_419ff36da1fc4bba94b110501a7f966d",
              "IPY_MODEL_1fab7167a6774f158158c7ec59bec793",
              "IPY_MODEL_a92d08cdc6f04c80b652799a9c766294"
            ],
            "layout": "IPY_MODEL_d0aaeaf9e9bf44939d83a17bfb0664b1"
          }
        },
        "419ff36da1fc4bba94b110501a7f966d": {
          "model_module": "@jupyter-widgets/controls",
          "model_name": "HTMLModel",
          "model_module_version": "1.5.0",
          "state": {
            "_dom_classes": [],
            "_model_module": "@jupyter-widgets/controls",
            "_model_module_version": "1.5.0",
            "_model_name": "HTMLModel",
            "_view_count": null,
            "_view_module": "@jupyter-widgets/controls",
            "_view_module_version": "1.5.0",
            "_view_name": "HTMLView",
            "description": "",
            "description_tooltip": null,
            "layout": "IPY_MODEL_e18b45a18bf746eeaaa321e5ea0683b1",
            "placeholder": "​",
            "style": "IPY_MODEL_50786adeebf74da58066965e44b0f478",
            "value": "Downloading (…)solve/main/vocab.txt: 100%"
          }
        },
        "1fab7167a6774f158158c7ec59bec793": {
          "model_module": "@jupyter-widgets/controls",
          "model_name": "FloatProgressModel",
          "model_module_version": "1.5.0",
          "state": {
            "_dom_classes": [],
            "_model_module": "@jupyter-widgets/controls",
            "_model_module_version": "1.5.0",
            "_model_name": "FloatProgressModel",
            "_view_count": null,
            "_view_module": "@jupyter-widgets/controls",
            "_view_module_version": "1.5.0",
            "_view_name": "ProgressView",
            "bar_style": "success",
            "description": "",
            "description_tooltip": null,
            "layout": "IPY_MODEL_6c404b7745a94cc184b7fceba219f74e",
            "max": 231508,
            "min": 0,
            "orientation": "horizontal",
            "style": "IPY_MODEL_89ef81fe3de64dce949b2f80e23ca525",
            "value": 231508
          }
        },
        "a92d08cdc6f04c80b652799a9c766294": {
          "model_module": "@jupyter-widgets/controls",
          "model_name": "HTMLModel",
          "model_module_version": "1.5.0",
          "state": {
            "_dom_classes": [],
            "_model_module": "@jupyter-widgets/controls",
            "_model_module_version": "1.5.0",
            "_model_name": "HTMLModel",
            "_view_count": null,
            "_view_module": "@jupyter-widgets/controls",
            "_view_module_version": "1.5.0",
            "_view_name": "HTMLView",
            "description": "",
            "description_tooltip": null,
            "layout": "IPY_MODEL_fdfe379697c84c028991dddfcf567990",
            "placeholder": "​",
            "style": "IPY_MODEL_2833dd6a99a440378981cd9df5ad32d8",
            "value": " 232k/232k [00:00&lt;00:00, 4.32MB/s]"
          }
        },
        "d0aaeaf9e9bf44939d83a17bfb0664b1": {
          "model_module": "@jupyter-widgets/base",
          "model_name": "LayoutModel",
          "model_module_version": "1.2.0",
          "state": {
            "_model_module": "@jupyter-widgets/base",
            "_model_module_version": "1.2.0",
            "_model_name": "LayoutModel",
            "_view_count": null,
            "_view_module": "@jupyter-widgets/base",
            "_view_module_version": "1.2.0",
            "_view_name": "LayoutView",
            "align_content": null,
            "align_items": null,
            "align_self": null,
            "border": null,
            "bottom": null,
            "display": null,
            "flex": null,
            "flex_flow": null,
            "grid_area": null,
            "grid_auto_columns": null,
            "grid_auto_flow": null,
            "grid_auto_rows": null,
            "grid_column": null,
            "grid_gap": null,
            "grid_row": null,
            "grid_template_areas": null,
            "grid_template_columns": null,
            "grid_template_rows": null,
            "height": null,
            "justify_content": null,
            "justify_items": null,
            "left": null,
            "margin": null,
            "max_height": null,
            "max_width": null,
            "min_height": null,
            "min_width": null,
            "object_fit": null,
            "object_position": null,
            "order": null,
            "overflow": null,
            "overflow_x": null,
            "overflow_y": null,
            "padding": null,
            "right": null,
            "top": null,
            "visibility": null,
            "width": null
          }
        },
        "e18b45a18bf746eeaaa321e5ea0683b1": {
          "model_module": "@jupyter-widgets/base",
          "model_name": "LayoutModel",
          "model_module_version": "1.2.0",
          "state": {
            "_model_module": "@jupyter-widgets/base",
            "_model_module_version": "1.2.0",
            "_model_name": "LayoutModel",
            "_view_count": null,
            "_view_module": "@jupyter-widgets/base",
            "_view_module_version": "1.2.0",
            "_view_name": "LayoutView",
            "align_content": null,
            "align_items": null,
            "align_self": null,
            "border": null,
            "bottom": null,
            "display": null,
            "flex": null,
            "flex_flow": null,
            "grid_area": null,
            "grid_auto_columns": null,
            "grid_auto_flow": null,
            "grid_auto_rows": null,
            "grid_column": null,
            "grid_gap": null,
            "grid_row": null,
            "grid_template_areas": null,
            "grid_template_columns": null,
            "grid_template_rows": null,
            "height": null,
            "justify_content": null,
            "justify_items": null,
            "left": null,
            "margin": null,
            "max_height": null,
            "max_width": null,
            "min_height": null,
            "min_width": null,
            "object_fit": null,
            "object_position": null,
            "order": null,
            "overflow": null,
            "overflow_x": null,
            "overflow_y": null,
            "padding": null,
            "right": null,
            "top": null,
            "visibility": null,
            "width": null
          }
        },
        "50786adeebf74da58066965e44b0f478": {
          "model_module": "@jupyter-widgets/controls",
          "model_name": "DescriptionStyleModel",
          "model_module_version": "1.5.0",
          "state": {
            "_model_module": "@jupyter-widgets/controls",
            "_model_module_version": "1.5.0",
            "_model_name": "DescriptionStyleModel",
            "_view_count": null,
            "_view_module": "@jupyter-widgets/base",
            "_view_module_version": "1.2.0",
            "_view_name": "StyleView",
            "description_width": ""
          }
        },
        "6c404b7745a94cc184b7fceba219f74e": {
          "model_module": "@jupyter-widgets/base",
          "model_name": "LayoutModel",
          "model_module_version": "1.2.0",
          "state": {
            "_model_module": "@jupyter-widgets/base",
            "_model_module_version": "1.2.0",
            "_model_name": "LayoutModel",
            "_view_count": null,
            "_view_module": "@jupyter-widgets/base",
            "_view_module_version": "1.2.0",
            "_view_name": "LayoutView",
            "align_content": null,
            "align_items": null,
            "align_self": null,
            "border": null,
            "bottom": null,
            "display": null,
            "flex": null,
            "flex_flow": null,
            "grid_area": null,
            "grid_auto_columns": null,
            "grid_auto_flow": null,
            "grid_auto_rows": null,
            "grid_column": null,
            "grid_gap": null,
            "grid_row": null,
            "grid_template_areas": null,
            "grid_template_columns": null,
            "grid_template_rows": null,
            "height": null,
            "justify_content": null,
            "justify_items": null,
            "left": null,
            "margin": null,
            "max_height": null,
            "max_width": null,
            "min_height": null,
            "min_width": null,
            "object_fit": null,
            "object_position": null,
            "order": null,
            "overflow": null,
            "overflow_x": null,
            "overflow_y": null,
            "padding": null,
            "right": null,
            "top": null,
            "visibility": null,
            "width": null
          }
        },
        "89ef81fe3de64dce949b2f80e23ca525": {
          "model_module": "@jupyter-widgets/controls",
          "model_name": "ProgressStyleModel",
          "model_module_version": "1.5.0",
          "state": {
            "_model_module": "@jupyter-widgets/controls",
            "_model_module_version": "1.5.0",
            "_model_name": "ProgressStyleModel",
            "_view_count": null,
            "_view_module": "@jupyter-widgets/base",
            "_view_module_version": "1.2.0",
            "_view_name": "StyleView",
            "bar_color": null,
            "description_width": ""
          }
        },
        "fdfe379697c84c028991dddfcf567990": {
          "model_module": "@jupyter-widgets/base",
          "model_name": "LayoutModel",
          "model_module_version": "1.2.0",
          "state": {
            "_model_module": "@jupyter-widgets/base",
            "_model_module_version": "1.2.0",
            "_model_name": "LayoutModel",
            "_view_count": null,
            "_view_module": "@jupyter-widgets/base",
            "_view_module_version": "1.2.0",
            "_view_name": "LayoutView",
            "align_content": null,
            "align_items": null,
            "align_self": null,
            "border": null,
            "bottom": null,
            "display": null,
            "flex": null,
            "flex_flow": null,
            "grid_area": null,
            "grid_auto_columns": null,
            "grid_auto_flow": null,
            "grid_auto_rows": null,
            "grid_column": null,
            "grid_gap": null,
            "grid_row": null,
            "grid_template_areas": null,
            "grid_template_columns": null,
            "grid_template_rows": null,
            "height": null,
            "justify_content": null,
            "justify_items": null,
            "left": null,
            "margin": null,
            "max_height": null,
            "max_width": null,
            "min_height": null,
            "min_width": null,
            "object_fit": null,
            "object_position": null,
            "order": null,
            "overflow": null,
            "overflow_x": null,
            "overflow_y": null,
            "padding": null,
            "right": null,
            "top": null,
            "visibility": null,
            "width": null
          }
        },
        "2833dd6a99a440378981cd9df5ad32d8": {
          "model_module": "@jupyter-widgets/controls",
          "model_name": "DescriptionStyleModel",
          "model_module_version": "1.5.0",
          "state": {
            "_model_module": "@jupyter-widgets/controls",
            "_model_module_version": "1.5.0",
            "_model_name": "DescriptionStyleModel",
            "_view_count": null,
            "_view_module": "@jupyter-widgets/base",
            "_view_module_version": "1.2.0",
            "_view_name": "StyleView",
            "description_width": ""
          }
        },
        "40dde869192447b4bca5ca6916b1bad0": {
          "model_module": "@jupyter-widgets/controls",
          "model_name": "HBoxModel",
          "model_module_version": "1.5.0",
          "state": {
            "_dom_classes": [],
            "_model_module": "@jupyter-widgets/controls",
            "_model_module_version": "1.5.0",
            "_model_name": "HBoxModel",
            "_view_count": null,
            "_view_module": "@jupyter-widgets/controls",
            "_view_module_version": "1.5.0",
            "_view_name": "HBoxView",
            "box_style": "",
            "children": [
              "IPY_MODEL_bc298ed23677496ebf45c955bf0166e2",
              "IPY_MODEL_9b02cbfae87446809384f0b60f178b5c",
              "IPY_MODEL_8c4b5784396149d484c66e0ea7889667"
            ],
            "layout": "IPY_MODEL_b3cd13ec539044c0bd12c98599d12a3a"
          }
        },
        "bc298ed23677496ebf45c955bf0166e2": {
          "model_module": "@jupyter-widgets/controls",
          "model_name": "HTMLModel",
          "model_module_version": "1.5.0",
          "state": {
            "_dom_classes": [],
            "_model_module": "@jupyter-widgets/controls",
            "_model_module_version": "1.5.0",
            "_model_name": "HTMLModel",
            "_view_count": null,
            "_view_module": "@jupyter-widgets/controls",
            "_view_module_version": "1.5.0",
            "_view_name": "HTMLView",
            "description": "",
            "description_tooltip": null,
            "layout": "IPY_MODEL_38db80bb485b43f1a7eaa78301f54829",
            "placeholder": "​",
            "style": "IPY_MODEL_1b6068761365403db6ff0bc6304ee454",
            "value": "Downloading (…)okenizer_config.json: 100%"
          }
        },
        "9b02cbfae87446809384f0b60f178b5c": {
          "model_module": "@jupyter-widgets/controls",
          "model_name": "FloatProgressModel",
          "model_module_version": "1.5.0",
          "state": {
            "_dom_classes": [],
            "_model_module": "@jupyter-widgets/controls",
            "_model_module_version": "1.5.0",
            "_model_name": "FloatProgressModel",
            "_view_count": null,
            "_view_module": "@jupyter-widgets/controls",
            "_view_module_version": "1.5.0",
            "_view_name": "ProgressView",
            "bar_style": "success",
            "description": "",
            "description_tooltip": null,
            "layout": "IPY_MODEL_84a621adf8b14e37b1cb85713df0dfd2",
            "max": 28,
            "min": 0,
            "orientation": "horizontal",
            "style": "IPY_MODEL_86baca63133e47a38fe3dd962e55524c",
            "value": 28
          }
        },
        "8c4b5784396149d484c66e0ea7889667": {
          "model_module": "@jupyter-widgets/controls",
          "model_name": "HTMLModel",
          "model_module_version": "1.5.0",
          "state": {
            "_dom_classes": [],
            "_model_module": "@jupyter-widgets/controls",
            "_model_module_version": "1.5.0",
            "_model_name": "HTMLModel",
            "_view_count": null,
            "_view_module": "@jupyter-widgets/controls",
            "_view_module_version": "1.5.0",
            "_view_name": "HTMLView",
            "description": "",
            "description_tooltip": null,
            "layout": "IPY_MODEL_21a3ba69d0c94dd8bc4afd364544b95e",
            "placeholder": "​",
            "style": "IPY_MODEL_176cc23c4b6f430990fcd2f5148e4119",
            "value": " 28.0/28.0 [00:00&lt;00:00, 355B/s]"
          }
        },
        "b3cd13ec539044c0bd12c98599d12a3a": {
          "model_module": "@jupyter-widgets/base",
          "model_name": "LayoutModel",
          "model_module_version": "1.2.0",
          "state": {
            "_model_module": "@jupyter-widgets/base",
            "_model_module_version": "1.2.0",
            "_model_name": "LayoutModel",
            "_view_count": null,
            "_view_module": "@jupyter-widgets/base",
            "_view_module_version": "1.2.0",
            "_view_name": "LayoutView",
            "align_content": null,
            "align_items": null,
            "align_self": null,
            "border": null,
            "bottom": null,
            "display": null,
            "flex": null,
            "flex_flow": null,
            "grid_area": null,
            "grid_auto_columns": null,
            "grid_auto_flow": null,
            "grid_auto_rows": null,
            "grid_column": null,
            "grid_gap": null,
            "grid_row": null,
            "grid_template_areas": null,
            "grid_template_columns": null,
            "grid_template_rows": null,
            "height": null,
            "justify_content": null,
            "justify_items": null,
            "left": null,
            "margin": null,
            "max_height": null,
            "max_width": null,
            "min_height": null,
            "min_width": null,
            "object_fit": null,
            "object_position": null,
            "order": null,
            "overflow": null,
            "overflow_x": null,
            "overflow_y": null,
            "padding": null,
            "right": null,
            "top": null,
            "visibility": null,
            "width": null
          }
        },
        "38db80bb485b43f1a7eaa78301f54829": {
          "model_module": "@jupyter-widgets/base",
          "model_name": "LayoutModel",
          "model_module_version": "1.2.0",
          "state": {
            "_model_module": "@jupyter-widgets/base",
            "_model_module_version": "1.2.0",
            "_model_name": "LayoutModel",
            "_view_count": null,
            "_view_module": "@jupyter-widgets/base",
            "_view_module_version": "1.2.0",
            "_view_name": "LayoutView",
            "align_content": null,
            "align_items": null,
            "align_self": null,
            "border": null,
            "bottom": null,
            "display": null,
            "flex": null,
            "flex_flow": null,
            "grid_area": null,
            "grid_auto_columns": null,
            "grid_auto_flow": null,
            "grid_auto_rows": null,
            "grid_column": null,
            "grid_gap": null,
            "grid_row": null,
            "grid_template_areas": null,
            "grid_template_columns": null,
            "grid_template_rows": null,
            "height": null,
            "justify_content": null,
            "justify_items": null,
            "left": null,
            "margin": null,
            "max_height": null,
            "max_width": null,
            "min_height": null,
            "min_width": null,
            "object_fit": null,
            "object_position": null,
            "order": null,
            "overflow": null,
            "overflow_x": null,
            "overflow_y": null,
            "padding": null,
            "right": null,
            "top": null,
            "visibility": null,
            "width": null
          }
        },
        "1b6068761365403db6ff0bc6304ee454": {
          "model_module": "@jupyter-widgets/controls",
          "model_name": "DescriptionStyleModel",
          "model_module_version": "1.5.0",
          "state": {
            "_model_module": "@jupyter-widgets/controls",
            "_model_module_version": "1.5.0",
            "_model_name": "DescriptionStyleModel",
            "_view_count": null,
            "_view_module": "@jupyter-widgets/base",
            "_view_module_version": "1.2.0",
            "_view_name": "StyleView",
            "description_width": ""
          }
        },
        "84a621adf8b14e37b1cb85713df0dfd2": {
          "model_module": "@jupyter-widgets/base",
          "model_name": "LayoutModel",
          "model_module_version": "1.2.0",
          "state": {
            "_model_module": "@jupyter-widgets/base",
            "_model_module_version": "1.2.0",
            "_model_name": "LayoutModel",
            "_view_count": null,
            "_view_module": "@jupyter-widgets/base",
            "_view_module_version": "1.2.0",
            "_view_name": "LayoutView",
            "align_content": null,
            "align_items": null,
            "align_self": null,
            "border": null,
            "bottom": null,
            "display": null,
            "flex": null,
            "flex_flow": null,
            "grid_area": null,
            "grid_auto_columns": null,
            "grid_auto_flow": null,
            "grid_auto_rows": null,
            "grid_column": null,
            "grid_gap": null,
            "grid_row": null,
            "grid_template_areas": null,
            "grid_template_columns": null,
            "grid_template_rows": null,
            "height": null,
            "justify_content": null,
            "justify_items": null,
            "left": null,
            "margin": null,
            "max_height": null,
            "max_width": null,
            "min_height": null,
            "min_width": null,
            "object_fit": null,
            "object_position": null,
            "order": null,
            "overflow": null,
            "overflow_x": null,
            "overflow_y": null,
            "padding": null,
            "right": null,
            "top": null,
            "visibility": null,
            "width": null
          }
        },
        "86baca63133e47a38fe3dd962e55524c": {
          "model_module": "@jupyter-widgets/controls",
          "model_name": "ProgressStyleModel",
          "model_module_version": "1.5.0",
          "state": {
            "_model_module": "@jupyter-widgets/controls",
            "_model_module_version": "1.5.0",
            "_model_name": "ProgressStyleModel",
            "_view_count": null,
            "_view_module": "@jupyter-widgets/base",
            "_view_module_version": "1.2.0",
            "_view_name": "StyleView",
            "bar_color": null,
            "description_width": ""
          }
        },
        "21a3ba69d0c94dd8bc4afd364544b95e": {
          "model_module": "@jupyter-widgets/base",
          "model_name": "LayoutModel",
          "model_module_version": "1.2.0",
          "state": {
            "_model_module": "@jupyter-widgets/base",
            "_model_module_version": "1.2.0",
            "_model_name": "LayoutModel",
            "_view_count": null,
            "_view_module": "@jupyter-widgets/base",
            "_view_module_version": "1.2.0",
            "_view_name": "LayoutView",
            "align_content": null,
            "align_items": null,
            "align_self": null,
            "border": null,
            "bottom": null,
            "display": null,
            "flex": null,
            "flex_flow": null,
            "grid_area": null,
            "grid_auto_columns": null,
            "grid_auto_flow": null,
            "grid_auto_rows": null,
            "grid_column": null,
            "grid_gap": null,
            "grid_row": null,
            "grid_template_areas": null,
            "grid_template_columns": null,
            "grid_template_rows": null,
            "height": null,
            "justify_content": null,
            "justify_items": null,
            "left": null,
            "margin": null,
            "max_height": null,
            "max_width": null,
            "min_height": null,
            "min_width": null,
            "object_fit": null,
            "object_position": null,
            "order": null,
            "overflow": null,
            "overflow_x": null,
            "overflow_y": null,
            "padding": null,
            "right": null,
            "top": null,
            "visibility": null,
            "width": null
          }
        },
        "176cc23c4b6f430990fcd2f5148e4119": {
          "model_module": "@jupyter-widgets/controls",
          "model_name": "DescriptionStyleModel",
          "model_module_version": "1.5.0",
          "state": {
            "_model_module": "@jupyter-widgets/controls",
            "_model_module_version": "1.5.0",
            "_model_name": "DescriptionStyleModel",
            "_view_count": null,
            "_view_module": "@jupyter-widgets/base",
            "_view_module_version": "1.2.0",
            "_view_name": "StyleView",
            "description_width": ""
          }
        }
      }
    }
  },
  "nbformat": 4,
  "nbformat_minor": 0
}