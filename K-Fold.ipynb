{
  "cells": [
    {
      "cell_type": "markdown",
      "metadata": {
        "id": "OMa6Lyj68w0e"
      },
      "source": [
        "# **Starting Set-up**"
      ]
    },
    {
      "cell_type": "code",
      "execution_count": null,
      "metadata": {
        "id": "u4PWDhnbg1Pf",
        "colab": {
          "base_uri": "https://localhost:8080/"
        },
        "outputId": "beb3ba74-4a98-4d94-ec74-87149ba23f5f"
      },
      "outputs": [
        {
          "output_type": "stream",
          "name": "stdout",
          "text": [
            "Looking in indexes: https://pypi.org/simple, https://us-python.pkg.dev/colab-wheels/public/simple/\n",
            "Collecting transformers\n",
            "  Downloading transformers-4.29.2-py3-none-any.whl (7.1 MB)\n",
            "\u001b[2K     \u001b[90m━━━━━━━━━━━━━━━━━━━━━━━━━━━━━━━━━━━━━━━━\u001b[0m \u001b[32m7.1/7.1 MB\u001b[0m \u001b[31m17.2 MB/s\u001b[0m eta \u001b[36m0:00:00\u001b[0m\n",
            "\u001b[?25hRequirement already satisfied: filelock in /usr/local/lib/python3.10/dist-packages (from transformers) (3.12.0)\n",
            "Collecting huggingface-hub<1.0,>=0.14.1 (from transformers)\n",
            "  Downloading huggingface_hub-0.14.1-py3-none-any.whl (224 kB)\n",
            "\u001b[2K     \u001b[90m━━━━━━━━━━━━━━━━━━━━━━━━━━━━━━━━━━━━━━\u001b[0m \u001b[32m224.5/224.5 kB\u001b[0m \u001b[31m13.6 MB/s\u001b[0m eta \u001b[36m0:00:00\u001b[0m\n",
            "\u001b[?25hRequirement already satisfied: numpy>=1.17 in /usr/local/lib/python3.10/dist-packages (from transformers) (1.22.4)\n",
            "Requirement already satisfied: packaging>=20.0 in /usr/local/lib/python3.10/dist-packages (from transformers) (23.1)\n",
            "Requirement already satisfied: pyyaml>=5.1 in /usr/local/lib/python3.10/dist-packages (from transformers) (6.0)\n",
            "Requirement already satisfied: regex!=2019.12.17 in /usr/local/lib/python3.10/dist-packages (from transformers) (2022.10.31)\n",
            "Requirement already satisfied: requests in /usr/local/lib/python3.10/dist-packages (from transformers) (2.27.1)\n",
            "Collecting tokenizers!=0.11.3,<0.14,>=0.11.1 (from transformers)\n",
            "  Downloading tokenizers-0.13.3-cp310-cp310-manylinux_2_17_x86_64.manylinux2014_x86_64.whl (7.8 MB)\n",
            "\u001b[2K     \u001b[90m━━━━━━━━━━━━━━━━━━━━━━━━━━━━━━━━━━━━━━━━\u001b[0m \u001b[32m7.8/7.8 MB\u001b[0m \u001b[31m46.3 MB/s\u001b[0m eta \u001b[36m0:00:00\u001b[0m\n",
            "\u001b[?25hRequirement already satisfied: tqdm>=4.27 in /usr/local/lib/python3.10/dist-packages (from transformers) (4.65.0)\n",
            "Requirement already satisfied: fsspec in /usr/local/lib/python3.10/dist-packages (from huggingface-hub<1.0,>=0.14.1->transformers) (2023.4.0)\n",
            "Requirement already satisfied: typing-extensions>=3.7.4.3 in /usr/local/lib/python3.10/dist-packages (from huggingface-hub<1.0,>=0.14.1->transformers) (4.5.0)\n",
            "Requirement already satisfied: urllib3<1.27,>=1.21.1 in /usr/local/lib/python3.10/dist-packages (from requests->transformers) (1.26.15)\n",
            "Requirement already satisfied: certifi>=2017.4.17 in /usr/local/lib/python3.10/dist-packages (from requests->transformers) (2022.12.7)\n",
            "Requirement already satisfied: charset-normalizer~=2.0.0 in /usr/local/lib/python3.10/dist-packages (from requests->transformers) (2.0.12)\n",
            "Requirement already satisfied: idna<4,>=2.5 in /usr/local/lib/python3.10/dist-packages (from requests->transformers) (3.4)\n",
            "Installing collected packages: tokenizers, huggingface-hub, transformers\n",
            "Successfully installed huggingface-hub-0.14.1 tokenizers-0.13.3 transformers-4.29.2\n",
            "Looking in indexes: https://pypi.org/simple, https://us-python.pkg.dev/colab-wheels/public/simple/\n",
            "Requirement already satisfied: PyDrive in /usr/local/lib/python3.10/dist-packages (1.3.1)\n",
            "Requirement already satisfied: google-api-python-client>=1.2 in /usr/local/lib/python3.10/dist-packages (from PyDrive) (2.84.0)\n",
            "Requirement already satisfied: oauth2client>=4.0.0 in /usr/local/lib/python3.10/dist-packages (from PyDrive) (4.1.3)\n",
            "Requirement already satisfied: PyYAML>=3.0 in /usr/local/lib/python3.10/dist-packages (from PyDrive) (6.0)\n",
            "Requirement already satisfied: httplib2<1dev,>=0.15.0 in /usr/local/lib/python3.10/dist-packages (from google-api-python-client>=1.2->PyDrive) (0.21.0)\n",
            "Requirement already satisfied: google-auth<3.0.0dev,>=1.19.0 in /usr/local/lib/python3.10/dist-packages (from google-api-python-client>=1.2->PyDrive) (2.17.3)\n",
            "Requirement already satisfied: google-auth-httplib2>=0.1.0 in /usr/local/lib/python3.10/dist-packages (from google-api-python-client>=1.2->PyDrive) (0.1.0)\n",
            "Requirement already satisfied: google-api-core!=2.0.*,!=2.1.*,!=2.2.*,!=2.3.0,<3.0.0dev,>=1.31.5 in /usr/local/lib/python3.10/dist-packages (from google-api-python-client>=1.2->PyDrive) (2.11.0)\n",
            "Requirement already satisfied: uritemplate<5,>=3.0.1 in /usr/local/lib/python3.10/dist-packages (from google-api-python-client>=1.2->PyDrive) (4.1.1)\n",
            "Requirement already satisfied: pyasn1>=0.1.7 in /usr/local/lib/python3.10/dist-packages (from oauth2client>=4.0.0->PyDrive) (0.5.0)\n",
            "Requirement already satisfied: pyasn1-modules>=0.0.5 in /usr/local/lib/python3.10/dist-packages (from oauth2client>=4.0.0->PyDrive) (0.3.0)\n",
            "Requirement already satisfied: rsa>=3.1.4 in /usr/local/lib/python3.10/dist-packages (from oauth2client>=4.0.0->PyDrive) (4.9)\n",
            "Requirement already satisfied: six>=1.6.1 in /usr/local/lib/python3.10/dist-packages (from oauth2client>=4.0.0->PyDrive) (1.16.0)\n",
            "Requirement already satisfied: googleapis-common-protos<2.0dev,>=1.56.2 in /usr/local/lib/python3.10/dist-packages (from google-api-core!=2.0.*,!=2.1.*,!=2.2.*,!=2.3.0,<3.0.0dev,>=1.31.5->google-api-python-client>=1.2->PyDrive) (1.59.0)\n",
            "Requirement already satisfied: protobuf!=3.20.0,!=3.20.1,!=4.21.0,!=4.21.1,!=4.21.2,!=4.21.3,!=4.21.4,!=4.21.5,<5.0.0dev,>=3.19.5 in /usr/local/lib/python3.10/dist-packages (from google-api-core!=2.0.*,!=2.1.*,!=2.2.*,!=2.3.0,<3.0.0dev,>=1.31.5->google-api-python-client>=1.2->PyDrive) (3.20.3)\n",
            "Requirement already satisfied: requests<3.0.0dev,>=2.18.0 in /usr/local/lib/python3.10/dist-packages (from google-api-core!=2.0.*,!=2.1.*,!=2.2.*,!=2.3.0,<3.0.0dev,>=1.31.5->google-api-python-client>=1.2->PyDrive) (2.27.1)\n",
            "Requirement already satisfied: cachetools<6.0,>=2.0.0 in /usr/local/lib/python3.10/dist-packages (from google-auth<3.0.0dev,>=1.19.0->google-api-python-client>=1.2->PyDrive) (5.3.0)\n",
            "Requirement already satisfied: pyparsing!=3.0.0,!=3.0.1,!=3.0.2,!=3.0.3,<4,>=2.4.2 in /usr/local/lib/python3.10/dist-packages (from httplib2<1dev,>=0.15.0->google-api-python-client>=1.2->PyDrive) (3.0.9)\n",
            "Requirement already satisfied: urllib3<1.27,>=1.21.1 in /usr/local/lib/python3.10/dist-packages (from requests<3.0.0dev,>=2.18.0->google-api-core!=2.0.*,!=2.1.*,!=2.2.*,!=2.3.0,<3.0.0dev,>=1.31.5->google-api-python-client>=1.2->PyDrive) (1.26.15)\n",
            "Requirement already satisfied: certifi>=2017.4.17 in /usr/local/lib/python3.10/dist-packages (from requests<3.0.0dev,>=2.18.0->google-api-core!=2.0.*,!=2.1.*,!=2.2.*,!=2.3.0,<3.0.0dev,>=1.31.5->google-api-python-client>=1.2->PyDrive) (2022.12.7)\n",
            "Requirement already satisfied: charset-normalizer~=2.0.0 in /usr/local/lib/python3.10/dist-packages (from requests<3.0.0dev,>=2.18.0->google-api-core!=2.0.*,!=2.1.*,!=2.2.*,!=2.3.0,<3.0.0dev,>=1.31.5->google-api-python-client>=1.2->PyDrive) (2.0.12)\n",
            "Requirement already satisfied: idna<4,>=2.5 in /usr/local/lib/python3.10/dist-packages (from requests<3.0.0dev,>=2.18.0->google-api-core!=2.0.*,!=2.1.*,!=2.2.*,!=2.3.0,<3.0.0dev,>=1.31.5->google-api-python-client>=1.2->PyDrive) (3.4)\n",
            "Looking in indexes: https://pypi.org/simple, https://us-python.pkg.dev/colab-wheels/public/simple/\n",
            "Requirement already satisfied: tensorflow in /usr/local/lib/python3.10/dist-packages (2.12.0)\n",
            "Requirement already satisfied: absl-py>=1.0.0 in /usr/local/lib/python3.10/dist-packages (from tensorflow) (1.4.0)\n",
            "Requirement already satisfied: astunparse>=1.6.0 in /usr/local/lib/python3.10/dist-packages (from tensorflow) (1.6.3)\n",
            "Requirement already satisfied: flatbuffers>=2.0 in /usr/local/lib/python3.10/dist-packages (from tensorflow) (23.3.3)\n",
            "Requirement already satisfied: gast<=0.4.0,>=0.2.1 in /usr/local/lib/python3.10/dist-packages (from tensorflow) (0.4.0)\n",
            "Requirement already satisfied: google-pasta>=0.1.1 in /usr/local/lib/python3.10/dist-packages (from tensorflow) (0.2.0)\n",
            "Requirement already satisfied: grpcio<2.0,>=1.24.3 in /usr/local/lib/python3.10/dist-packages (from tensorflow) (1.54.0)\n",
            "Requirement already satisfied: h5py>=2.9.0 in /usr/local/lib/python3.10/dist-packages (from tensorflow) (3.8.0)\n",
            "Requirement already satisfied: jax>=0.3.15 in /usr/local/lib/python3.10/dist-packages (from tensorflow) (0.4.10)\n",
            "Requirement already satisfied: keras<2.13,>=2.12.0 in /usr/local/lib/python3.10/dist-packages (from tensorflow) (2.12.0)\n",
            "Requirement already satisfied: libclang>=13.0.0 in /usr/local/lib/python3.10/dist-packages (from tensorflow) (16.0.0)\n",
            "Requirement already satisfied: numpy<1.24,>=1.22 in /usr/local/lib/python3.10/dist-packages (from tensorflow) (1.22.4)\n",
            "Requirement already satisfied: opt-einsum>=2.3.2 in /usr/local/lib/python3.10/dist-packages (from tensorflow) (3.3.0)\n",
            "Requirement already satisfied: packaging in /usr/local/lib/python3.10/dist-packages (from tensorflow) (23.1)\n",
            "Requirement already satisfied: protobuf!=4.21.0,!=4.21.1,!=4.21.2,!=4.21.3,!=4.21.4,!=4.21.5,<5.0.0dev,>=3.20.3 in /usr/local/lib/python3.10/dist-packages (from tensorflow) (3.20.3)\n",
            "Requirement already satisfied: setuptools in /usr/local/lib/python3.10/dist-packages (from tensorflow) (67.7.2)\n",
            "Requirement already satisfied: six>=1.12.0 in /usr/local/lib/python3.10/dist-packages (from tensorflow) (1.16.0)\n",
            "Requirement already satisfied: tensorboard<2.13,>=2.12 in /usr/local/lib/python3.10/dist-packages (from tensorflow) (2.12.2)\n",
            "Requirement already satisfied: tensorflow-estimator<2.13,>=2.12.0 in /usr/local/lib/python3.10/dist-packages (from tensorflow) (2.12.0)\n",
            "Requirement already satisfied: termcolor>=1.1.0 in /usr/local/lib/python3.10/dist-packages (from tensorflow) (2.3.0)\n",
            "Requirement already satisfied: typing-extensions>=3.6.6 in /usr/local/lib/python3.10/dist-packages (from tensorflow) (4.5.0)\n",
            "Requirement already satisfied: wrapt<1.15,>=1.11.0 in /usr/local/lib/python3.10/dist-packages (from tensorflow) (1.14.1)\n",
            "Requirement already satisfied: tensorflow-io-gcs-filesystem>=0.23.1 in /usr/local/lib/python3.10/dist-packages (from tensorflow) (0.32.0)\n",
            "Requirement already satisfied: wheel<1.0,>=0.23.0 in /usr/local/lib/python3.10/dist-packages (from astunparse>=1.6.0->tensorflow) (0.40.0)\n",
            "Requirement already satisfied: ml-dtypes>=0.1.0 in /usr/local/lib/python3.10/dist-packages (from jax>=0.3.15->tensorflow) (0.1.0)\n",
            "Requirement already satisfied: scipy>=1.7 in /usr/local/lib/python3.10/dist-packages (from jax>=0.3.15->tensorflow) (1.10.1)\n",
            "Requirement already satisfied: google-auth<3,>=1.6.3 in /usr/local/lib/python3.10/dist-packages (from tensorboard<2.13,>=2.12->tensorflow) (2.17.3)\n",
            "Requirement already satisfied: google-auth-oauthlib<1.1,>=0.5 in /usr/local/lib/python3.10/dist-packages (from tensorboard<2.13,>=2.12->tensorflow) (1.0.0)\n",
            "Requirement already satisfied: markdown>=2.6.8 in /usr/local/lib/python3.10/dist-packages (from tensorboard<2.13,>=2.12->tensorflow) (3.4.3)\n",
            "Requirement already satisfied: requests<3,>=2.21.0 in /usr/local/lib/python3.10/dist-packages (from tensorboard<2.13,>=2.12->tensorflow) (2.27.1)\n",
            "Requirement already satisfied: tensorboard-data-server<0.8.0,>=0.7.0 in /usr/local/lib/python3.10/dist-packages (from tensorboard<2.13,>=2.12->tensorflow) (0.7.0)\n",
            "Requirement already satisfied: tensorboard-plugin-wit>=1.6.0 in /usr/local/lib/python3.10/dist-packages (from tensorboard<2.13,>=2.12->tensorflow) (1.8.1)\n",
            "Requirement already satisfied: werkzeug>=1.0.1 in /usr/local/lib/python3.10/dist-packages (from tensorboard<2.13,>=2.12->tensorflow) (2.3.0)\n",
            "Requirement already satisfied: cachetools<6.0,>=2.0.0 in /usr/local/lib/python3.10/dist-packages (from google-auth<3,>=1.6.3->tensorboard<2.13,>=2.12->tensorflow) (5.3.0)\n",
            "Requirement already satisfied: pyasn1-modules>=0.2.1 in /usr/local/lib/python3.10/dist-packages (from google-auth<3,>=1.6.3->tensorboard<2.13,>=2.12->tensorflow) (0.3.0)\n",
            "Requirement already satisfied: rsa<5,>=3.1.4 in /usr/local/lib/python3.10/dist-packages (from google-auth<3,>=1.6.3->tensorboard<2.13,>=2.12->tensorflow) (4.9)\n",
            "Requirement already satisfied: requests-oauthlib>=0.7.0 in /usr/local/lib/python3.10/dist-packages (from google-auth-oauthlib<1.1,>=0.5->tensorboard<2.13,>=2.12->tensorflow) (1.3.1)\n",
            "Requirement already satisfied: urllib3<1.27,>=1.21.1 in /usr/local/lib/python3.10/dist-packages (from requests<3,>=2.21.0->tensorboard<2.13,>=2.12->tensorflow) (1.26.15)\n",
            "Requirement already satisfied: certifi>=2017.4.17 in /usr/local/lib/python3.10/dist-packages (from requests<3,>=2.21.0->tensorboard<2.13,>=2.12->tensorflow) (2022.12.7)\n",
            "Requirement already satisfied: charset-normalizer~=2.0.0 in /usr/local/lib/python3.10/dist-packages (from requests<3,>=2.21.0->tensorboard<2.13,>=2.12->tensorflow) (2.0.12)\n",
            "Requirement already satisfied: idna<4,>=2.5 in /usr/local/lib/python3.10/dist-packages (from requests<3,>=2.21.0->tensorboard<2.13,>=2.12->tensorflow) (3.4)\n",
            "Requirement already satisfied: MarkupSafe>=2.1.1 in /usr/local/lib/python3.10/dist-packages (from werkzeug>=1.0.1->tensorboard<2.13,>=2.12->tensorflow) (2.1.2)\n",
            "Requirement already satisfied: pyasn1<0.6.0,>=0.4.6 in /usr/local/lib/python3.10/dist-packages (from pyasn1-modules>=0.2.1->google-auth<3,>=1.6.3->tensorboard<2.13,>=2.12->tensorflow) (0.5.0)\n",
            "Requirement already satisfied: oauthlib>=3.0.0 in /usr/local/lib/python3.10/dist-packages (from requests-oauthlib>=0.7.0->google-auth-oauthlib<1.1,>=0.5->tensorboard<2.13,>=2.12->tensorflow) (3.2.2)\n"
          ]
        }
      ],
      "source": [
        "# Install Required Libs\n",
        "#======================\n",
        "!pip install transformers\n",
        "!pip install PyDrive\n",
        "!pip install tensorflow"
      ]
    },
    {
      "cell_type": "code",
      "execution_count": null,
      "metadata": {
        "id": "m_NPCOxBhQJV"
      },
      "outputs": [],
      "source": [
        "# Import Required Packages\n",
        "#=========================\n",
        "\n",
        "# General Purpose Packages\n",
        "import numpy as np\n",
        "import pandas as pd\n",
        "import tensorflow as tf\n",
        "import matplotlib.pyplot as plt\n",
        "import seaborn as sns\n",
        "from sklearn import preprocessing\n",
        "# from imblearn.over_sampling import RandomOverSampler\n",
        "# from sklearn.model_selection import train_test_split\n",
        "\n",
        "# # Naive Bayes\n",
        "# from sklearn.feature_extraction.text import CountVectorizer\n",
        "# from sklearn.feature_extraction.text import TfidfTransformer\n",
        "# from sklearn.naive_bayes import MultinomialNB\n",
        "\n",
        "# Transformers Model & Tokenizer\n",
        "from transformers import BertTokenizer, TFBertForSequenceClassification\n",
        "\n",
        "# Transformers Function for Create Input Example & Input Feature\n",
        "from transformers import InputExample, InputFeatures\n",
        "\n",
        "# Keras\n",
        "import tensorflow as tf\n",
        "from tensorflow import keras\n",
        "\n",
        "# Model Evaluation Metrics\n",
        "from sklearn.metrics import classification_report, confusion_matrix, accuracy_score, f1_score\n",
        "import itertools"
      ]
    },
    {
      "cell_type": "markdown",
      "source": [
        "## Connect to G-Drive"
      ],
      "metadata": {
        "id": "4y2tNDKYCULj"
      }
    },
    {
      "cell_type": "code",
      "source": [
        "from google.colab import drive\n",
        "drive.mount('/content/gdrive')"
      ],
      "metadata": {
        "colab": {
          "base_uri": "https://localhost:8080/"
        },
        "id": "KtvHEtuNLfBO",
        "outputId": "65e2f55c-eed0-4e87-9317-bb7722ad2117"
      },
      "execution_count": null,
      "outputs": [
        {
          "output_type": "stream",
          "name": "stdout",
          "text": [
            "Mounted at /content/gdrive\n"
          ]
        }
      ]
    },
    {
      "cell_type": "markdown",
      "source": [
        "# **Define Model & Tokenizer**"
      ],
      "metadata": {
        "id": "AL0fsvCCCLUy"
      }
    },
    {
      "cell_type": "code",
      "execution_count": null,
      "metadata": {
        "id": "E9wIlp9ihVh9",
        "colab": {
          "base_uri": "https://localhost:8080/",
          "referenced_widgets": [
            "2e51156741f443ed84a5446f8b1e8cba",
            "e493c92335be4c16a0958a9aacb5f621",
            "1ade3276ced145239afe8393a650d392",
            "8ac767c9444b4d9a8d937ac3162b1159",
            "1cdefc1331bd4d0fb9aac7021277dba2",
            "f9c5358753ec48bf954ed8ff56fef094",
            "f43f7e4bd8624cf5a3ae5eced7f1634c",
            "5d1b66ae76fb4ebcb1dbe7c9820435b2",
            "a07c9ef33ab54f568c7e5f09f9ac1ac1",
            "a63fd1255eef41c8bb81d56cbc98840b",
            "3a0d2647a0fa46998bbebf21ba66e80a",
            "bc4406d3d10a42de9062ed7c1bfe14da",
            "54c1021a1b1f4863a1e8a412ffef9073",
            "b788c19cc5d84f86b8e50e7ae362bffa",
            "fef97e194e63400685963519ba948ac8",
            "fd6313be931b4d69b1b8a67f78932453",
            "f00571511f5a4270bc610cef8eddfc27",
            "50813ad1b29348cbac81bca5f459bc2f",
            "9fd7ffaa86c840da956ea5a1dc4409b8",
            "97e137848275444c8a6fe68da8b55caf",
            "0bae6070c9084da7981ee7e36f94ad8a",
            "87b5fb49705847eb843f45d8b26afaa0"
          ]
        },
        "outputId": "ca1f6df4-f562-446c-c37a-063a7069ca3c"
      },
      "outputs": [
        {
          "output_type": "display_data",
          "data": {
            "text/plain": [
              "Downloading (…)lve/main/config.json:   0%|          | 0.00/570 [00:00<?, ?B/s]"
            ],
            "application/vnd.jupyter.widget-view+json": {
              "version_major": 2,
              "version_minor": 0,
              "model_id": "2e51156741f443ed84a5446f8b1e8cba"
            }
          },
          "metadata": {}
        },
        {
          "output_type": "display_data",
          "data": {
            "text/plain": [
              "Downloading pytorch_model.bin:   0%|          | 0.00/440M [00:00<?, ?B/s]"
            ],
            "application/vnd.jupyter.widget-view+json": {
              "version_major": 2,
              "version_minor": 0,
              "model_id": "bc4406d3d10a42de9062ed7c1bfe14da"
            }
          },
          "metadata": {}
        },
        {
          "output_type": "stream",
          "name": "stderr",
          "text": [
            "All PyTorch model weights were used when initializing TFBertForSequenceClassification.\n",
            "\n",
            "Some weights or buffers of the TF 2.0 model TFBertForSequenceClassification were not initialized from the PyTorch model and are newly initialized: ['classifier.weight', 'classifier.bias']\n",
            "You should probably TRAIN this model on a down-stream task to be able to use it for predictions and inference.\n"
          ]
        }
      ],
      "source": [
        "# Define Model\n",
        "#=============\n",
        "model = TFBertForSequenceClassification.from_pretrained(\"bert-base-uncased\",  \n",
        "                                                        from_pt = True,\n",
        "                                                        num_labels = 3)       # Set jumlah kelas / label yang akan diprediksi model"
      ]
    },
    {
      "cell_type": "code",
      "source": [
        "# Define Tokenizer\n",
        "#=================\n",
        "tokenizer = BertTokenizer.from_pretrained(\"bert-base-uncased\")"
      ],
      "metadata": {
        "id": "0ozTCTfcCO15",
        "colab": {
          "base_uri": "https://localhost:8080/",
          "referenced_widgets": [
            "1b792ca3ef274dc69197f7b9cfc553fc",
            "07bee8c483af4599aae56bf775fc491e",
            "ce7c9d0011d047a4b8bec892b7f50d17",
            "70889d7c03424b968f6ca3da3798dca8",
            "904ff6d11e524c33aab9618b9493a6d9",
            "8e89685478f44350a217ded04cdb43df",
            "800158fe768f497db497088d729b0b01",
            "5989009801e048689ac04c5294d487a2",
            "9c6269d2a5e84ee797764d27efd41863",
            "bcd17c680f2141f88f402bf68eae0985",
            "2c6d6a73f39345d6a6be4c42f46cbfbd",
            "9db87d044e38465c864b350352222004",
            "52ef73c7bafc441cbd66cde42f457349",
            "76386b9517d140a6935c816807ccc5f0",
            "9148e4116e614664b65e0d2171267b2f",
            "1d7c048b063e4b52a9276bb2d4c5db02",
            "273407591bb249e5b701db39990c9dbc",
            "6069a4817ced42e18d37a730ae312598",
            "af4621e703d84451b0519ddb79578d43",
            "e7f4db89365c409789e57c6409add416",
            "39e06e253e6f4d0b8d52349140e8fcdf",
            "60b98005d162450d87601cb22adf4a7e"
          ]
        },
        "outputId": "6027fe23-27ca-4b48-faef-46ae30a19e66"
      },
      "execution_count": null,
      "outputs": [
        {
          "output_type": "display_data",
          "data": {
            "text/plain": [
              "Downloading (…)solve/main/vocab.txt:   0%|          | 0.00/232k [00:00<?, ?B/s]"
            ],
            "application/vnd.jupyter.widget-view+json": {
              "version_major": 2,
              "version_minor": 0,
              "model_id": "1b792ca3ef274dc69197f7b9cfc553fc"
            }
          },
          "metadata": {}
        },
        {
          "output_type": "display_data",
          "data": {
            "text/plain": [
              "Downloading (…)okenizer_config.json:   0%|          | 0.00/28.0 [00:00<?, ?B/s]"
            ],
            "application/vnd.jupyter.widget-view+json": {
              "version_major": 2,
              "version_minor": 0,
              "model_id": "9db87d044e38465c864b350352222004"
            }
          },
          "metadata": {}
        }
      ]
    },
    {
      "cell_type": "code",
      "execution_count": null,
      "metadata": {
        "id": "X5EAgFT2-W9t",
        "colab": {
          "base_uri": "https://localhost:8080/"
        },
        "outputId": "700ff0ef-6fa3-4017-d4dd-39dcc9e29f5f"
      },
      "outputs": [
        {
          "output_type": "stream",
          "name": "stdout",
          "text": [
            "Model: \"tf_bert_for_sequence_classification\"\n",
            "_________________________________________________________________\n",
            " Layer (type)                Output Shape              Param #   \n",
            "=================================================================\n",
            " bert (TFBertMainLayer)      multiple                  109482240 \n",
            "                                                                 \n",
            " dropout_37 (Dropout)        multiple                  0         \n",
            "                                                                 \n",
            " classifier (Dense)          multiple                  2307      \n",
            "                                                                 \n",
            "=================================================================\n",
            "Total params: 109,484,547\n",
            "Trainable params: 109,484,547\n",
            "Non-trainable params: 0\n",
            "_________________________________________________________________\n"
          ]
        }
      ],
      "source": [
        "# Get Model Information\n",
        "#======================\n",
        "model.summary()"
      ]
    },
    {
      "cell_type": "markdown",
      "metadata": {
        "id": "gFNP17Ju9hz-"
      },
      "source": [
        "# **Data Pre-processing**"
      ]
    },
    {
      "cell_type": "code",
      "source": [
        "# Define URLs for Data from G-Drive\n",
        "#==================================\n",
        "proj_path = '/content/gdrive/MyDrive/data/'"
      ],
      "metadata": {
        "id": "Ort78ZPsNUcl"
      },
      "execution_count": null,
      "outputs": []
    },
    {
      "cell_type": "markdown",
      "metadata": {
        "id": "P_nqR94--_d8"
      },
      "source": [
        "## Train Data"
      ]
    },
    {
      "cell_type": "code",
      "execution_count": null,
      "metadata": {
        "colab": {
          "base_uri": "https://localhost:8080/"
        },
        "id": "4XVM8pwmh5OS",
        "outputId": "b149cc06-61b7-43b0-dd33-8410fb5f9eee"
      },
      "outputs": [
        {
          "output_type": "stream",
          "name": "stdout",
          "text": [
            "<class 'pandas.core.frame.DataFrame'>\n",
            "RangeIndex: 6500 entries, 0 to 6499\n",
            "Data columns (total 3 columns):\n",
            " #   Column        Non-Null Count  Dtype \n",
            "---  ------        --------------  ----- \n",
            " 0   Unnamed: 0    6500 non-null   int64 \n",
            " 1   DATA_COLUMN   6500 non-null   object\n",
            " 2   LABEL_COLUMN  6500 non-null   int64 \n",
            "dtypes: int64(2), object(1)\n",
            "memory usage: 152.5+ KB\n"
          ]
        }
      ],
      "source": [
        "# Set Data Into Datafram\n",
        "#=======================\n",
        "df_train = pd.read_csv(proj_path + 'twitter_processed_data_train.csv')\n",
        "df_train = df_train.dropna()\n",
        "\n",
        "# Get Data Info\n",
        "#==============\n",
        "df_train.info()"
      ]
    },
    {
      "cell_type": "code",
      "execution_count": null,
      "metadata": {
        "id": "kTIyjPrgNMl1",
        "colab": {
          "base_uri": "https://localhost:8080/"
        },
        "outputId": "f2e78dfe-55ac-4e97-d4ea-6238c50c6057"
      },
      "outputs": [
        {
          "output_type": "stream",
          "name": "stdout",
          "text": [
            "Data Distribution:\n",
            " 0    2677\n",
            "2    1983\n",
            "1    1840\n",
            "Name: LABEL_COLUMN, dtype: int64\n",
            "\n",
            "\n",
            "df_train shape:  (6500, 3)\n",
            "\n",
            "\n",
            "   Unnamed: 0                                        DATA_COLUMN  LABEL_COLUMN\n",
            "0           0  Right folks, really must go now; have to babys...             0\n",
            "1           1                                    Happy birthday.             2\n",
            "2           2                              your not following us             1\n",
            "3           3                                   cant wait to see             2\n",
            "4           4  Enjoyed see`n everyone last night! even tho it...             0\n"
          ]
        }
      ],
      "source": [
        "# Test Call\n",
        "#==========\n",
        "print(\"Data Distribution:\\n\", df_train['LABEL_COLUMN'].value_counts())\n",
        "print(\"\\n\")\n",
        "print(\"df_train shape: \", df_train.shape)\n",
        "print('\\n')\n",
        "print(df_train.head())"
      ]
    },
    {
      "cell_type": "markdown",
      "source": [
        "### Split Train DF Base On Label"
      ],
      "metadata": {
        "id": "ZQekRFVHDfxS"
      }
    },
    {
      "cell_type": "code",
      "source": [
        "from sklearn.model_selection import KFold\n",
        "\n",
        "cv = KFold(n_splits=5, random_state=1, shuffle=True)\n",
        "tkf = []\n",
        "vkf = []\n",
        "train_input = []\n",
        "valid_input = []\n",
        "\n",
        "train_array = df_train.DATA_COLUMN.to_numpy()\n",
        "y_train_array = df_train.LABEL_COLUMN.to_numpy()\n",
        "\n",
        "for t_idx, v_idx in cv.split(train_array, y_train_array):\n",
        "    x_train, x_val = train_array[t_idx], train_array[v_idx]\n",
        "    y_train, y_val = y_train_array[t_idx], y_train_array[v_idx]"
      ],
      "metadata": {
        "id": "RXBc-hI2DiW6"
      },
      "execution_count": null,
      "outputs": []
    },
    {
      "cell_type": "markdown",
      "source": [
        "### Resampling Process"
      ],
      "metadata": {
        "id": "VVLev8GzDcFc"
      }
    },
    {
      "cell_type": "code",
      "source": [
        "x_list = x_train.tolist()\n",
        "y_list = y_train.tolist()\n",
        "x_list_val = x_val.tolist()\n",
        "y_list_val = y_val.tolist()\n",
        "\n",
        "traindata_df = pd.DataFrame(x_list, columns=['DATA_COLUMN'])\n",
        "trainlabel_df = pd.DataFrame(y_list, columns=['LABEL_COLUMN'])\n",
        "valdata_df = pd.DataFrame(x_list_val, columns=['DATA_COLUMN'])\n",
        "vallabel_df = pd.DataFrame(y_list_val, columns=['LABEL_COLUMN'])"
      ],
      "metadata": {
        "id": "FyluyKSaDeHE"
      },
      "execution_count": null,
      "outputs": []
    },
    {
      "cell_type": "markdown",
      "source": [
        "### Merge Resampled Data Into Train_DF_Resampled"
      ],
      "metadata": {
        "id": "tFBV5XqDDjHL"
      }
    },
    {
      "cell_type": "code",
      "source": [
        "train_df = pd.concat([traindata_df, trainlabel_df], axis=1)\n",
        "val_df = pd.concat([valdata_df, vallabel_df], axis=1)\n",
        "\n",
        "tkf.append(train_df)\n",
        "vkf.append(val_df)\n",
        "train_input.append(x_train)\n",
        "valid_input.append(x_val)"
      ],
      "metadata": {
        "id": "EwRR6A2ODm8B"
      },
      "execution_count": null,
      "outputs": []
    },
    {
      "cell_type": "markdown",
      "source": [
        "## Valid Data"
      ],
      "metadata": {
        "id": "rPes3jksDJQC"
      }
    },
    {
      "cell_type": "code",
      "source": [
        "# Set Data Into Datafram\n",
        "#=======================\n",
        "df_valid = pd.read_csv(proj_path + 'twitter_processed_data_valid.csv')\n",
        "df_valid = df_valid.dropna()\n",
        "\n",
        "# Get Data Info\n",
        "#==============\n",
        "df_valid.info()"
      ],
      "metadata": {
        "id": "FxZHDMXMPV0G",
        "colab": {
          "base_uri": "https://localhost:8080/"
        },
        "outputId": "1fca1387-f5f2-495e-8d35-4147873d273f"
      },
      "execution_count": null,
      "outputs": [
        {
          "output_type": "stream",
          "name": "stdout",
          "text": [
            "<class 'pandas.core.frame.DataFrame'>\n",
            "RangeIndex: 2275 entries, 0 to 2274\n",
            "Data columns (total 3 columns):\n",
            " #   Column        Non-Null Count  Dtype \n",
            "---  ------        --------------  ----- \n",
            " 0   Unnamed: 0    2275 non-null   int64 \n",
            " 1   DATA_COLUMN   2275 non-null   object\n",
            " 2   LABEL_COLUMN  2275 non-null   int64 \n",
            "dtypes: int64(2), object(1)\n",
            "memory usage: 53.4+ KB\n"
          ]
        }
      ]
    },
    {
      "cell_type": "code",
      "source": [
        "# Test Call\n",
        "#==========\n",
        "print(df_valid.shape)\n",
        "print('\\n')\n",
        "print(df_valid.head())"
      ],
      "metadata": {
        "id": "dGt0iO95PdSJ",
        "colab": {
          "base_uri": "https://localhost:8080/"
        },
        "outputId": "e4e2e06f-adf2-4cb8-ee1e-4c04f8865ef1"
      },
      "execution_count": null,
      "outputs": [
        {
          "output_type": "stream",
          "name": "stdout",
          "text": [
            "(2275, 3)\n",
            "\n",
            "\n",
            "   Unnamed: 0                                   DATA_COLUMN  LABEL_COLUMN\n",
            "0           0                                       laughs!             2\n",
            "1           1  I already know what happens on Supernatural.             0\n",
            "2           2                                    recession.             1\n",
            "3           3                                      #yourock             2\n",
            "4           4                                          fave             2\n"
          ]
        }
      ]
    },
    {
      "cell_type": "markdown",
      "source": [
        "## Test Data"
      ],
      "metadata": {
        "id": "K4DFLuEBDS1C"
      }
    },
    {
      "cell_type": "code",
      "execution_count": null,
      "metadata": {
        "id": "fG9Vl8pd1-w0",
        "colab": {
          "base_uri": "https://localhost:8080/"
        },
        "outputId": "0c96caa6-2bcc-4a7c-a94f-70be4789b8be"
      },
      "outputs": [
        {
          "output_type": "stream",
          "name": "stdout",
          "text": [
            "<class 'pandas.core.frame.DataFrame'>\n",
            "RangeIndex: 1225 entries, 0 to 1224\n",
            "Data columns (total 3 columns):\n",
            " #   Column        Non-Null Count  Dtype \n",
            "---  ------        --------------  ----- \n",
            " 0   Unnamed: 0    1225 non-null   int64 \n",
            " 1   DATA_COLUMN   1225 non-null   object\n",
            " 2   LABEL_COLUMN  1225 non-null   int64 \n",
            "dtypes: int64(2), object(1)\n",
            "memory usage: 28.8+ KB\n"
          ]
        }
      ],
      "source": [
        "# Set Data Into Datafram\n",
        "#=======================\n",
        "df_test = pd.read_csv(proj_path + 'twitter_processed_data_test.csv')\n",
        "df_test = df_test.dropna()\n",
        "\n",
        "# Get Data Info\n",
        "#==============\n",
        "df_test.info()"
      ]
    },
    {
      "cell_type": "code",
      "source": [
        "# Test Call\n",
        "#==========\n",
        "print(df_test.shape)\n",
        "print('\\n')\n",
        "print(df_test.head())"
      ],
      "metadata": {
        "id": "MHY0ZhSbOJgT",
        "colab": {
          "base_uri": "https://localhost:8080/"
        },
        "outputId": "bcf6d842-cb91-480a-93dd-5aae0cfbed9c"
      },
      "execution_count": null,
      "outputs": [
        {
          "output_type": "stream",
          "name": "stdout",
          "text": [
            "(1225, 3)\n",
            "\n",
            "\n",
            "   Unnamed: 0                                        DATA_COLUMN  LABEL_COLUMN\n",
            "0           0  pretty much ever HP except the one i wanted to...             2\n",
            "1           1                                              broke             1\n",
            "2           2  Did you get your free chocolate?!? I still hav...             0\n",
            "3           3                                      thats funny..             1\n",
            "4           4                                    Dont worry man.             2\n"
          ]
        }
      ]
    },
    {
      "cell_type": "markdown",
      "source": [
        "# **Create Input Example & Features**"
      ],
      "metadata": {
        "id": "8b3CBn-mG2Sh"
      }
    },
    {
      "cell_type": "markdown",
      "metadata": {
        "id": "OGfsDcdrAZKM"
      },
      "source": [
        "## Create Function "
      ]
    },
    {
      "cell_type": "code",
      "execution_count": null,
      "metadata": {
        "id": "GmMxwTgyq3e9"
      },
      "outputs": [],
      "source": [
        "# Function For Convert Data Into Input Example\n",
        "#=============================================\n",
        "def convert_data_to_examples(df_train, df_valid, df_test, DATA_COLUMN, LABEL_COLUMN): \n",
        "  train_InputExamples = df_train.apply(lambda x: InputExample(guid   = None,                       # Globally unique ID for bookkeeping, unused in this case\n",
        "                                                           text_a = x[DATA_COLUMN], \n",
        "                                                           text_b = None,\n",
        "                                                           label  = x[LABEL_COLUMN]),axis = 1)\n",
        "\n",
        "  validation_InputExamples = df_valid.apply(lambda x: InputExample(guid   = None,                  # Globally unique ID for bookkeeping, unused in this case\n",
        "                                                                text_a = x[DATA_COLUMN], \n",
        "                                                                text_b = None,\n",
        "                                                                label  = x[LABEL_COLUMN]), axis = 1)\n",
        "  \n",
        "  test_InputExamples = df_test.apply(lambda x: InputExample(guid   = None,                         # Globally unique ID for bookkeeping, unused in this case\n",
        "                                                         text_a = x[DATA_COLUMN], \n",
        "                                                         text_b = None,\n",
        "                                                         label  = x[LABEL_COLUMN]), axis = 1)\n",
        "  \n",
        "  return train_InputExamples, validation_InputExamples, test_InputExamples\n",
        "\n",
        "\n",
        "# Function For Convert Input Example Into TF Dataset\n",
        "#===================================================\n",
        "def convert_examples_to_tf_dataset(examples, tokenizer, max_length=128):\n",
        "    features = [] # -> will hold InputFeatures to be converted later\n",
        "\n",
        "    for e in examples:\n",
        "        # Documentation is really strong for this method, so please take a look at it\n",
        "        input_dict = tokenizer.encode_plus(\n",
        "            e.text_a,\n",
        "            add_special_tokens=True,\n",
        "            max_length=max_length,\n",
        "            truncation=True,\n",
        "            return_attention_mask=True,\n",
        "            return_token_type_ids=True,\n",
        "            padding='max_length',\n",
        "            verbose=False\n",
        "        )\n",
        "\n",
        "        input_ids, token_type_ids, attention_mask = (input_dict[\"input_ids\"],\n",
        "                                                     input_dict[\"token_type_ids\"],\n",
        "                                                     input_dict[\"attention_mask\"])\n",
        "\n",
        "\n",
        "        features.append(\n",
        "            InputFeatures(\n",
        "                input_ids=input_ids,\n",
        "                attention_mask=attention_mask,\n",
        "                token_type_ids=token_type_ids,\n",
        "                label=e.label\n",
        "            )\n",
        "        )\n",
        "\n",
        "    def gen():\n",
        "        for f in features:\n",
        "            yield (\n",
        "                {\n",
        "                    \"input_ids\": f.input_ids,\n",
        "                    \"attention_mask\": f.attention_mask,\n",
        "                    \"token_type_ids\": f.token_type_ids,\n",
        "                },\n",
        "                f.label,\n",
        "            )\n",
        "\n",
        "    return tf.data.Dataset.from_generator(\n",
        "        gen,\n",
        "        ({\"input_ids\": tf.int32, \"attention_mask\": tf.int32, \"token_type_ids\": tf.int32}, tf.int64),\n",
        "        (\n",
        "            {\n",
        "                \"input_ids\": tf.TensorShape([None]),\n",
        "                \"attention_mask\": tf.TensorShape([None]),\n",
        "                \"token_type_ids\": tf.TensorShape([None]),\n",
        "            },\n",
        "            tf.TensorShape([]),\n",
        "        ),\n",
        "    )\n",
        "\n",
        "\n",
        "DATA_COLUMN = 'DATA_COLUMN'\n",
        "LABEL_COLUMN = 'LABEL_COLUMN'\n"
      ]
    },
    {
      "cell_type": "markdown",
      "metadata": {
        "id": "SanI7BjvA3nj"
      },
      "source": [
        "## Convert Data"
      ]
    },
    {
      "cell_type": "code",
      "execution_count": null,
      "metadata": {
        "id": "PQSOaIvVr0Wk"
      },
      "outputs": [],
      "source": [
        "# Convert Into Input Example\n",
        "#===========================\n",
        "train_InputExamples, validation_InputExamples, test_InputExamples = convert_data_to_examples(df_train, df_valid, df_test, DATA_COLUMN, LABEL_COLUMN)\n",
        "\n",
        "# Convert Into TF Dataset or Features\n",
        "#====================================\n",
        "train_data = convert_examples_to_tf_dataset(list(train_InputExamples), tokenizer)\n",
        "train_data = train_data.shuffle(100).batch(16)\n",
        "\n",
        "validation_data = convert_examples_to_tf_dataset(list(validation_InputExamples), tokenizer)\n",
        "validation_data = validation_data.batch(16)\n",
        "\n",
        "test_data = convert_examples_to_tf_dataset(list(test_InputExamples), tokenizer)\n",
        "test_data = test_data.batch(16)\n"
      ]
    },
    {
      "cell_type": "markdown",
      "metadata": {
        "id": "GYeqTJxTBK8M"
      },
      "source": [
        "# **Main Experiment**"
      ]
    },
    {
      "cell_type": "code",
      "execution_count": null,
      "metadata": {
        "id": "mgrGrcs-stdt"
      },
      "outputs": [],
      "source": [
        "# Compile Model for Training\n",
        "#===========================\n",
        "model.compile(optimizer = tf.keras.optimizers.Adam(learning_rate = 3e-5, epsilon = 1e-08, clipnorm = 1.0), \n",
        "              loss = tf.keras.losses.SparseCategoricalCrossentropy(from_logits = True), \n",
        "              metrics = [tf.keras.metrics.SparseCategoricalAccuracy('accuracy')])"
      ]
    },
    {
      "cell_type": "code",
      "execution_count": null,
      "metadata": {
        "id": "2n_xg87ytG5Q",
        "colab": {
          "base_uri": "https://localhost:8080/"
        },
        "outputId": "f09ec053-4fa9-476a-d89a-66c48df026a9"
      },
      "outputs": [
        {
          "output_type": "stream",
          "name": "stdout",
          "text": [
            "Epoch 1/10\n",
            "407/407 [==============================] - 271s 519ms/step - loss: 0.4409 - accuracy: 0.8368 - val_loss: 0.2714 - val_accuracy: 0.9108\n",
            "Epoch 2/10\n",
            "407/407 [==============================] - 192s 471ms/step - loss: 0.2122 - accuracy: 0.9300 - val_loss: 0.2107 - val_accuracy: 0.9389\n",
            "Epoch 3/10\n",
            "407/407 [==============================] - 189s 465ms/step - loss: 0.1064 - accuracy: 0.9657 - val_loss: 0.1927 - val_accuracy: 0.9503\n",
            "Epoch 4/10\n",
            "407/407 [==============================] - 190s 466ms/step - loss: 0.0520 - accuracy: 0.9868 - val_loss: 0.2410 - val_accuracy: 0.9508\n",
            "Epoch 5/10\n",
            "407/407 [==============================] - 209s 514ms/step - loss: 0.0404 - accuracy: 0.9880 - val_loss: 0.2588 - val_accuracy: 0.9459\n",
            "Epoch 6/10\n",
            "407/407 [==============================] - 209s 513ms/step - loss: 0.0357 - accuracy: 0.9897 - val_loss: 0.2744 - val_accuracy: 0.9486\n",
            "Epoch 7/10\n",
            "407/407 [==============================] - 189s 464ms/step - loss: 0.0301 - accuracy: 0.9915 - val_loss: 0.2665 - val_accuracy: 0.9473\n",
            "Epoch 8/10\n",
            "407/407 [==============================] - 209s 514ms/step - loss: 0.0251 - accuracy: 0.9918 - val_loss: 0.2300 - val_accuracy: 0.9565\n",
            "Epoch 9/10\n",
            "407/407 [==============================] - 209s 514ms/step - loss: 0.0221 - accuracy: 0.9937 - val_loss: 0.2553 - val_accuracy: 0.9565\n",
            "Epoch 10/10\n",
            "407/407 [==============================] - 189s 465ms/step - loss: 0.0213 - accuracy: 0.9937 - val_loss: 0.2973 - val_accuracy: 0.9525\n"
          ]
        }
      ],
      "source": [
        "# Model Training\n",
        "#===============\n",
        "training_history = model.fit(train_data,\n",
        "                             epochs = 10,\n",
        "                             validation_data = validation_data)\n"
      ]
    },
    {
      "cell_type": "markdown",
      "source": [
        "# **Test Predict & Test Evaluation**"
      ],
      "metadata": {
        "id": "ebjh4avbD1qx"
      }
    },
    {
      "cell_type": "code",
      "execution_count": null,
      "metadata": {
        "id": "NgFCrKeqX5O0"
      },
      "outputs": [],
      "source": [
        "# Define Test Sentence\n",
        "#=====================\n",
        "pred_sentences = ['I Like you',\n",
        "                  'I don`t like you']"
      ]
    },
    {
      "cell_type": "code",
      "execution_count": null,
      "metadata": {
        "id": "3DJNMvCOYDI9",
        "colab": {
          "base_uri": "https://localhost:8080/"
        },
        "outputId": "ab6fd051-3f79-46b9-94e9-5dbeb6cf491a"
      },
      "outputs": [
        {
          "output_type": "stream",
          "name": "stdout",
          "text": [
            "I Like you : \n",
            " Neutral\n",
            "I don`t like you : \n",
            " Negative\n"
          ]
        }
      ],
      "source": [
        "# Tokenizer Test Sentence\n",
        "#========================\n",
        "tf_batch = tokenizer(pred_sentences, max_length=128, padding=True, truncation=True, return_tensors='tf')\n",
        "\n",
        "# Predict Label\n",
        "#==============\n",
        "tf_outputs = model(tf_batch)\n",
        "\n",
        "# Softmax Final Score For Label Predict\n",
        "#======================================\n",
        "tf_predictions = tf.nn.softmax(tf_outputs[0], axis=-1)\n",
        "\n",
        "# Argmax The Score To Get Single Label\n",
        "#=====================================\n",
        "label = tf.argmax(tf_predictions, axis=1)\n",
        "\n",
        "# Convert Into Numpy Array\n",
        "#=========================\n",
        "label = label.numpy()\n",
        "\n",
        "# Get Final Label\n",
        "#================\n",
        "labels = ['Positive','Negative','Neutral']\n",
        "for i in range(len(pred_sentences)):\n",
        "  print(pred_sentences[i], \": \\n\", labels[label[i]])"
      ]
    },
    {
      "cell_type": "code",
      "execution_count": null,
      "metadata": {
        "id": "OgzUsF7VSl6U",
        "colab": {
          "base_uri": "https://localhost:8080/"
        },
        "outputId": "5f15afeb-09e5-4bb0-e6fa-803e1d591d9e"
      },
      "outputs": [
        {
          "output_type": "stream",
          "name": "stdout",
          "text": [
            "77/77 [==============================] - 12s 150ms/step - loss: 0.2833 - accuracy: 0.9527\n",
            "Test Loss: 0.28328490257263184\n",
            "Test Accuracy: 0.9526530504226685\n"
          ]
        }
      ],
      "source": [
        "# Simple Model Evaluation Base On Test Sentences\n",
        "#===============================================\n",
        "test_results = model.evaluate(test_data)\n",
        "print('Test Loss:', test_results[0])\n",
        "print('Test Accuracy:', test_results[1])"
      ]
    },
    {
      "cell_type": "markdown",
      "metadata": {
        "id": "j4YXAn2zdaM9"
      },
      "source": [
        "# **Model Evaluation**"
      ]
    },
    {
      "cell_type": "code",
      "source": [
        "# Create & Reshape Y_Test from df_test.LABEL_COLUMN\n",
        "#==================================================\n",
        "y_test = df_test.LABEL_COLUMN.to_numpy()\n",
        "print(y_test)"
      ],
      "metadata": {
        "id": "3GHCuebmTGFd",
        "colab": {
          "base_uri": "https://localhost:8080/"
        },
        "outputId": "deef4c9a-68ea-491b-81e8-dedaf5342720"
      },
      "execution_count": null,
      "outputs": [
        {
          "output_type": "stream",
          "name": "stdout",
          "text": [
            "[2 1 0 ... 2 2 0]\n"
          ]
        }
      ]
    },
    {
      "cell_type": "code",
      "source": [
        "y_test\n"
      ],
      "metadata": {
        "id": "uDSI2LZPGAtA",
        "colab": {
          "base_uri": "https://localhost:8080/"
        },
        "outputId": "e4bbff33-c56d-4170-93cf-272b9f10903a"
      },
      "execution_count": null,
      "outputs": [
        {
          "output_type": "execute_result",
          "data": {
            "text/plain": [
              "array([2, 1, 0, ..., 2, 2, 0])"
            ]
          },
          "metadata": {},
          "execution_count": 25
        }
      ]
    },
    {
      "cell_type": "code",
      "source": [
        "# Get Y_Preds\n",
        "#============\n",
        "result_bert = model.predict(test_data)"
      ],
      "metadata": {
        "id": "UG8nclbGTCNA",
        "colab": {
          "base_uri": "https://localhost:8080/"
        },
        "outputId": "9a54d4f0-3db0-47fd-e705-ccfb2db01190"
      },
      "execution_count": null,
      "outputs": [
        {
          "output_type": "stream",
          "name": "stdout",
          "text": [
            "77/77 [==============================] - 15s 150ms/step\n"
          ]
        }
      ]
    },
    {
      "cell_type": "code",
      "source": [
        "result_bert"
      ],
      "metadata": {
        "id": "KPOsEeM8GEKw",
        "colab": {
          "base_uri": "https://localhost:8080/"
        },
        "outputId": "d5e68477-242d-402e-baba-b52ec9b3119f"
      },
      "execution_count": null,
      "outputs": [
        {
          "output_type": "execute_result",
          "data": {
            "text/plain": [
              "TFSequenceClassifierOutput(loss=None, logits=array([[-4.1625385, -1.8534868,  6.294982 ],\n",
              "       [-3.1418705,  6.5126114, -2.3872485],\n",
              "       [ 6.60542  , -3.11042  , -3.5104597],\n",
              "       ...,\n",
              "       [-4.2842364, -1.9001527,  6.128858 ],\n",
              "       [-4.0588293, -1.8607653,  6.334527 ],\n",
              "       [ 6.701512 , -3.4840484, -3.3878508]], dtype=float32), hidden_states=None, attentions=None)"
            ]
          },
          "metadata": {},
          "execution_count": 27
        }
      ]
    },
    {
      "cell_type": "code",
      "source": [
        "# Argmax To Get Single Label\n",
        "#===========================\n",
        "y_pred_bert = np.argmax(result_bert.logits, axis=1)"
      ],
      "metadata": {
        "id": "EH8yMp0jTFAg"
      },
      "execution_count": null,
      "outputs": []
    },
    {
      "cell_type": "code",
      "source": [
        "y_pred_bert\n"
      ],
      "metadata": {
        "id": "vDOROc_gGIRG",
        "colab": {
          "base_uri": "https://localhost:8080/"
        },
        "outputId": "087a6c91-a182-4fe8-8e4d-f792cc27e11b"
      },
      "execution_count": null,
      "outputs": [
        {
          "output_type": "execute_result",
          "data": {
            "text/plain": [
              "array([2, 1, 0, ..., 2, 2, 0])"
            ]
          },
          "metadata": {},
          "execution_count": 29
        }
      ]
    },
    {
      "cell_type": "code",
      "source": [
        "# Print classification report\n",
        "#============================\n",
        "target_names = ['Negative', 'Neutral', 'Positive']\n",
        "print('Classification Report for BERT:\\n', classification_report(y_test,                           # Real Label from df_test.LABEL_COLUMN\n",
        "                                                                 y_pred_bert,                      # Predicted Label by model using df_test.DATA_COLUMN\n",
        "                                                                 target_names = target_names))     # Convert Numeric Label Into String Label"
      ],
      "metadata": {
        "id": "XCbw0nNuTHPp",
        "colab": {
          "base_uri": "https://localhost:8080/"
        },
        "outputId": "cd2ffa62-8a93-4d58-fecd-719d6a59f089"
      },
      "execution_count": null,
      "outputs": [
        {
          "output_type": "stream",
          "name": "stdout",
          "text": [
            "Classification Report for BERT:\n",
            "               precision    recall  f1-score   support\n",
            "\n",
            "    Negative       0.94      0.97      0.95       506\n",
            "     Neutral       0.97      0.93      0.95       362\n",
            "    Positive       0.95      0.95      0.95       357\n",
            "\n",
            "    accuracy                           0.95      1225\n",
            "   macro avg       0.95      0.95      0.95      1225\n",
            "weighted avg       0.95      0.95      0.95      1225\n",
            "\n"
          ]
        }
      ]
    },
    {
      "cell_type": "code",
      "source": [
        "# Generate confusion matrix\n",
        "#==========================\n",
        "confusion_mat = confusion_matrix(y_test, y_pred_bert)\n",
        "\n",
        "# Create a DataFrame from the confusion matrix\n",
        "#=============================================\n",
        "confusion_df = pd.DataFrame(confusion_mat, index=target_names, columns=target_names)\n",
        "\n",
        "# Plot the confusion matrix\n",
        "#==========================\n",
        "plt.figure(figsize=(8, 6))\n",
        "sns.heatmap(confusion_df, annot=True, fmt=\"d\", cmap=\"Blues\")\n",
        "plt.title(\"Confusion Matrix Using K-Fold\")\n",
        "plt.xlabel(\"Predicted Label\")\n",
        "plt.ylabel(\"True Label\")\n",
        "plt.show()"
      ],
      "metadata": {
        "id": "3bUP6DhMTIvF",
        "colab": {
          "base_uri": "https://localhost:8080/",
          "height": 564
        },
        "outputId": "41249c4e-bd2f-4266-9229-9a088ab462be"
      },
      "execution_count": null,
      "outputs": [
        {
          "output_type": "display_data",
          "data": {
            "text/plain": [
              "<Figure size 800x600 with 2 Axes>"
            ],
            "image/png": "[encoded data removed]"
          },
          "metadata": {}
        }
      ]
    },
    {
      "cell_type": "markdown",
      "source": [
        "# ================================"
      ],
      "metadata": {
        "id": "MPF3tsU6Gtci"
      }
    },
    {
      "cell_type": "markdown",
      "source": [
        "# ================================"
      ],
      "metadata": {
        "id": "X__wQyemGu5S"
      }
    },
    {
      "cell_type": "markdown",
      "source": [
        "#RandomOverSampler(ROS) - [UN=USED]"
      ],
      "metadata": {
        "id": "sePhHvgzTK4L"
      }
    },
    {
      "cell_type": "code",
      "execution_count": null,
      "metadata": {
        "id": "RIG3LpCKfduZ"
      },
      "outputs": [],
      "source": [
        "# ros = RandomOverSampler()\n",
        "# train_x, train_y = ros.fit_resample(np.array(df_train['DATA_COLUMN']).reshape(-1, 1), np.array(df_train['LABEL_COLUMN']).reshape(-1, 1))\n",
        "# df_train_os = pd.DataFrame(list(zip([x[0] for x in train_x], train_y)), columns=['DATA_COLUMN', 'LABEL_COLUMN'])"
      ]
    },
    {
      "cell_type": "code",
      "execution_count": null,
      "metadata": {
        "id": "VwyEPc7zVoHp"
      },
      "outputs": [],
      "source": [
        "# df_train_os['LABEL_COLUMN'].value_counts()"
      ]
    },
    {
      "cell_type": "code",
      "execution_count": null,
      "metadata": {
        "id": "mrcqT1DfZWxq"
      },
      "outputs": [],
      "source": [
        "# from sklearn.model_selection import train_test_split\n",
        "# from sklearn.metrics import accuracy_score, precision_score, recall_score, f1_score\n",
        "# from sklearn.linear_model import LogisticRegression\n",
        "# from sklearn.feature_extraction.text import CountVectorizer\n",
        "# from imblearn.over_sampling import RandomOverSampler"
      ]
    },
    {
      "cell_type": "code",
      "execution_count": null,
      "metadata": {
        "id": "zTbOy-vIZjZ9"
      },
      "outputs": [],
      "source": [
        "# # Step 1: Split the dataset\n",
        "# X_train, X_test, y_train, y_test = train_test_split(df_train_os['DATA_COLUMN'], df_train_os['LABEL_COLUMN'], test_size=0.2, random_state=42)"
      ]
    },
    {
      "cell_type": "code",
      "execution_count": null,
      "metadata": {
        "id": "RB0Rs5TKZqMj"
      },
      "outputs": [],
      "source": [
        "# # Step 2: Apply ROS to the training set\n",
        "# ros = RandomOverSampler()\n",
        "# X_train_ros, y_train_ros = ros.fit_resample(X_train.values.reshape(-1, 1), y_train.values)"
      ]
    },
    {
      "cell_type": "code",
      "execution_count": null,
      "metadata": {
        "id": "lz_Gl6KaZwfB"
      },
      "outputs": [],
      "source": [
        "# # Step 3: Preprocess and vectorize the text data\n",
        "# vectorizer = CountVectorizer()\n",
        "# X_train_vec = vectorizer.fit_transform([str(x[0]) for x in X_train_ros])\n",
        "# X_test_vec = vectorizer.transform([str(x) for x in X_test])"
      ]
    },
    {
      "cell_type": "code",
      "execution_count": null,
      "metadata": {
        "id": "xncV4At0Z2UJ"
      },
      "outputs": [],
      "source": [
        "# model = LogisticRegression(max_iter=1000)  # Increase the number of iterations\n",
        "# model.fit(X_train_vec, y_train_ros)\n"
      ]
    },
    {
      "cell_type": "code",
      "execution_count": null,
      "metadata": {
        "id": "bEWG0Y8LZ-O8"
      },
      "outputs": [],
      "source": [
        "# # Step 5: Evaluate the model on the original testing data\n",
        "# y_pred = model.predict(X_test_vec)\n",
        "\n",
        "# accuracy = accuracy_score(y_test, y_pred)\n",
        "# precision = precision_score(y_test, y_pred, average='macro')\n",
        "# recall = recall_score(y_test, y_pred, average='macro')\n",
        "# f1 = f1_score(y_test, y_pred, average='macro')\n",
        "\n",
        "# print(\"Accuracy:\", accuracy)\n",
        "# print(\"Precision:\", precision)\n",
        "# print(\"Recall:\", recall)\n",
        "# print(\"F1-score:\", f1)"
      ]
    },
    {
      "cell_type": "code",
      "execution_count": null,
      "metadata": {
        "id": "HTE6amcKaACV"
      },
      "outputs": [],
      "source": [
        "# # Step 6: Calculate and display the classification report\n",
        "# classification_rep = classification_report(y_test, y_pred)\n",
        "# print(\"Classification Report:\")\n",
        "# print(classification_rep)"
      ]
    },
    {
      "cell_type": "code",
      "execution_count": null,
      "metadata": {
        "id": "3DJvCCXlgVPT"
      },
      "outputs": [],
      "source": [
        "# # Step 7: Generate and display the confusion matrix\n",
        "# confusion_mat = confusion_matrix(y_test, y_pred)\n",
        "# plt.figure(figsize=(8, 6))\n",
        "# sns.heatmap(confusion_mat, annot=True, fmt=\"d\", cmap=\"Blues\", cbar=False)\n",
        "# plt.xlabel(\"Predicted\")\n",
        "# plt.ylabel(\"Actual\")\n",
        "# plt.title(\"Confusion Matrix\")\n",
        "# plt.show()"
      ]
    }
  ],
  "metadata": {
    "accelerator": "GPU",
    "colab": {
      "provenance": [],
      "gpuType": "T4",
      "collapsed_sections": [
        "OMa6Lyj68w0e",
        "4y2tNDKYCULj",
        "AL0fsvCCCLUy",
        "sePhHvgzTK4L"
      ]
    },
    "kernelspec": {
      "display_name": "Python 3",
      "name": "python3"
    },
    "language_info": {
      "name": "python"
    },
    "widgets": {
      "application/vnd.jupyter.widget-state+json": {
        "2e51156741f443ed84a5446f8b1e8cba": {
          "model_module": "@jupyter-widgets/controls",
          "model_name": "HBoxModel",
          "model_module_version": "1.5.0",
          "state": {
            "_dom_classes": [],
            "_model_module": "@jupyter-widgets/controls",
            "_model_module_version": "1.5.0",
            "_model_name": "HBoxModel",
            "_view_count": null,
            "_view_module": "@jupyter-widgets/controls",
            "_view_module_version": "1.5.0",
            "_view_name": "HBoxView",
            "box_style": "",
            "children": [
              "IPY_MODEL_e493c92335be4c16a0958a9aacb5f621",
              "IPY_MODEL_1ade3276ced145239afe8393a650d392",
              "IPY_MODEL_8ac767c9444b4d9a8d937ac3162b1159"
            ],
            "layout": "IPY_MODEL_1cdefc1331bd4d0fb9aac7021277dba2"
          }
        },
        "e493c92335be4c16a0958a9aacb5f621": {
          "model_module": "@jupyter-widgets/controls",
          "model_name": "HTMLModel",
          "model_module_version": "1.5.0",
          "state": {
            "_dom_classes": [],
            "_model_module": "@jupyter-widgets/controls",
            "_model_module_version": "1.5.0",
            "_model_name": "HTMLModel",
            "_view_count": null,
            "_view_module": "@jupyter-widgets/controls",
            "_view_module_version": "1.5.0",
            "_view_name": "HTMLView",
            "description": "",
            "description_tooltip": null,
            "layout": "IPY_MODEL_f9c5358753ec48bf954ed8ff56fef094",
            "placeholder": "​",
            "style": "IPY_MODEL_f43f7e4bd8624cf5a3ae5eced7f1634c",
            "value": "Downloading (…)lve/main/config.json: 100%"
          }
        },
        "1ade3276ced145239afe8393a650d392": {
          "model_module": "@jupyter-widgets/controls",
          "model_name": "FloatProgressModel",
          "model_module_version": "1.5.0",
          "state": {
            "_dom_classes": [],
            "_model_module": "@jupyter-widgets/controls",
            "_model_module_version": "1.5.0",
            "_model_name": "FloatProgressModel",
            "_view_count": null,
            "_view_module": "@jupyter-widgets/controls",
            "_view_module_version": "1.5.0",
            "_view_name": "ProgressView",
            "bar_style": "success",
            "description": "",
            "description_tooltip": null,
            "layout": "IPY_MODEL_5d1b66ae76fb4ebcb1dbe7c9820435b2",
            "max": 570,
            "min": 0,
            "orientation": "horizontal",
            "style": "IPY_MODEL_a07c9ef33ab54f568c7e5f09f9ac1ac1",
            "value": 570
          }
        },
        "8ac767c9444b4d9a8d937ac3162b1159": {
          "model_module": "@jupyter-widgets/controls",
          "model_name": "HTMLModel",
          "model_module_version": "1.5.0",
          "state": {
            "_dom_classes": [],
            "_model_module": "@jupyter-widgets/controls",
            "_model_module_version": "1.5.0",
            "_model_name": "HTMLModel",
            "_view_count": null,
            "_view_module": "@jupyter-widgets/controls",
            "_view_module_version": "1.5.0",
            "_view_name": "HTMLView",
            "description": "",
            "description_tooltip": null,
            "layout": "IPY_MODEL_a63fd1255eef41c8bb81d56cbc98840b",
            "placeholder": "​",
            "style": "IPY_MODEL_3a0d2647a0fa46998bbebf21ba66e80a",
            "value": " 570/570 [00:00&lt;00:00, 27.9kB/s]"
          }
        },
        "1cdefc1331bd4d0fb9aac7021277dba2": {
          "model_module": "@jupyter-widgets/base",
          "model_name": "LayoutModel",
          "model_module_version": "1.2.0",
          "state": {
            "_model_module": "@jupyter-widgets/base",
            "_model_module_version": "1.2.0",
            "_model_name": "LayoutModel",
            "_view_count": null,
            "_view_module": "@jupyter-widgets/base",
            "_view_module_version": "1.2.0",
            "_view_name": "LayoutView",
            "align_content": null,
            "align_items": null,
            "align_self": null,
            "border": null,
            "bottom": null,
            "display": null,
            "flex": null,
            "flex_flow": null,
            "grid_area": null,
            "grid_auto_columns": null,
            "grid_auto_flow": null,
            "grid_auto_rows": null,
            "grid_column": null,
            "grid_gap": null,
            "grid_row": null,
            "grid_template_areas": null,
            "grid_template_columns": null,
            "grid_template_rows": null,
            "height": null,
            "justify_content": null,
            "justify_items": null,
            "left": null,
            "margin": null,
            "max_height": null,
            "max_width": null,
            "min_height": null,
            "min_width": null,
            "object_fit": null,
            "object_position": null,
            "order": null,
            "overflow": null,
            "overflow_x": null,
            "overflow_y": null,
            "padding": null,
            "right": null,
            "top": null,
            "visibility": null,
            "width": null
          }
        },
        "f9c5358753ec48bf954ed8ff56fef094": {
          "model_module": "@jupyter-widgets/base",
          "model_name": "LayoutModel",
          "model_module_version": "1.2.0",
          "state": {
            "_model_module": "@jupyter-widgets/base",
            "_model_module_version": "1.2.0",
            "_model_name": "LayoutModel",
            "_view_count": null,
            "_view_module": "@jupyter-widgets/base",
            "_view_module_version": "1.2.0",
            "_view_name": "LayoutView",
            "align_content": null,
            "align_items": null,
            "align_self": null,
            "border": null,
            "bottom": null,
            "display": null,
            "flex": null,
            "flex_flow": null,
            "grid_area": null,
            "grid_auto_columns": null,
            "grid_auto_flow": null,
            "grid_auto_rows": null,
            "grid_column": null,
            "grid_gap": null,
            "grid_row": null,
            "grid_template_areas": null,
            "grid_template_columns": null,
            "grid_template_rows": null,
            "height": null,
            "justify_content": null,
            "justify_items": null,
            "left": null,
            "margin": null,
            "max_height": null,
            "max_width": null,
            "min_height": null,
            "min_width": null,
            "object_fit": null,
            "object_position": null,
            "order": null,
            "overflow": null,
            "overflow_x": null,
            "overflow_y": null,
            "padding": null,
            "right": null,
            "top": null,
            "visibility": null,
            "width": null
          }
        },
        "f43f7e4bd8624cf5a3ae5eced7f1634c": {
          "model_module": "@jupyter-widgets/controls",
          "model_name": "DescriptionStyleModel",
          "model_module_version": "1.5.0",
          "state": {
            "_model_module": "@jupyter-widgets/controls",
            "_model_module_version": "1.5.0",
            "_model_name": "DescriptionStyleModel",
            "_view_count": null,
            "_view_module": "@jupyter-widgets/base",
            "_view_module_version": "1.2.0",
            "_view_name": "StyleView",
            "description_width": ""
          }
        },
        "5d1b66ae76fb4ebcb1dbe7c9820435b2": {
          "model_module": "@jupyter-widgets/base",
          "model_name": "LayoutModel",
          "model_module_version": "1.2.0",
          "state": {
            "_model_module": "@jupyter-widgets/base",
            "_model_module_version": "1.2.0",
            "_model_name": "LayoutModel",
            "_view_count": null,
            "_view_module": "@jupyter-widgets/base",
            "_view_module_version": "1.2.0",
            "_view_name": "LayoutView",
            "align_content": null,
            "align_items": null,
            "align_self": null,
            "border": null,
            "bottom": null,
            "display": null,
            "flex": null,
            "flex_flow": null,
            "grid_area": null,
            "grid_auto_columns": null,
            "grid_auto_flow": null,
            "grid_auto_rows": null,
            "grid_column": null,
            "grid_gap": null,
            "grid_row": null,
            "grid_template_areas": null,
            "grid_template_columns": null,
            "grid_template_rows": null,
            "height": null,
            "justify_content": null,
            "justify_items": null,
            "left": null,
            "margin": null,
            "max_height": null,
            "max_width": null,
            "min_height": null,
            "min_width": null,
            "object_fit": null,
            "object_position": null,
            "order": null,
            "overflow": null,
            "overflow_x": null,
            "overflow_y": null,
            "padding": null,
            "right": null,
            "top": null,
            "visibility": null,
            "width": null
          }
        },
        "a07c9ef33ab54f568c7e5f09f9ac1ac1": {
          "model_module": "@jupyter-widgets/controls",
          "model_name": "ProgressStyleModel",
          "model_module_version": "1.5.0",
          "state": {
            "_model_module": "@jupyter-widgets/controls",
            "_model_module_version": "1.5.0",
            "_model_name": "ProgressStyleModel",
            "_view_count": null,
            "_view_module": "@jupyter-widgets/base",
            "_view_module_version": "1.2.0",
            "_view_name": "StyleView",
            "bar_color": null,
            "description_width": ""
          }
        },
        "a63fd1255eef41c8bb81d56cbc98840b": {
          "model_module": "@jupyter-widgets/base",
          "model_name": "LayoutModel",
          "model_module_version": "1.2.0",
          "state": {
            "_model_module": "@jupyter-widgets/base",
            "_model_module_version": "1.2.0",
            "_model_name": "LayoutModel",
            "_view_count": null,
            "_view_module": "@jupyter-widgets/base",
            "_view_module_version": "1.2.0",
            "_view_name": "LayoutView",
            "align_content": null,
            "align_items": null,
            "align_self": null,
            "border": null,
            "bottom": null,
            "display": null,
            "flex": null,
            "flex_flow": null,
            "grid_area": null,
            "grid_auto_columns": null,
            "grid_auto_flow": null,
            "grid_auto_rows": null,
            "grid_column": null,
            "grid_gap": null,
            "grid_row": null,
            "grid_template_areas": null,
            "grid_template_columns": null,
            "grid_template_rows": null,
            "height": null,
            "justify_content": null,
            "justify_items": null,
            "left": null,
            "margin": null,
            "max_height": null,
            "max_width": null,
            "min_height": null,
            "min_width": null,
            "object_fit": null,
            "object_position": null,
            "order": null,
            "overflow": null,
            "overflow_x": null,
            "overflow_y": null,
            "padding": null,
            "right": null,
            "top": null,
            "visibility": null,
            "width": null
          }
        },
        "3a0d2647a0fa46998bbebf21ba66e80a": {
          "model_module": "@jupyter-widgets/controls",
          "model_name": "DescriptionStyleModel",
          "model_module_version": "1.5.0",
          "state": {
            "_model_module": "@jupyter-widgets/controls",
            "_model_module_version": "1.5.0",
            "_model_name": "DescriptionStyleModel",
            "_view_count": null,
            "_view_module": "@jupyter-widgets/base",
            "_view_module_version": "1.2.0",
            "_view_name": "StyleView",
            "description_width": ""
          }
        },
        "bc4406d3d10a42de9062ed7c1bfe14da": {
          "model_module": "@jupyter-widgets/controls",
          "model_name": "HBoxModel",
          "model_module_version": "1.5.0",
          "state": {
            "_dom_classes": [],
            "_model_module": "@jupyter-widgets/controls",
            "_model_module_version": "1.5.0",
            "_model_name": "HBoxModel",
            "_view_count": null,
            "_view_module": "@jupyter-widgets/controls",
            "_view_module_version": "1.5.0",
            "_view_name": "HBoxView",
            "box_style": "",
            "children": [
              "IPY_MODEL_54c1021a1b1f4863a1e8a412ffef9073",
              "IPY_MODEL_b788c19cc5d84f86b8e50e7ae362bffa",
              "IPY_MODEL_fef97e194e63400685963519ba948ac8"
            ],
            "layout": "IPY_MODEL_fd6313be931b4d69b1b8a67f78932453"
          }
        },
        "54c1021a1b1f4863a1e8a412ffef9073": {
          "model_module": "@jupyter-widgets/controls",
          "model_name": "HTMLModel",
          "model_module_version": "1.5.0",
          "state": {
            "_dom_classes": [],
            "_model_module": "@jupyter-widgets/controls",
            "_model_module_version": "1.5.0",
            "_model_name": "HTMLModel",
            "_view_count": null,
            "_view_module": "@jupyter-widgets/controls",
            "_view_module_version": "1.5.0",
            "_view_name": "HTMLView",
            "description": "",
            "description_tooltip": null,
            "layout": "IPY_MODEL_f00571511f5a4270bc610cef8eddfc27",
            "placeholder": "​",
            "style": "IPY_MODEL_50813ad1b29348cbac81bca5f459bc2f",
            "value": "Downloading pytorch_model.bin: 100%"
          }
        },
        "b788c19cc5d84f86b8e50e7ae362bffa": {
          "model_module": "@jupyter-widgets/controls",
          "model_name": "FloatProgressModel",
          "model_module_version": "1.5.0",
          "state": {
            "_dom_classes": [],
            "_model_module": "@jupyter-widgets/controls",
            "_model_module_version": "1.5.0",
            "_model_name": "FloatProgressModel",
            "_view_count": null,
            "_view_module": "@jupyter-widgets/controls",
            "_view_module_version": "1.5.0",
            "_view_name": "ProgressView",
            "bar_style": "success",
            "description": "",
            "description_tooltip": null,
            "layout": "IPY_MODEL_9fd7ffaa86c840da956ea5a1dc4409b8",
            "max": 440473133,
            "min": 0,
            "orientation": "horizontal",
            "style": "IPY_MODEL_97e137848275444c8a6fe68da8b55caf",
            "value": 440473133
          }
        },
        "fef97e194e63400685963519ba948ac8": {
          "model_module": "@jupyter-widgets/controls",
          "model_name": "HTMLModel",
          "model_module_version": "1.5.0",
          "state": {
            "_dom_classes": [],
            "_model_module": "@jupyter-widgets/controls",
            "_model_module_version": "1.5.0",
            "_model_name": "HTMLModel",
            "_view_count": null,
            "_view_module": "@jupyter-widgets/controls",
            "_view_module_version": "1.5.0",
            "_view_name": "HTMLView",
            "description": "",
            "description_tooltip": null,
            "layout": "IPY_MODEL_0bae6070c9084da7981ee7e36f94ad8a",
            "placeholder": "​",
            "style": "IPY_MODEL_87b5fb49705847eb843f45d8b26afaa0",
            "value": " 440M/440M [00:02&lt;00:00, 201MB/s]"
          }
        },
        "fd6313be931b4d69b1b8a67f78932453": {
          "model_module": "@jupyter-widgets/base",
          "model_name": "LayoutModel",
          "model_module_version": "1.2.0",
          "state": {
            "_model_module": "@jupyter-widgets/base",
            "_model_module_version": "1.2.0",
            "_model_name": "LayoutModel",
            "_view_count": null,
            "_view_module": "@jupyter-widgets/base",
            "_view_module_version": "1.2.0",
            "_view_name": "LayoutView",
            "align_content": null,
            "align_items": null,
            "align_self": null,
            "border": null,
            "bottom": null,
            "display": null,
            "flex": null,
            "flex_flow": null,
            "grid_area": null,
            "grid_auto_columns": null,
            "grid_auto_flow": null,
            "grid_auto_rows": null,
            "grid_column": null,
            "grid_gap": null,
            "grid_row": null,
            "grid_template_areas": null,
            "grid_template_columns": null,
            "grid_template_rows": null,
            "height": null,
            "justify_content": null,
            "justify_items": null,
            "left": null,
            "margin": null,
            "max_height": null,
            "max_width": null,
            "min_height": null,
            "min_width": null,
            "object_fit": null,
            "object_position": null,
            "order": null,
            "overflow": null,
            "overflow_x": null,
            "overflow_y": null,
            "padding": null,
            "right": null,
            "top": null,
            "visibility": null,
            "width": null
          }
        },
        "f00571511f5a4270bc610cef8eddfc27": {
          "model_module": "@jupyter-widgets/base",
          "model_name": "LayoutModel",
          "model_module_version": "1.2.0",
          "state": {
            "_model_module": "@jupyter-widgets/base",
            "_model_module_version": "1.2.0",
            "_model_name": "LayoutModel",
            "_view_count": null,
            "_view_module": "@jupyter-widgets/base",
            "_view_module_version": "1.2.0",
            "_view_name": "LayoutView",
            "align_content": null,
            "align_items": null,
            "align_self": null,
            "border": null,
            "bottom": null,
            "display": null,
            "flex": null,
            "flex_flow": null,
            "grid_area": null,
            "grid_auto_columns": null,
            "grid_auto_flow": null,
            "grid_auto_rows": null,
            "grid_column": null,
            "grid_gap": null,
            "grid_row": null,
            "grid_template_areas": null,
            "grid_template_columns": null,
            "grid_template_rows": null,
            "height": null,
            "justify_content": null,
            "justify_items": null,
            "left": null,
            "margin": null,
            "max_height": null,
            "max_width": null,
            "min_height": null,
            "min_width": null,
            "object_fit": null,
            "object_position": null,
            "order": null,
            "overflow": null,
            "overflow_x": null,
            "overflow_y": null,
            "padding": null,
            "right": null,
            "top": null,
            "visibility": null,
            "width": null
          }
        },
        "50813ad1b29348cbac81bca5f459bc2f": {
          "model_module": "@jupyter-widgets/controls",
          "model_name": "DescriptionStyleModel",
          "model_module_version": "1.5.0",
          "state": {
            "_model_module": "@jupyter-widgets/controls",
            "_model_module_version": "1.5.0",
            "_model_name": "DescriptionStyleModel",
            "_view_count": null,
            "_view_module": "@jupyter-widgets/base",
            "_view_module_version": "1.2.0",
            "_view_name": "StyleView",
            "description_width": ""
          }
        },
        "9fd7ffaa86c840da956ea5a1dc4409b8": {
          "model_module": "@jupyter-widgets/base",
          "model_name": "LayoutModel",
          "model_module_version": "1.2.0",
          "state": {
            "_model_module": "@jupyter-widgets/base",
            "_model_module_version": "1.2.0",
            "_model_name": "LayoutModel",
            "_view_count": null,
            "_view_module": "@jupyter-widgets/base",
            "_view_module_version": "1.2.0",
            "_view_name": "LayoutView",
            "align_content": null,
            "align_items": null,
            "align_self": null,
            "border": null,
            "bottom": null,
            "display": null,
            "flex": null,
            "flex_flow": null,
            "grid_area": null,
            "grid_auto_columns": null,
            "grid_auto_flow": null,
            "grid_auto_rows": null,
            "grid_column": null,
            "grid_gap": null,
            "grid_row": null,
            "grid_template_areas": null,
            "grid_template_columns": null,
            "grid_template_rows": null,
            "height": null,
            "justify_content": null,
            "justify_items": null,
            "left": null,
            "margin": null,
            "max_height": null,
            "max_width": null,
            "min_height": null,
            "min_width": null,
            "object_fit": null,
            "object_position": null,
            "order": null,
            "overflow": null,
            "overflow_x": null,
            "overflow_y": null,
            "padding": null,
            "right": null,
            "top": null,
            "visibility": null,
            "width": null
          }
        },
        "97e137848275444c8a6fe68da8b55caf": {
          "model_module": "@jupyter-widgets/controls",
          "model_name": "ProgressStyleModel",
          "model_module_version": "1.5.0",
          "state": {
            "_model_module": "@jupyter-widgets/controls",
            "_model_module_version": "1.5.0",
            "_model_name": "ProgressStyleModel",
            "_view_count": null,
            "_view_module": "@jupyter-widgets/base",
            "_view_module_version": "1.2.0",
            "_view_name": "StyleView",
            "bar_color": null,
            "description_width": ""
          }
        },
        "0bae6070c9084da7981ee7e36f94ad8a": {
          "model_module": "@jupyter-widgets/base",
          "model_name": "LayoutModel",
          "model_module_version": "1.2.0",
          "state": {
            "_model_module": "@jupyter-widgets/base",
            "_model_module_version": "1.2.0",
            "_model_name": "LayoutModel",
            "_view_count": null,
            "_view_module": "@jupyter-widgets/base",
            "_view_module_version": "1.2.0",
            "_view_name": "LayoutView",
            "align_content": null,
            "align_items": null,
            "align_self": null,
            "border": null,
            "bottom": null,
            "display": null,
            "flex": null,
            "flex_flow": null,
            "grid_area": null,
            "grid_auto_columns": null,
            "grid_auto_flow": null,
            "grid_auto_rows": null,
            "grid_column": null,
            "grid_gap": null,
            "grid_row": null,
            "grid_template_areas": null,
            "grid_template_columns": null,
            "grid_template_rows": null,
            "height": null,
            "justify_content": null,
            "justify_items": null,
            "left": null,
            "margin": null,
            "max_height": null,
            "max_width": null,
            "min_height": null,
            "min_width": null,
            "object_fit": null,
            "object_position": null,
            "order": null,
            "overflow": null,
            "overflow_x": null,
            "overflow_y": null,
            "padding": null,
            "right": null,
            "top": null,
            "visibility": null,
            "width": null
          }
        },
        "87b5fb49705847eb843f45d8b26afaa0": {
          "model_module": "@jupyter-widgets/controls",
          "model_name": "DescriptionStyleModel",
          "model_module_version": "1.5.0",
          "state": {
            "_model_module": "@jupyter-widgets/controls",
            "_model_module_version": "1.5.0",
            "_model_name": "DescriptionStyleModel",
            "_view_count": null,
            "_view_module": "@jupyter-widgets/base",
            "_view_module_version": "1.2.0",
            "_view_name": "StyleView",
            "description_width": ""
          }
        },
        "1b792ca3ef274dc69197f7b9cfc553fc": {
          "model_module": "@jupyter-widgets/controls",
          "model_name": "HBoxModel",
          "model_module_version": "1.5.0",
          "state": {
            "_dom_classes": [],
            "_model_module": "@jupyter-widgets/controls",
            "_model_module_version": "1.5.0",
            "_model_name": "HBoxModel",
            "_view_count": null,
            "_view_module": "@jupyter-widgets/controls",
            "_view_module_version": "1.5.0",
            "_view_name": "HBoxView",
            "box_style": "",
            "children": [
              "IPY_MODEL_07bee8c483af4599aae56bf775fc491e",
              "IPY_MODEL_ce7c9d0011d047a4b8bec892b7f50d17",
              "IPY_MODEL_70889d7c03424b968f6ca3da3798dca8"
            ],
            "layout": "IPY_MODEL_904ff6d11e524c33aab9618b9493a6d9"
          }
        },
        "07bee8c483af4599aae56bf775fc491e": {
          "model_module": "@jupyter-widgets/controls",
          "model_name": "HTMLModel",
          "model_module_version": "1.5.0",
          "state": {
            "_dom_classes": [],
            "_model_module": "@jupyter-widgets/controls",
            "_model_module_version": "1.5.0",
            "_model_name": "HTMLModel",
            "_view_count": null,
            "_view_module": "@jupyter-widgets/controls",
            "_view_module_version": "1.5.0",
            "_view_name": "HTMLView",
            "description": "",
            "description_tooltip": null,
            "layout": "IPY_MODEL_8e89685478f44350a217ded04cdb43df",
            "placeholder": "​",
            "style": "IPY_MODEL_800158fe768f497db497088d729b0b01",
            "value": "Downloading (…)solve/main/vocab.txt: 100%"
          }
        },
        "ce7c9d0011d047a4b8bec892b7f50d17": {
          "model_module": "@jupyter-widgets/controls",
          "model_name": "FloatProgressModel",
          "model_module_version": "1.5.0",
          "state": {
            "_dom_classes": [],
            "_model_module": "@jupyter-widgets/controls",
            "_model_module_version": "1.5.0",
            "_model_name": "FloatProgressModel",
            "_view_count": null,
            "_view_module": "@jupyter-widgets/controls",
            "_view_module_version": "1.5.0",
            "_view_name": "ProgressView",
            "bar_style": "success",
            "description": "",
            "description_tooltip": null,
            "layout": "IPY_MODEL_5989009801e048689ac04c5294d487a2",
            "max": 231508,
            "min": 0,
            "orientation": "horizontal",
            "style": "IPY_MODEL_9c6269d2a5e84ee797764d27efd41863",
            "value": 231508
          }
        },
        "70889d7c03424b968f6ca3da3798dca8": {
          "model_module": "@jupyter-widgets/controls",
          "model_name": "HTMLModel",
          "model_module_version": "1.5.0",
          "state": {
            "_dom_classes": [],
            "_model_module": "@jupyter-widgets/controls",
            "_model_module_version": "1.5.0",
            "_model_name": "HTMLModel",
            "_view_count": null,
            "_view_module": "@jupyter-widgets/controls",
            "_view_module_version": "1.5.0",
            "_view_name": "HTMLView",
            "description": "",
            "description_tooltip": null,
            "layout": "IPY_MODEL_bcd17c680f2141f88f402bf68eae0985",
            "placeholder": "​",
            "style": "IPY_MODEL_2c6d6a73f39345d6a6be4c42f46cbfbd",
            "value": " 232k/232k [00:00&lt;00:00, 4.52MB/s]"
          }
        },
        "904ff6d11e524c33aab9618b9493a6d9": {
          "model_module": "@jupyter-widgets/base",
          "model_name": "LayoutModel",
          "model_module_version": "1.2.0",
          "state": {
            "_model_module": "@jupyter-widgets/base",
            "_model_module_version": "1.2.0",
            "_model_name": "LayoutModel",
            "_view_count": null,
            "_view_module": "@jupyter-widgets/base",
            "_view_module_version": "1.2.0",
            "_view_name": "LayoutView",
            "align_content": null,
            "align_items": null,
            "align_self": null,
            "border": null,
            "bottom": null,
            "display": null,
            "flex": null,
            "flex_flow": null,
            "grid_area": null,
            "grid_auto_columns": null,
            "grid_auto_flow": null,
            "grid_auto_rows": null,
            "grid_column": null,
            "grid_gap": null,
            "grid_row": null,
            "grid_template_areas": null,
            "grid_template_columns": null,
            "grid_template_rows": null,
            "height": null,
            "justify_content": null,
            "justify_items": null,
            "left": null,
            "margin": null,
            "max_height": null,
            "max_width": null,
            "min_height": null,
            "min_width": null,
            "object_fit": null,
            "object_position": null,
            "order": null,
            "overflow": null,
            "overflow_x": null,
            "overflow_y": null,
            "padding": null,
            "right": null,
            "top": null,
            "visibility": null,
            "width": null
          }
        },
        "8e89685478f44350a217ded04cdb43df": {
          "model_module": "@jupyter-widgets/base",
          "model_name": "LayoutModel",
          "model_module_version": "1.2.0",
          "state": {
            "_model_module": "@jupyter-widgets/base",
            "_model_module_version": "1.2.0",
            "_model_name": "LayoutModel",
            "_view_count": null,
            "_view_module": "@jupyter-widgets/base",
            "_view_module_version": "1.2.0",
            "_view_name": "LayoutView",
            "align_content": null,
            "align_items": null,
            "align_self": null,
            "border": null,
            "bottom": null,
            "display": null,
            "flex": null,
            "flex_flow": null,
            "grid_area": null,
            "grid_auto_columns": null,
            "grid_auto_flow": null,
            "grid_auto_rows": null,
            "grid_column": null,
            "grid_gap": null,
            "grid_row": null,
            "grid_template_areas": null,
            "grid_template_columns": null,
            "grid_template_rows": null,
            "height": null,
            "justify_content": null,
            "justify_items": null,
            "left": null,
            "margin": null,
            "max_height": null,
            "max_width": null,
            "min_height": null,
            "min_width": null,
            "object_fit": null,
            "object_position": null,
            "order": null,
            "overflow": null,
            "overflow_x": null,
            "overflow_y": null,
            "padding": null,
            "right": null,
            "top": null,
            "visibility": null,
            "width": null
          }
        },
        "800158fe768f497db497088d729b0b01": {
          "model_module": "@jupyter-widgets/controls",
          "model_name": "DescriptionStyleModel",
          "model_module_version": "1.5.0",
          "state": {
            "_model_module": "@jupyter-widgets/controls",
            "_model_module_version": "1.5.0",
            "_model_name": "DescriptionStyleModel",
            "_view_count": null,
            "_view_module": "@jupyter-widgets/base",
            "_view_module_version": "1.2.0",
            "_view_name": "StyleView",
            "description_width": ""
          }
        },
        "5989009801e048689ac04c5294d487a2": {
          "model_module": "@jupyter-widgets/base",
          "model_name": "LayoutModel",
          "model_module_version": "1.2.0",
          "state": {
            "_model_module": "@jupyter-widgets/base",
            "_model_module_version": "1.2.0",
            "_model_name": "LayoutModel",
            "_view_count": null,
            "_view_module": "@jupyter-widgets/base",
            "_view_module_version": "1.2.0",
            "_view_name": "LayoutView",
            "align_content": null,
            "align_items": null,
            "align_self": null,
            "border": null,
            "bottom": null,
            "display": null,
            "flex": null,
            "flex_flow": null,
            "grid_area": null,
            "grid_auto_columns": null,
            "grid_auto_flow": null,
            "grid_auto_rows": null,
            "grid_column": null,
            "grid_gap": null,
            "grid_row": null,
            "grid_template_areas": null,
            "grid_template_columns": null,
            "grid_template_rows": null,
            "height": null,
            "justify_content": null,
            "justify_items": null,
            "left": null,
            "margin": null,
            "max_height": null,
            "max_width": null,
            "min_height": null,
            "min_width": null,
            "object_fit": null,
            "object_position": null,
            "order": null,
            "overflow": null,
            "overflow_x": null,
            "overflow_y": null,
            "padding": null,
            "right": null,
            "top": null,
            "visibility": null,
            "width": null
          }
        },
        "9c6269d2a5e84ee797764d27efd41863": {
          "model_module": "@jupyter-widgets/controls",
          "model_name": "ProgressStyleModel",
          "model_module_version": "1.5.0",
          "state": {
            "_model_module": "@jupyter-widgets/controls",
            "_model_module_version": "1.5.0",
            "_model_name": "ProgressStyleModel",
            "_view_count": null,
            "_view_module": "@jupyter-widgets/base",
            "_view_module_version": "1.2.0",
            "_view_name": "StyleView",
            "bar_color": null,
            "description_width": ""
          }
        },
        "bcd17c680f2141f88f402bf68eae0985": {
          "model_module": "@jupyter-widgets/base",
          "model_name": "LayoutModel",
          "model_module_version": "1.2.0",
          "state": {
            "_model_module": "@jupyter-widgets/base",
            "_model_module_version": "1.2.0",
            "_model_name": "LayoutModel",
            "_view_count": null,
            "_view_module": "@jupyter-widgets/base",
            "_view_module_version": "1.2.0",
            "_view_name": "LayoutView",
            "align_content": null,
            "align_items": null,
            "align_self": null,
            "border": null,
            "bottom": null,
            "display": null,
            "flex": null,
            "flex_flow": null,
            "grid_area": null,
            "grid_auto_columns": null,
            "grid_auto_flow": null,
            "grid_auto_rows": null,
            "grid_column": null,
            "grid_gap": null,
            "grid_row": null,
            "grid_template_areas": null,
            "grid_template_columns": null,
            "grid_template_rows": null,
            "height": null,
            "justify_content": null,
            "justify_items": null,
            "left": null,
            "margin": null,
            "max_height": null,
            "max_width": null,
            "min_height": null,
            "min_width": null,
            "object_fit": null,
            "object_position": null,
            "order": null,
            "overflow": null,
            "overflow_x": null,
            "overflow_y": null,
            "padding": null,
            "right": null,
            "top": null,
            "visibility": null,
            "width": null
          }
        },
        "2c6d6a73f39345d6a6be4c42f46cbfbd": {
          "model_module": "@jupyter-widgets/controls",
          "model_name": "DescriptionStyleModel",
          "model_module_version": "1.5.0",
          "state": {
            "_model_module": "@jupyter-widgets/controls",
            "_model_module_version": "1.5.0",
            "_model_name": "DescriptionStyleModel",
            "_view_count": null,
            "_view_module": "@jupyter-widgets/base",
            "_view_module_version": "1.2.0",
            "_view_name": "StyleView",
            "description_width": ""
          }
        },
        "9db87d044e38465c864b350352222004": {
          "model_module": "@jupyter-widgets/controls",
          "model_name": "HBoxModel",
          "model_module_version": "1.5.0",
          "state": {
            "_dom_classes": [],
            "_model_module": "@jupyter-widgets/controls",
            "_model_module_version": "1.5.0",
            "_model_name": "HBoxModel",
            "_view_count": null,
            "_view_module": "@jupyter-widgets/controls",
            "_view_module_version": "1.5.0",
            "_view_name": "HBoxView",
            "box_style": "",
            "children": [
              "IPY_MODEL_52ef73c7bafc441cbd66cde42f457349",
              "IPY_MODEL_76386b9517d140a6935c816807ccc5f0",
              "IPY_MODEL_9148e4116e614664b65e0d2171267b2f"
            ],
            "layout": "IPY_MODEL_1d7c048b063e4b52a9276bb2d4c5db02"
          }
        },
        "52ef73c7bafc441cbd66cde42f457349": {
          "model_module": "@jupyter-widgets/controls",
          "model_name": "HTMLModel",
          "model_module_version": "1.5.0",
          "state": {
            "_dom_classes": [],
            "_model_module": "@jupyter-widgets/controls",
            "_model_module_version": "1.5.0",
            "_model_name": "HTMLModel",
            "_view_count": null,
            "_view_module": "@jupyter-widgets/controls",
            "_view_module_version": "1.5.0",
            "_view_name": "HTMLView",
            "description": "",
            "description_tooltip": null,
            "layout": "IPY_MODEL_273407591bb249e5b701db39990c9dbc",
            "placeholder": "​",
            "style": "IPY_MODEL_6069a4817ced42e18d37a730ae312598",
            "value": "Downloading (…)okenizer_config.json: 100%"
          }
        },
        "76386b9517d140a6935c816807ccc5f0": {
          "model_module": "@jupyter-widgets/controls",
          "model_name": "FloatProgressModel",
          "model_module_version": "1.5.0",
          "state": {
            "_dom_classes": [],
            "_model_module": "@jupyter-widgets/controls",
            "_model_module_version": "1.5.0",
            "_model_name": "FloatProgressModel",
            "_view_count": null,
            "_view_module": "@jupyter-widgets/controls",
            "_view_module_version": "1.5.0",
            "_view_name": "ProgressView",
            "bar_style": "success",
            "description": "",
            "description_tooltip": null,
            "layout": "IPY_MODEL_af4621e703d84451b0519ddb79578d43",
            "max": 28,
            "min": 0,
            "orientation": "horizontal",
            "style": "IPY_MODEL_e7f4db89365c409789e57c6409add416",
            "value": 28
          }
        },
        "9148e4116e614664b65e0d2171267b2f": {
          "model_module": "@jupyter-widgets/controls",
          "model_name": "HTMLModel",
          "model_module_version": "1.5.0",
          "state": {
            "_dom_classes": [],
            "_model_module": "@jupyter-widgets/controls",
            "_model_module_version": "1.5.0",
            "_model_name": "HTMLModel",
            "_view_count": null,
            "_view_module": "@jupyter-widgets/controls",
            "_view_module_version": "1.5.0",
            "_view_name": "HTMLView",
            "description": "",
            "description_tooltip": null,
            "layout": "IPY_MODEL_39e06e253e6f4d0b8d52349140e8fcdf",
            "placeholder": "​",
            "style": "IPY_MODEL_60b98005d162450d87601cb22adf4a7e",
            "value": " 28.0/28.0 [00:00&lt;00:00, 1.97kB/s]"
          }
        },
        "1d7c048b063e4b52a9276bb2d4c5db02": {
          "model_module": "@jupyter-widgets/base",
          "model_name": "LayoutModel",
          "model_module_version": "1.2.0",
          "state": {
            "_model_module": "@jupyter-widgets/base",
            "_model_module_version": "1.2.0",
            "_model_name": "LayoutModel",
            "_view_count": null,
            "_view_module": "@jupyter-widgets/base",
            "_view_module_version": "1.2.0",
            "_view_name": "LayoutView",
            "align_content": null,
            "align_items": null,
            "align_self": null,
            "border": null,
            "bottom": null,
            "display": null,
            "flex": null,
            "flex_flow": null,
            "grid_area": null,
            "grid_auto_columns": null,
            "grid_auto_flow": null,
            "grid_auto_rows": null,
            "grid_column": null,
            "grid_gap": null,
            "grid_row": null,
            "grid_template_areas": null,
            "grid_template_columns": null,
            "grid_template_rows": null,
            "height": null,
            "justify_content": null,
            "justify_items": null,
            "left": null,
            "margin": null,
            "max_height": null,
            "max_width": null,
            "min_height": null,
            "min_width": null,
            "object_fit": null,
            "object_position": null,
            "order": null,
            "overflow": null,
            "overflow_x": null,
            "overflow_y": null,
            "padding": null,
            "right": null,
            "top": null,
            "visibility": null,
            "width": null
          }
        },
        "273407591bb249e5b701db39990c9dbc": {
          "model_module": "@jupyter-widgets/base",
          "model_name": "LayoutModel",
          "model_module_version": "1.2.0",
          "state": {
            "_model_module": "@jupyter-widgets/base",
            "_model_module_version": "1.2.0",
            "_model_name": "LayoutModel",
            "_view_count": null,
            "_view_module": "@jupyter-widgets/base",
            "_view_module_version": "1.2.0",
            "_view_name": "LayoutView",
            "align_content": null,
            "align_items": null,
            "align_self": null,
            "border": null,
            "bottom": null,
            "display": null,
            "flex": null,
            "flex_flow": null,
            "grid_area": null,
            "grid_auto_columns": null,
            "grid_auto_flow": null,
            "grid_auto_rows": null,
            "grid_column": null,
            "grid_gap": null,
            "grid_row": null,
            "grid_template_areas": null,
            "grid_template_columns": null,
            "grid_template_rows": null,
            "height": null,
            "justify_content": null,
            "justify_items": null,
            "left": null,
            "margin": null,
            "max_height": null,
            "max_width": null,
            "min_height": null,
            "min_width": null,
            "object_fit": null,
            "object_position": null,
            "order": null,
            "overflow": null,
            "overflow_x": null,
            "overflow_y": null,
            "padding": null,
            "right": null,
            "top": null,
            "visibility": null,
            "width": null
          }
        },
        "6069a4817ced42e18d37a730ae312598": {
          "model_module": "@jupyter-widgets/controls",
          "model_name": "DescriptionStyleModel",
          "model_module_version": "1.5.0",
          "state": {
            "_model_module": "@jupyter-widgets/controls",
            "_model_module_version": "1.5.0",
            "_model_name": "DescriptionStyleModel",
            "_view_count": null,
            "_view_module": "@jupyter-widgets/base",
            "_view_module_version": "1.2.0",
            "_view_name": "StyleView",
            "description_width": ""
          }
        },
        "af4621e703d84451b0519ddb79578d43": {
          "model_module": "@jupyter-widgets/base",
          "model_name": "LayoutModel",
          "model_module_version": "1.2.0",
          "state": {
            "_model_module": "@jupyter-widgets/base",
            "_model_module_version": "1.2.0",
            "_model_name": "LayoutModel",
            "_view_count": null,
            "_view_module": "@jupyter-widgets/base",
            "_view_module_version": "1.2.0",
            "_view_name": "LayoutView",
            "align_content": null,
            "align_items": null,
            "align_self": null,
            "border": null,
            "bottom": null,
            "display": null,
            "flex": null,
            "flex_flow": null,
            "grid_area": null,
            "grid_auto_columns": null,
            "grid_auto_flow": null,
            "grid_auto_rows": null,
            "grid_column": null,
            "grid_gap": null,
            "grid_row": null,
            "grid_template_areas": null,
            "grid_template_columns": null,
            "grid_template_rows": null,
            "height": null,
            "justify_content": null,
            "justify_items": null,
            "left": null,
            "margin": null,
            "max_height": null,
            "max_width": null,
            "min_height": null,
            "min_width": null,
            "object_fit": null,
            "object_position": null,
            "order": null,
            "overflow": null,
            "overflow_x": null,
            "overflow_y": null,
            "padding": null,
            "right": null,
            "top": null,
            "visibility": null,
            "width": null
          }
        },
        "e7f4db89365c409789e57c6409add416": {
          "model_module": "@jupyter-widgets/controls",
          "model_name": "ProgressStyleModel",
          "model_module_version": "1.5.0",
          "state": {
            "_model_module": "@jupyter-widgets/controls",
            "_model_module_version": "1.5.0",
            "_model_name": "ProgressStyleModel",
            "_view_count": null,
            "_view_module": "@jupyter-widgets/base",
            "_view_module_version": "1.2.0",
            "_view_name": "StyleView",
            "bar_color": null,
            "description_width": ""
          }
        },
        "39e06e253e6f4d0b8d52349140e8fcdf": {
          "model_module": "@jupyter-widgets/base",
          "model_name": "LayoutModel",
          "model_module_version": "1.2.0",
          "state": {
            "_model_module": "@jupyter-widgets/base",
            "_model_module_version": "1.2.0",
            "_model_name": "LayoutModel",
            "_view_count": null,
            "_view_module": "@jupyter-widgets/base",
            "_view_module_version": "1.2.0",
            "_view_name": "LayoutView",
            "align_content": null,
            "align_items": null,
            "align_self": null,
            "border": null,
            "bottom": null,
            "display": null,
            "flex": null,
            "flex_flow": null,
            "grid_area": null,
            "grid_auto_columns": null,
            "grid_auto_flow": null,
            "grid_auto_rows": null,
            "grid_column": null,
            "grid_gap": null,
            "grid_row": null,
            "grid_template_areas": null,
            "grid_template_columns": null,
            "grid_template_rows": null,
            "height": null,
            "justify_content": null,
            "justify_items": null,
            "left": null,
            "margin": null,
            "max_height": null,
            "max_width": null,
            "min_height": null,
            "min_width": null,
            "object_fit": null,
            "object_position": null,
            "order": null,
            "overflow": null,
            "overflow_x": null,
            "overflow_y": null,
            "padding": null,
            "right": null,
            "top": null,
            "visibility": null,
            "width": null
          }
        },
        "60b98005d162450d87601cb22adf4a7e": {
          "model_module": "@jupyter-widgets/controls",
          "model_name": "DescriptionStyleModel",
          "model_module_version": "1.5.0",
          "state": {
            "_model_module": "@jupyter-widgets/controls",
            "_model_module_version": "1.5.0",
            "_model_name": "DescriptionStyleModel",
            "_view_count": null,
            "_view_module": "@jupyter-widgets/base",
            "_view_module_version": "1.2.0",
            "_view_name": "StyleView",
            "description_width": ""
          }
        }
      }
    }
  },
  "nbformat": 4,
  "nbformat_minor": 0
}